{
  "nbformat": 4,
  "nbformat_minor": 0,
  "metadata": {
    "colab": {
      "provenance": [],
      "authorship_tag": "ABX9TyNAI3JmN5pcYVTfwEU3a4J+",
      "include_colab_link": true
    },
    "kernelspec": {
      "name": "python3",
      "display_name": "Python 3"
    },
    "language_info": {
      "name": "python"
    }
  },
  "cells": [
    {
      "cell_type": "markdown",
      "metadata": {
        "id": "view-in-github",
        "colab_type": "text"
      },
      "source": [
        "<a href=\"https://colab.research.google.com/github/rosariorogel/DataSciencieRRS/blob/main/Ejercicio_Numpy_ROGEL.ipynb\" target=\"_parent\"><img src=\"https://colab.research.google.com/assets/colab-badge.svg\" alt=\"Open In Colab\"/></a>"
      ]
    },
    {
      "cell_type": "markdown",
      "source": [
        "# Estadística básica con Numpay"
      ],
      "metadata": {
        "id": "-3BM8Wixy95p"
      }
    },
    {
      "cell_type": "markdown",
      "source": [
        "En esta sesión cubriremos los siguientes conceptos de estadística:\n",
        "\n",
        "1. Media\n",
        "2. Mediana\n",
        "3. Percentiles\n",
        "4. Rango intercuartil\n",
        "5. Valores atípicos\n",
        "6. Desviación estándar"
      ],
      "metadata": {
        "id": "8-nU2VW71xKF"
      }
    },
    {
      "cell_type": "code",
      "source": [
        "#Para instalar Numpay usar el siguiente código. NO es necesario en Google Colab\n",
        "!pip install numpy"
      ],
      "metadata": {
        "colab": {
          "base_uri": "https://localhost:8080/"
        },
        "id": "cBD5dik20CEX",
        "outputId": "8765dfa1-2aab-4481-8dee-b41bcb221b26"
      },
      "execution_count": null,
      "outputs": [
        {
          "output_type": "stream",
          "name": "stdout",
          "text": [
            "Requirement already satisfied: numpy in /usr/local/lib/python3.10/dist-packages (1.23.5)\n"
          ]
        }
      ]
    },
    {
      "cell_type": "code",
      "source": [
        "#Aquí estamos importando las bibliotecas que se van a utilizar en este ejercicio\n",
        "import numpy as np\n",
        "import pandas as pd\n",
        "import matplotlib.pyplot as plt\n",
        "import seaborn as sns"
      ],
      "metadata": {
        "id": "Pa59U9NGzE4e"
      },
      "execution_count": null,
      "outputs": []
    },
    {
      "cell_type": "markdown",
      "source": [
        "## Cargando el dataset\n",
        "Utilizaremos el dataset de la información del Titanic"
      ],
      "metadata": {
        "id": "xUBldPgX3cZF"
      }
    },
    {
      "cell_type": "code",
      "source": [
        "#Aquí estoy trayendo un dataset, se usa el signo ! para \"ejecutar un comando\", --no- para que no se haga algo, -O (es una o mayúscula) y es para decirle \"out put\" y el nombre de como quiero que se llame el dataset\n",
        "!wget --no-check-certificate https://catalabs.mx/datasets/titanic.csv -O titanic.csv"
      ],
      "metadata": {
        "colab": {
          "base_uri": "https://localhost:8080/"
        },
        "id": "ivIg4ZhK3wcG",
        "outputId": "ef78d42c-d797-4ce8-ef7d-437360cb2d99"
      },
      "execution_count": null,
      "outputs": [
        {
          "output_type": "stream",
          "name": "stdout",
          "text": [
            "--2023-12-16 17:41:35--  https://catalabs.mx/datasets/titanic.csv\n",
            "Resolving catalabs.mx (catalabs.mx)... 174.136.30.149\n",
            "Connecting to catalabs.mx (catalabs.mx)|174.136.30.149|:443... connected.\n",
            "HTTP request sent, awaiting response... 200 OK\n",
            "Length: 60302 (59K) [text/csv]\n",
            "Saving to: ‘titanic.csv’\n",
            "\n",
            "\rtitanic.csv           0%[                    ]       0  --.-KB/s               \rtitanic.csv         100%[===================>]  58.89K  --.-KB/s    in 0.05s   \n",
            "\n",
            "2023-12-16 17:41:35 (1.17 MB/s) - ‘titanic.csv’ saved [60302/60302]\n",
            "\n"
          ]
        }
      ]
    },
    {
      "cell_type": "code",
      "source": [
        "#Aquí estoy definiendo el nombre del dataset, que aquí es df_titanic\n",
        "df_titanic = pd.read_csv(\"titanic.csv\")"
      ],
      "metadata": {
        "id": "fJW5ayqD7hXX"
      },
      "execution_count": null,
      "outputs": []
    },
    {
      "cell_type": "code",
      "source": [
        "#Aquí con \"head\" y paréntesis vacíos le digo que me despliegue los primeros cinco registros del dataset\n",
        "df_titanic.head()"
      ],
      "metadata": {
        "colab": {
          "base_uri": "https://localhost:8080/",
          "height": 258
        },
        "id": "Icmum2Z-8Ss1",
        "outputId": "b2e56689-7d17-4b7e-cab5-d18330973ac3"
      },
      "execution_count": null,
      "outputs": [
        {
          "output_type": "execute_result",
          "data": {
            "text/plain": [
              "   PassengerId  Survived  Pclass  \\\n",
              "0            1         0       3   \n",
              "1            2         1       1   \n",
              "2            3         1       3   \n",
              "3            4         1       1   \n",
              "4            5         0       3   \n",
              "\n",
              "                                                Name     Sex   Age  SibSp  \\\n",
              "0                            Braund, Mr. Owen Harris    male  22.0      1   \n",
              "1  Cumings, Mrs. John Bradley (Florence Briggs Th...  female  38.0      1   \n",
              "2                             Heikkinen, Miss. Laina  female  26.0      0   \n",
              "3       Futrelle, Mrs. Jacques Heath (Lily May Peel)  female  35.0      1   \n",
              "4                           Allen, Mr. William Henry    male  35.0      0   \n",
              "\n",
              "   Parch            Ticket     Fare Cabin Embarked  \n",
              "0      0         A/5 21171   7.2500   NaN        S  \n",
              "1      0          PC 17599  71.2833   C85        C  \n",
              "2      0  STON/O2. 3101282   7.9250   NaN        S  \n",
              "3      0            113803  53.1000  C123        S  \n",
              "4      0            373450   8.0500   NaN        S  "
            ],
            "text/html": [
              "\n",
              "  <div id=\"df-9e243452-b80a-4fa5-96f3-c029b868e525\" class=\"colab-df-container\">\n",
              "    <div>\n",
              "<style scoped>\n",
              "    .dataframe tbody tr th:only-of-type {\n",
              "        vertical-align: middle;\n",
              "    }\n",
              "\n",
              "    .dataframe tbody tr th {\n",
              "        vertical-align: top;\n",
              "    }\n",
              "\n",
              "    .dataframe thead th {\n",
              "        text-align: right;\n",
              "    }\n",
              "</style>\n",
              "<table border=\"1\" class=\"dataframe\">\n",
              "  <thead>\n",
              "    <tr style=\"text-align: right;\">\n",
              "      <th></th>\n",
              "      <th>PassengerId</th>\n",
              "      <th>Survived</th>\n",
              "      <th>Pclass</th>\n",
              "      <th>Name</th>\n",
              "      <th>Sex</th>\n",
              "      <th>Age</th>\n",
              "      <th>SibSp</th>\n",
              "      <th>Parch</th>\n",
              "      <th>Ticket</th>\n",
              "      <th>Fare</th>\n",
              "      <th>Cabin</th>\n",
              "      <th>Embarked</th>\n",
              "    </tr>\n",
              "  </thead>\n",
              "  <tbody>\n",
              "    <tr>\n",
              "      <th>0</th>\n",
              "      <td>1</td>\n",
              "      <td>0</td>\n",
              "      <td>3</td>\n",
              "      <td>Braund, Mr. Owen Harris</td>\n",
              "      <td>male</td>\n",
              "      <td>22.0</td>\n",
              "      <td>1</td>\n",
              "      <td>0</td>\n",
              "      <td>A/5 21171</td>\n",
              "      <td>7.2500</td>\n",
              "      <td>NaN</td>\n",
              "      <td>S</td>\n",
              "    </tr>\n",
              "    <tr>\n",
              "      <th>1</th>\n",
              "      <td>2</td>\n",
              "      <td>1</td>\n",
              "      <td>1</td>\n",
              "      <td>Cumings, Mrs. John Bradley (Florence Briggs Th...</td>\n",
              "      <td>female</td>\n",
              "      <td>38.0</td>\n",
              "      <td>1</td>\n",
              "      <td>0</td>\n",
              "      <td>PC 17599</td>\n",
              "      <td>71.2833</td>\n",
              "      <td>C85</td>\n",
              "      <td>C</td>\n",
              "    </tr>\n",
              "    <tr>\n",
              "      <th>2</th>\n",
              "      <td>3</td>\n",
              "      <td>1</td>\n",
              "      <td>3</td>\n",
              "      <td>Heikkinen, Miss. Laina</td>\n",
              "      <td>female</td>\n",
              "      <td>26.0</td>\n",
              "      <td>0</td>\n",
              "      <td>0</td>\n",
              "      <td>STON/O2. 3101282</td>\n",
              "      <td>7.9250</td>\n",
              "      <td>NaN</td>\n",
              "      <td>S</td>\n",
              "    </tr>\n",
              "    <tr>\n",
              "      <th>3</th>\n",
              "      <td>4</td>\n",
              "      <td>1</td>\n",
              "      <td>1</td>\n",
              "      <td>Futrelle, Mrs. Jacques Heath (Lily May Peel)</td>\n",
              "      <td>female</td>\n",
              "      <td>35.0</td>\n",
              "      <td>1</td>\n",
              "      <td>0</td>\n",
              "      <td>113803</td>\n",
              "      <td>53.1000</td>\n",
              "      <td>C123</td>\n",
              "      <td>S</td>\n",
              "    </tr>\n",
              "    <tr>\n",
              "      <th>4</th>\n",
              "      <td>5</td>\n",
              "      <td>0</td>\n",
              "      <td>3</td>\n",
              "      <td>Allen, Mr. William Henry</td>\n",
              "      <td>male</td>\n",
              "      <td>35.0</td>\n",
              "      <td>0</td>\n",
              "      <td>0</td>\n",
              "      <td>373450</td>\n",
              "      <td>8.0500</td>\n",
              "      <td>NaN</td>\n",
              "      <td>S</td>\n",
              "    </tr>\n",
              "  </tbody>\n",
              "</table>\n",
              "</div>\n",
              "    <div class=\"colab-df-buttons\">\n",
              "\n",
              "  <div class=\"colab-df-container\">\n",
              "    <button class=\"colab-df-convert\" onclick=\"convertToInteractive('df-9e243452-b80a-4fa5-96f3-c029b868e525')\"\n",
              "            title=\"Convert this dataframe to an interactive table.\"\n",
              "            style=\"display:none;\">\n",
              "\n",
              "  <svg xmlns=\"http://www.w3.org/2000/svg\" height=\"24px\" viewBox=\"0 -960 960 960\">\n",
              "    <path d=\"M120-120v-720h720v720H120Zm60-500h600v-160H180v160Zm220 220h160v-160H400v160Zm0 220h160v-160H400v160ZM180-400h160v-160H180v160Zm440 0h160v-160H620v160ZM180-180h160v-160H180v160Zm440 0h160v-160H620v160Z\"/>\n",
              "  </svg>\n",
              "    </button>\n",
              "\n",
              "  <style>\n",
              "    .colab-df-container {\n",
              "      display:flex;\n",
              "      gap: 12px;\n",
              "    }\n",
              "\n",
              "    .colab-df-convert {\n",
              "      background-color: #E8F0FE;\n",
              "      border: none;\n",
              "      border-radius: 50%;\n",
              "      cursor: pointer;\n",
              "      display: none;\n",
              "      fill: #1967D2;\n",
              "      height: 32px;\n",
              "      padding: 0 0 0 0;\n",
              "      width: 32px;\n",
              "    }\n",
              "\n",
              "    .colab-df-convert:hover {\n",
              "      background-color: #E2EBFA;\n",
              "      box-shadow: 0px 1px 2px rgba(60, 64, 67, 0.3), 0px 1px 3px 1px rgba(60, 64, 67, 0.15);\n",
              "      fill: #174EA6;\n",
              "    }\n",
              "\n",
              "    .colab-df-buttons div {\n",
              "      margin-bottom: 4px;\n",
              "    }\n",
              "\n",
              "    [theme=dark] .colab-df-convert {\n",
              "      background-color: #3B4455;\n",
              "      fill: #D2E3FC;\n",
              "    }\n",
              "\n",
              "    [theme=dark] .colab-df-convert:hover {\n",
              "      background-color: #434B5C;\n",
              "      box-shadow: 0px 1px 3px 1px rgba(0, 0, 0, 0.15);\n",
              "      filter: drop-shadow(0px 1px 2px rgba(0, 0, 0, 0.3));\n",
              "      fill: #FFFFFF;\n",
              "    }\n",
              "  </style>\n",
              "\n",
              "    <script>\n",
              "      const buttonEl =\n",
              "        document.querySelector('#df-9e243452-b80a-4fa5-96f3-c029b868e525 button.colab-df-convert');\n",
              "      buttonEl.style.display =\n",
              "        google.colab.kernel.accessAllowed ? 'block' : 'none';\n",
              "\n",
              "      async function convertToInteractive(key) {\n",
              "        const element = document.querySelector('#df-9e243452-b80a-4fa5-96f3-c029b868e525');\n",
              "        const dataTable =\n",
              "          await google.colab.kernel.invokeFunction('convertToInteractive',\n",
              "                                                    [key], {});\n",
              "        if (!dataTable) return;\n",
              "\n",
              "        const docLinkHtml = 'Like what you see? Visit the ' +\n",
              "          '<a target=\"_blank\" href=https://colab.research.google.com/notebooks/data_table.ipynb>data table notebook</a>'\n",
              "          + ' to learn more about interactive tables.';\n",
              "        element.innerHTML = '';\n",
              "        dataTable['output_type'] = 'display_data';\n",
              "        await google.colab.output.renderOutput(dataTable, element);\n",
              "        const docLink = document.createElement('div');\n",
              "        docLink.innerHTML = docLinkHtml;\n",
              "        element.appendChild(docLink);\n",
              "      }\n",
              "    </script>\n",
              "  </div>\n",
              "\n",
              "\n",
              "<div id=\"df-5f33fd3d-d8b5-41bd-a31f-919368466a4e\">\n",
              "  <button class=\"colab-df-quickchart\" onclick=\"quickchart('df-5f33fd3d-d8b5-41bd-a31f-919368466a4e')\"\n",
              "            title=\"Suggest charts\"\n",
              "            style=\"display:none;\">\n",
              "\n",
              "<svg xmlns=\"http://www.w3.org/2000/svg\" height=\"24px\"viewBox=\"0 0 24 24\"\n",
              "     width=\"24px\">\n",
              "    <g>\n",
              "        <path d=\"M19 3H5c-1.1 0-2 .9-2 2v14c0 1.1.9 2 2 2h14c1.1 0 2-.9 2-2V5c0-1.1-.9-2-2-2zM9 17H7v-7h2v7zm4 0h-2V7h2v10zm4 0h-2v-4h2v4z\"/>\n",
              "    </g>\n",
              "</svg>\n",
              "  </button>\n",
              "\n",
              "<style>\n",
              "  .colab-df-quickchart {\n",
              "      --bg-color: #E8F0FE;\n",
              "      --fill-color: #1967D2;\n",
              "      --hover-bg-color: #E2EBFA;\n",
              "      --hover-fill-color: #174EA6;\n",
              "      --disabled-fill-color: #AAA;\n",
              "      --disabled-bg-color: #DDD;\n",
              "  }\n",
              "\n",
              "  [theme=dark] .colab-df-quickchart {\n",
              "      --bg-color: #3B4455;\n",
              "      --fill-color: #D2E3FC;\n",
              "      --hover-bg-color: #434B5C;\n",
              "      --hover-fill-color: #FFFFFF;\n",
              "      --disabled-bg-color: #3B4455;\n",
              "      --disabled-fill-color: #666;\n",
              "  }\n",
              "\n",
              "  .colab-df-quickchart {\n",
              "    background-color: var(--bg-color);\n",
              "    border: none;\n",
              "    border-radius: 50%;\n",
              "    cursor: pointer;\n",
              "    display: none;\n",
              "    fill: var(--fill-color);\n",
              "    height: 32px;\n",
              "    padding: 0;\n",
              "    width: 32px;\n",
              "  }\n",
              "\n",
              "  .colab-df-quickchart:hover {\n",
              "    background-color: var(--hover-bg-color);\n",
              "    box-shadow: 0 1px 2px rgba(60, 64, 67, 0.3), 0 1px 3px 1px rgba(60, 64, 67, 0.15);\n",
              "    fill: var(--button-hover-fill-color);\n",
              "  }\n",
              "\n",
              "  .colab-df-quickchart-complete:disabled,\n",
              "  .colab-df-quickchart-complete:disabled:hover {\n",
              "    background-color: var(--disabled-bg-color);\n",
              "    fill: var(--disabled-fill-color);\n",
              "    box-shadow: none;\n",
              "  }\n",
              "\n",
              "  .colab-df-spinner {\n",
              "    border: 2px solid var(--fill-color);\n",
              "    border-color: transparent;\n",
              "    border-bottom-color: var(--fill-color);\n",
              "    animation:\n",
              "      spin 1s steps(1) infinite;\n",
              "  }\n",
              "\n",
              "  @keyframes spin {\n",
              "    0% {\n",
              "      border-color: transparent;\n",
              "      border-bottom-color: var(--fill-color);\n",
              "      border-left-color: var(--fill-color);\n",
              "    }\n",
              "    20% {\n",
              "      border-color: transparent;\n",
              "      border-left-color: var(--fill-color);\n",
              "      border-top-color: var(--fill-color);\n",
              "    }\n",
              "    30% {\n",
              "      border-color: transparent;\n",
              "      border-left-color: var(--fill-color);\n",
              "      border-top-color: var(--fill-color);\n",
              "      border-right-color: var(--fill-color);\n",
              "    }\n",
              "    40% {\n",
              "      border-color: transparent;\n",
              "      border-right-color: var(--fill-color);\n",
              "      border-top-color: var(--fill-color);\n",
              "    }\n",
              "    60% {\n",
              "      border-color: transparent;\n",
              "      border-right-color: var(--fill-color);\n",
              "    }\n",
              "    80% {\n",
              "      border-color: transparent;\n",
              "      border-right-color: var(--fill-color);\n",
              "      border-bottom-color: var(--fill-color);\n",
              "    }\n",
              "    90% {\n",
              "      border-color: transparent;\n",
              "      border-bottom-color: var(--fill-color);\n",
              "    }\n",
              "  }\n",
              "</style>\n",
              "\n",
              "  <script>\n",
              "    async function quickchart(key) {\n",
              "      const quickchartButtonEl =\n",
              "        document.querySelector('#' + key + ' button');\n",
              "      quickchartButtonEl.disabled = true;  // To prevent multiple clicks.\n",
              "      quickchartButtonEl.classList.add('colab-df-spinner');\n",
              "      try {\n",
              "        const charts = await google.colab.kernel.invokeFunction(\n",
              "            'suggestCharts', [key], {});\n",
              "      } catch (error) {\n",
              "        console.error('Error during call to suggestCharts:', error);\n",
              "      }\n",
              "      quickchartButtonEl.classList.remove('colab-df-spinner');\n",
              "      quickchartButtonEl.classList.add('colab-df-quickchart-complete');\n",
              "    }\n",
              "    (() => {\n",
              "      let quickchartButtonEl =\n",
              "        document.querySelector('#df-5f33fd3d-d8b5-41bd-a31f-919368466a4e button');\n",
              "      quickchartButtonEl.style.display =\n",
              "        google.colab.kernel.accessAllowed ? 'block' : 'none';\n",
              "    })();\n",
              "  </script>\n",
              "</div>\n",
              "\n",
              "    </div>\n",
              "  </div>\n"
            ]
          },
          "metadata": {},
          "execution_count": 18
        }
      ]
    },
    {
      "cell_type": "code",
      "source": [
        "#Aquí con \"tail\" y paréntesis vacíos le digo que me despliegue los últimos cinco registros del dataset\n",
        "df_titanic.tail()"
      ],
      "metadata": {
        "colab": {
          "base_uri": "https://localhost:8080/",
          "height": 224
        },
        "id": "zH2OGQhs8reQ",
        "outputId": "49a9ebe2-e284-45cd-9339-69f2b358b0b7"
      },
      "execution_count": null,
      "outputs": [
        {
          "output_type": "execute_result",
          "data": {
            "text/plain": [
              "     PassengerId  Survived  Pclass                                      Name  \\\n",
              "886          887         0       2                     Montvila, Rev. Juozas   \n",
              "887          888         1       1              Graham, Miss. Margaret Edith   \n",
              "888          889         0       3  Johnston, Miss. Catherine Helen \"Carrie\"   \n",
              "889          890         1       1                     Behr, Mr. Karl Howell   \n",
              "890          891         0       3                       Dooley, Mr. Patrick   \n",
              "\n",
              "        Sex   Age  SibSp  Parch      Ticket   Fare Cabin Embarked  \n",
              "886    male  27.0      0      0      211536  13.00   NaN        S  \n",
              "887  female  19.0      0      0      112053  30.00   B42        S  \n",
              "888  female   NaN      1      2  W./C. 6607  23.45   NaN        S  \n",
              "889    male  26.0      0      0      111369  30.00  C148        C  \n",
              "890    male  32.0      0      0      370376   7.75   NaN        Q  "
            ],
            "text/html": [
              "\n",
              "  <div id=\"df-f353fef5-0fe6-4096-9543-9ebf745903bc\" class=\"colab-df-container\">\n",
              "    <div>\n",
              "<style scoped>\n",
              "    .dataframe tbody tr th:only-of-type {\n",
              "        vertical-align: middle;\n",
              "    }\n",
              "\n",
              "    .dataframe tbody tr th {\n",
              "        vertical-align: top;\n",
              "    }\n",
              "\n",
              "    .dataframe thead th {\n",
              "        text-align: right;\n",
              "    }\n",
              "</style>\n",
              "<table border=\"1\" class=\"dataframe\">\n",
              "  <thead>\n",
              "    <tr style=\"text-align: right;\">\n",
              "      <th></th>\n",
              "      <th>PassengerId</th>\n",
              "      <th>Survived</th>\n",
              "      <th>Pclass</th>\n",
              "      <th>Name</th>\n",
              "      <th>Sex</th>\n",
              "      <th>Age</th>\n",
              "      <th>SibSp</th>\n",
              "      <th>Parch</th>\n",
              "      <th>Ticket</th>\n",
              "      <th>Fare</th>\n",
              "      <th>Cabin</th>\n",
              "      <th>Embarked</th>\n",
              "    </tr>\n",
              "  </thead>\n",
              "  <tbody>\n",
              "    <tr>\n",
              "      <th>886</th>\n",
              "      <td>887</td>\n",
              "      <td>0</td>\n",
              "      <td>2</td>\n",
              "      <td>Montvila, Rev. Juozas</td>\n",
              "      <td>male</td>\n",
              "      <td>27.0</td>\n",
              "      <td>0</td>\n",
              "      <td>0</td>\n",
              "      <td>211536</td>\n",
              "      <td>13.00</td>\n",
              "      <td>NaN</td>\n",
              "      <td>S</td>\n",
              "    </tr>\n",
              "    <tr>\n",
              "      <th>887</th>\n",
              "      <td>888</td>\n",
              "      <td>1</td>\n",
              "      <td>1</td>\n",
              "      <td>Graham, Miss. Margaret Edith</td>\n",
              "      <td>female</td>\n",
              "      <td>19.0</td>\n",
              "      <td>0</td>\n",
              "      <td>0</td>\n",
              "      <td>112053</td>\n",
              "      <td>30.00</td>\n",
              "      <td>B42</td>\n",
              "      <td>S</td>\n",
              "    </tr>\n",
              "    <tr>\n",
              "      <th>888</th>\n",
              "      <td>889</td>\n",
              "      <td>0</td>\n",
              "      <td>3</td>\n",
              "      <td>Johnston, Miss. Catherine Helen \"Carrie\"</td>\n",
              "      <td>female</td>\n",
              "      <td>NaN</td>\n",
              "      <td>1</td>\n",
              "      <td>2</td>\n",
              "      <td>W./C. 6607</td>\n",
              "      <td>23.45</td>\n",
              "      <td>NaN</td>\n",
              "      <td>S</td>\n",
              "    </tr>\n",
              "    <tr>\n",
              "      <th>889</th>\n",
              "      <td>890</td>\n",
              "      <td>1</td>\n",
              "      <td>1</td>\n",
              "      <td>Behr, Mr. Karl Howell</td>\n",
              "      <td>male</td>\n",
              "      <td>26.0</td>\n",
              "      <td>0</td>\n",
              "      <td>0</td>\n",
              "      <td>111369</td>\n",
              "      <td>30.00</td>\n",
              "      <td>C148</td>\n",
              "      <td>C</td>\n",
              "    </tr>\n",
              "    <tr>\n",
              "      <th>890</th>\n",
              "      <td>891</td>\n",
              "      <td>0</td>\n",
              "      <td>3</td>\n",
              "      <td>Dooley, Mr. Patrick</td>\n",
              "      <td>male</td>\n",
              "      <td>32.0</td>\n",
              "      <td>0</td>\n",
              "      <td>0</td>\n",
              "      <td>370376</td>\n",
              "      <td>7.75</td>\n",
              "      <td>NaN</td>\n",
              "      <td>Q</td>\n",
              "    </tr>\n",
              "  </tbody>\n",
              "</table>\n",
              "</div>\n",
              "    <div class=\"colab-df-buttons\">\n",
              "\n",
              "  <div class=\"colab-df-container\">\n",
              "    <button class=\"colab-df-convert\" onclick=\"convertToInteractive('df-f353fef5-0fe6-4096-9543-9ebf745903bc')\"\n",
              "            title=\"Convert this dataframe to an interactive table.\"\n",
              "            style=\"display:none;\">\n",
              "\n",
              "  <svg xmlns=\"http://www.w3.org/2000/svg\" height=\"24px\" viewBox=\"0 -960 960 960\">\n",
              "    <path d=\"M120-120v-720h720v720H120Zm60-500h600v-160H180v160Zm220 220h160v-160H400v160Zm0 220h160v-160H400v160ZM180-400h160v-160H180v160Zm440 0h160v-160H620v160ZM180-180h160v-160H180v160Zm440 0h160v-160H620v160Z\"/>\n",
              "  </svg>\n",
              "    </button>\n",
              "\n",
              "  <style>\n",
              "    .colab-df-container {\n",
              "      display:flex;\n",
              "      gap: 12px;\n",
              "    }\n",
              "\n",
              "    .colab-df-convert {\n",
              "      background-color: #E8F0FE;\n",
              "      border: none;\n",
              "      border-radius: 50%;\n",
              "      cursor: pointer;\n",
              "      display: none;\n",
              "      fill: #1967D2;\n",
              "      height: 32px;\n",
              "      padding: 0 0 0 0;\n",
              "      width: 32px;\n",
              "    }\n",
              "\n",
              "    .colab-df-convert:hover {\n",
              "      background-color: #E2EBFA;\n",
              "      box-shadow: 0px 1px 2px rgba(60, 64, 67, 0.3), 0px 1px 3px 1px rgba(60, 64, 67, 0.15);\n",
              "      fill: #174EA6;\n",
              "    }\n",
              "\n",
              "    .colab-df-buttons div {\n",
              "      margin-bottom: 4px;\n",
              "    }\n",
              "\n",
              "    [theme=dark] .colab-df-convert {\n",
              "      background-color: #3B4455;\n",
              "      fill: #D2E3FC;\n",
              "    }\n",
              "\n",
              "    [theme=dark] .colab-df-convert:hover {\n",
              "      background-color: #434B5C;\n",
              "      box-shadow: 0px 1px 3px 1px rgba(0, 0, 0, 0.15);\n",
              "      filter: drop-shadow(0px 1px 2px rgba(0, 0, 0, 0.3));\n",
              "      fill: #FFFFFF;\n",
              "    }\n",
              "  </style>\n",
              "\n",
              "    <script>\n",
              "      const buttonEl =\n",
              "        document.querySelector('#df-f353fef5-0fe6-4096-9543-9ebf745903bc button.colab-df-convert');\n",
              "      buttonEl.style.display =\n",
              "        google.colab.kernel.accessAllowed ? 'block' : 'none';\n",
              "\n",
              "      async function convertToInteractive(key) {\n",
              "        const element = document.querySelector('#df-f353fef5-0fe6-4096-9543-9ebf745903bc');\n",
              "        const dataTable =\n",
              "          await google.colab.kernel.invokeFunction('convertToInteractive',\n",
              "                                                    [key], {});\n",
              "        if (!dataTable) return;\n",
              "\n",
              "        const docLinkHtml = 'Like what you see? Visit the ' +\n",
              "          '<a target=\"_blank\" href=https://colab.research.google.com/notebooks/data_table.ipynb>data table notebook</a>'\n",
              "          + ' to learn more about interactive tables.';\n",
              "        element.innerHTML = '';\n",
              "        dataTable['output_type'] = 'display_data';\n",
              "        await google.colab.output.renderOutput(dataTable, element);\n",
              "        const docLink = document.createElement('div');\n",
              "        docLink.innerHTML = docLinkHtml;\n",
              "        element.appendChild(docLink);\n",
              "      }\n",
              "    </script>\n",
              "  </div>\n",
              "\n",
              "\n",
              "<div id=\"df-0dbdeb7b-fc05-4299-a208-0c64158b57f9\">\n",
              "  <button class=\"colab-df-quickchart\" onclick=\"quickchart('df-0dbdeb7b-fc05-4299-a208-0c64158b57f9')\"\n",
              "            title=\"Suggest charts\"\n",
              "            style=\"display:none;\">\n",
              "\n",
              "<svg xmlns=\"http://www.w3.org/2000/svg\" height=\"24px\"viewBox=\"0 0 24 24\"\n",
              "     width=\"24px\">\n",
              "    <g>\n",
              "        <path d=\"M19 3H5c-1.1 0-2 .9-2 2v14c0 1.1.9 2 2 2h14c1.1 0 2-.9 2-2V5c0-1.1-.9-2-2-2zM9 17H7v-7h2v7zm4 0h-2V7h2v10zm4 0h-2v-4h2v4z\"/>\n",
              "    </g>\n",
              "</svg>\n",
              "  </button>\n",
              "\n",
              "<style>\n",
              "  .colab-df-quickchart {\n",
              "      --bg-color: #E8F0FE;\n",
              "      --fill-color: #1967D2;\n",
              "      --hover-bg-color: #E2EBFA;\n",
              "      --hover-fill-color: #174EA6;\n",
              "      --disabled-fill-color: #AAA;\n",
              "      --disabled-bg-color: #DDD;\n",
              "  }\n",
              "\n",
              "  [theme=dark] .colab-df-quickchart {\n",
              "      --bg-color: #3B4455;\n",
              "      --fill-color: #D2E3FC;\n",
              "      --hover-bg-color: #434B5C;\n",
              "      --hover-fill-color: #FFFFFF;\n",
              "      --disabled-bg-color: #3B4455;\n",
              "      --disabled-fill-color: #666;\n",
              "  }\n",
              "\n",
              "  .colab-df-quickchart {\n",
              "    background-color: var(--bg-color);\n",
              "    border: none;\n",
              "    border-radius: 50%;\n",
              "    cursor: pointer;\n",
              "    display: none;\n",
              "    fill: var(--fill-color);\n",
              "    height: 32px;\n",
              "    padding: 0;\n",
              "    width: 32px;\n",
              "  }\n",
              "\n",
              "  .colab-df-quickchart:hover {\n",
              "    background-color: var(--hover-bg-color);\n",
              "    box-shadow: 0 1px 2px rgba(60, 64, 67, 0.3), 0 1px 3px 1px rgba(60, 64, 67, 0.15);\n",
              "    fill: var(--button-hover-fill-color);\n",
              "  }\n",
              "\n",
              "  .colab-df-quickchart-complete:disabled,\n",
              "  .colab-df-quickchart-complete:disabled:hover {\n",
              "    background-color: var(--disabled-bg-color);\n",
              "    fill: var(--disabled-fill-color);\n",
              "    box-shadow: none;\n",
              "  }\n",
              "\n",
              "  .colab-df-spinner {\n",
              "    border: 2px solid var(--fill-color);\n",
              "    border-color: transparent;\n",
              "    border-bottom-color: var(--fill-color);\n",
              "    animation:\n",
              "      spin 1s steps(1) infinite;\n",
              "  }\n",
              "\n",
              "  @keyframes spin {\n",
              "    0% {\n",
              "      border-color: transparent;\n",
              "      border-bottom-color: var(--fill-color);\n",
              "      border-left-color: var(--fill-color);\n",
              "    }\n",
              "    20% {\n",
              "      border-color: transparent;\n",
              "      border-left-color: var(--fill-color);\n",
              "      border-top-color: var(--fill-color);\n",
              "    }\n",
              "    30% {\n",
              "      border-color: transparent;\n",
              "      border-left-color: var(--fill-color);\n",
              "      border-top-color: var(--fill-color);\n",
              "      border-right-color: var(--fill-color);\n",
              "    }\n",
              "    40% {\n",
              "      border-color: transparent;\n",
              "      border-right-color: var(--fill-color);\n",
              "      border-top-color: var(--fill-color);\n",
              "    }\n",
              "    60% {\n",
              "      border-color: transparent;\n",
              "      border-right-color: var(--fill-color);\n",
              "    }\n",
              "    80% {\n",
              "      border-color: transparent;\n",
              "      border-right-color: var(--fill-color);\n",
              "      border-bottom-color: var(--fill-color);\n",
              "    }\n",
              "    90% {\n",
              "      border-color: transparent;\n",
              "      border-bottom-color: var(--fill-color);\n",
              "    }\n",
              "  }\n",
              "</style>\n",
              "\n",
              "  <script>\n",
              "    async function quickchart(key) {\n",
              "      const quickchartButtonEl =\n",
              "        document.querySelector('#' + key + ' button');\n",
              "      quickchartButtonEl.disabled = true;  // To prevent multiple clicks.\n",
              "      quickchartButtonEl.classList.add('colab-df-spinner');\n",
              "      try {\n",
              "        const charts = await google.colab.kernel.invokeFunction(\n",
              "            'suggestCharts', [key], {});\n",
              "      } catch (error) {\n",
              "        console.error('Error during call to suggestCharts:', error);\n",
              "      }\n",
              "      quickchartButtonEl.classList.remove('colab-df-spinner');\n",
              "      quickchartButtonEl.classList.add('colab-df-quickchart-complete');\n",
              "    }\n",
              "    (() => {\n",
              "      let quickchartButtonEl =\n",
              "        document.querySelector('#df-0dbdeb7b-fc05-4299-a208-0c64158b57f9 button');\n",
              "      quickchartButtonEl.style.display =\n",
              "        google.colab.kernel.accessAllowed ? 'block' : 'none';\n",
              "    })();\n",
              "  </script>\n",
              "</div>\n",
              "\n",
              "    </div>\n",
              "  </div>\n"
            ]
          },
          "metadata": {},
          "execution_count": 19
        }
      ]
    },
    {
      "cell_type": "code",
      "source": [
        "#Con \"describe\" le digo que me genere las estadísticas descriptivas básicas generalespara todas las variables del dataset y las gráficas correspondientes\n",
        "df_titanic.describe()"
      ],
      "metadata": {
        "colab": {
          "base_uri": "https://localhost:8080/",
          "height": 300
        },
        "id": "U525ffGg9buB",
        "outputId": "45366fe9-1f05-4091-a920-51f345b4e109"
      },
      "execution_count": null,
      "outputs": [
        {
          "output_type": "execute_result",
          "data": {
            "text/plain": [
              "       PassengerId    Survived      Pclass         Age       SibSp  \\\n",
              "count   891.000000  891.000000  891.000000  714.000000  891.000000   \n",
              "mean    446.000000    0.383838    2.308642   29.699118    0.523008   \n",
              "std     257.353842    0.486592    0.836071   14.526497    1.102743   \n",
              "min       1.000000    0.000000    1.000000    0.420000    0.000000   \n",
              "25%     223.500000    0.000000    2.000000   20.125000    0.000000   \n",
              "50%     446.000000    0.000000    3.000000   28.000000    0.000000   \n",
              "75%     668.500000    1.000000    3.000000   38.000000    1.000000   \n",
              "max     891.000000    1.000000    3.000000   80.000000    8.000000   \n",
              "\n",
              "            Parch        Fare  \n",
              "count  891.000000  891.000000  \n",
              "mean     0.381594   32.204208  \n",
              "std      0.806057   49.693429  \n",
              "min      0.000000    0.000000  \n",
              "25%      0.000000    7.910400  \n",
              "50%      0.000000   14.454200  \n",
              "75%      0.000000   31.000000  \n",
              "max      6.000000  512.329200  "
            ],
            "text/html": [
              "\n",
              "  <div id=\"df-70497b75-ff80-48b8-a5c3-436a73a39973\" class=\"colab-df-container\">\n",
              "    <div>\n",
              "<style scoped>\n",
              "    .dataframe tbody tr th:only-of-type {\n",
              "        vertical-align: middle;\n",
              "    }\n",
              "\n",
              "    .dataframe tbody tr th {\n",
              "        vertical-align: top;\n",
              "    }\n",
              "\n",
              "    .dataframe thead th {\n",
              "        text-align: right;\n",
              "    }\n",
              "</style>\n",
              "<table border=\"1\" class=\"dataframe\">\n",
              "  <thead>\n",
              "    <tr style=\"text-align: right;\">\n",
              "      <th></th>\n",
              "      <th>PassengerId</th>\n",
              "      <th>Survived</th>\n",
              "      <th>Pclass</th>\n",
              "      <th>Age</th>\n",
              "      <th>SibSp</th>\n",
              "      <th>Parch</th>\n",
              "      <th>Fare</th>\n",
              "    </tr>\n",
              "  </thead>\n",
              "  <tbody>\n",
              "    <tr>\n",
              "      <th>count</th>\n",
              "      <td>891.000000</td>\n",
              "      <td>891.000000</td>\n",
              "      <td>891.000000</td>\n",
              "      <td>714.000000</td>\n",
              "      <td>891.000000</td>\n",
              "      <td>891.000000</td>\n",
              "      <td>891.000000</td>\n",
              "    </tr>\n",
              "    <tr>\n",
              "      <th>mean</th>\n",
              "      <td>446.000000</td>\n",
              "      <td>0.383838</td>\n",
              "      <td>2.308642</td>\n",
              "      <td>29.699118</td>\n",
              "      <td>0.523008</td>\n",
              "      <td>0.381594</td>\n",
              "      <td>32.204208</td>\n",
              "    </tr>\n",
              "    <tr>\n",
              "      <th>std</th>\n",
              "      <td>257.353842</td>\n",
              "      <td>0.486592</td>\n",
              "      <td>0.836071</td>\n",
              "      <td>14.526497</td>\n",
              "      <td>1.102743</td>\n",
              "      <td>0.806057</td>\n",
              "      <td>49.693429</td>\n",
              "    </tr>\n",
              "    <tr>\n",
              "      <th>min</th>\n",
              "      <td>1.000000</td>\n",
              "      <td>0.000000</td>\n",
              "      <td>1.000000</td>\n",
              "      <td>0.420000</td>\n",
              "      <td>0.000000</td>\n",
              "      <td>0.000000</td>\n",
              "      <td>0.000000</td>\n",
              "    </tr>\n",
              "    <tr>\n",
              "      <th>25%</th>\n",
              "      <td>223.500000</td>\n",
              "      <td>0.000000</td>\n",
              "      <td>2.000000</td>\n",
              "      <td>20.125000</td>\n",
              "      <td>0.000000</td>\n",
              "      <td>0.000000</td>\n",
              "      <td>7.910400</td>\n",
              "    </tr>\n",
              "    <tr>\n",
              "      <th>50%</th>\n",
              "      <td>446.000000</td>\n",
              "      <td>0.000000</td>\n",
              "      <td>3.000000</td>\n",
              "      <td>28.000000</td>\n",
              "      <td>0.000000</td>\n",
              "      <td>0.000000</td>\n",
              "      <td>14.454200</td>\n",
              "    </tr>\n",
              "    <tr>\n",
              "      <th>75%</th>\n",
              "      <td>668.500000</td>\n",
              "      <td>1.000000</td>\n",
              "      <td>3.000000</td>\n",
              "      <td>38.000000</td>\n",
              "      <td>1.000000</td>\n",
              "      <td>0.000000</td>\n",
              "      <td>31.000000</td>\n",
              "    </tr>\n",
              "    <tr>\n",
              "      <th>max</th>\n",
              "      <td>891.000000</td>\n",
              "      <td>1.000000</td>\n",
              "      <td>3.000000</td>\n",
              "      <td>80.000000</td>\n",
              "      <td>8.000000</td>\n",
              "      <td>6.000000</td>\n",
              "      <td>512.329200</td>\n",
              "    </tr>\n",
              "  </tbody>\n",
              "</table>\n",
              "</div>\n",
              "    <div class=\"colab-df-buttons\">\n",
              "\n",
              "  <div class=\"colab-df-container\">\n",
              "    <button class=\"colab-df-convert\" onclick=\"convertToInteractive('df-70497b75-ff80-48b8-a5c3-436a73a39973')\"\n",
              "            title=\"Convert this dataframe to an interactive table.\"\n",
              "            style=\"display:none;\">\n",
              "\n",
              "  <svg xmlns=\"http://www.w3.org/2000/svg\" height=\"24px\" viewBox=\"0 -960 960 960\">\n",
              "    <path d=\"M120-120v-720h720v720H120Zm60-500h600v-160H180v160Zm220 220h160v-160H400v160Zm0 220h160v-160H400v160ZM180-400h160v-160H180v160Zm440 0h160v-160H620v160ZM180-180h160v-160H180v160Zm440 0h160v-160H620v160Z\"/>\n",
              "  </svg>\n",
              "    </button>\n",
              "\n",
              "  <style>\n",
              "    .colab-df-container {\n",
              "      display:flex;\n",
              "      gap: 12px;\n",
              "    }\n",
              "\n",
              "    .colab-df-convert {\n",
              "      background-color: #E8F0FE;\n",
              "      border: none;\n",
              "      border-radius: 50%;\n",
              "      cursor: pointer;\n",
              "      display: none;\n",
              "      fill: #1967D2;\n",
              "      height: 32px;\n",
              "      padding: 0 0 0 0;\n",
              "      width: 32px;\n",
              "    }\n",
              "\n",
              "    .colab-df-convert:hover {\n",
              "      background-color: #E2EBFA;\n",
              "      box-shadow: 0px 1px 2px rgba(60, 64, 67, 0.3), 0px 1px 3px 1px rgba(60, 64, 67, 0.15);\n",
              "      fill: #174EA6;\n",
              "    }\n",
              "\n",
              "    .colab-df-buttons div {\n",
              "      margin-bottom: 4px;\n",
              "    }\n",
              "\n",
              "    [theme=dark] .colab-df-convert {\n",
              "      background-color: #3B4455;\n",
              "      fill: #D2E3FC;\n",
              "    }\n",
              "\n",
              "    [theme=dark] .colab-df-convert:hover {\n",
              "      background-color: #434B5C;\n",
              "      box-shadow: 0px 1px 3px 1px rgba(0, 0, 0, 0.15);\n",
              "      filter: drop-shadow(0px 1px 2px rgba(0, 0, 0, 0.3));\n",
              "      fill: #FFFFFF;\n",
              "    }\n",
              "  </style>\n",
              "\n",
              "    <script>\n",
              "      const buttonEl =\n",
              "        document.querySelector('#df-70497b75-ff80-48b8-a5c3-436a73a39973 button.colab-df-convert');\n",
              "      buttonEl.style.display =\n",
              "        google.colab.kernel.accessAllowed ? 'block' : 'none';\n",
              "\n",
              "      async function convertToInteractive(key) {\n",
              "        const element = document.querySelector('#df-70497b75-ff80-48b8-a5c3-436a73a39973');\n",
              "        const dataTable =\n",
              "          await google.colab.kernel.invokeFunction('convertToInteractive',\n",
              "                                                    [key], {});\n",
              "        if (!dataTable) return;\n",
              "\n",
              "        const docLinkHtml = 'Like what you see? Visit the ' +\n",
              "          '<a target=\"_blank\" href=https://colab.research.google.com/notebooks/data_table.ipynb>data table notebook</a>'\n",
              "          + ' to learn more about interactive tables.';\n",
              "        element.innerHTML = '';\n",
              "        dataTable['output_type'] = 'display_data';\n",
              "        await google.colab.output.renderOutput(dataTable, element);\n",
              "        const docLink = document.createElement('div');\n",
              "        docLink.innerHTML = docLinkHtml;\n",
              "        element.appendChild(docLink);\n",
              "      }\n",
              "    </script>\n",
              "  </div>\n",
              "\n",
              "\n",
              "<div id=\"df-8959116b-4cdc-487c-a48d-4c39bc74be64\">\n",
              "  <button class=\"colab-df-quickchart\" onclick=\"quickchart('df-8959116b-4cdc-487c-a48d-4c39bc74be64')\"\n",
              "            title=\"Suggest charts\"\n",
              "            style=\"display:none;\">\n",
              "\n",
              "<svg xmlns=\"http://www.w3.org/2000/svg\" height=\"24px\"viewBox=\"0 0 24 24\"\n",
              "     width=\"24px\">\n",
              "    <g>\n",
              "        <path d=\"M19 3H5c-1.1 0-2 .9-2 2v14c0 1.1.9 2 2 2h14c1.1 0 2-.9 2-2V5c0-1.1-.9-2-2-2zM9 17H7v-7h2v7zm4 0h-2V7h2v10zm4 0h-2v-4h2v4z\"/>\n",
              "    </g>\n",
              "</svg>\n",
              "  </button>\n",
              "\n",
              "<style>\n",
              "  .colab-df-quickchart {\n",
              "      --bg-color: #E8F0FE;\n",
              "      --fill-color: #1967D2;\n",
              "      --hover-bg-color: #E2EBFA;\n",
              "      --hover-fill-color: #174EA6;\n",
              "      --disabled-fill-color: #AAA;\n",
              "      --disabled-bg-color: #DDD;\n",
              "  }\n",
              "\n",
              "  [theme=dark] .colab-df-quickchart {\n",
              "      --bg-color: #3B4455;\n",
              "      --fill-color: #D2E3FC;\n",
              "      --hover-bg-color: #434B5C;\n",
              "      --hover-fill-color: #FFFFFF;\n",
              "      --disabled-bg-color: #3B4455;\n",
              "      --disabled-fill-color: #666;\n",
              "  }\n",
              "\n",
              "  .colab-df-quickchart {\n",
              "    background-color: var(--bg-color);\n",
              "    border: none;\n",
              "    border-radius: 50%;\n",
              "    cursor: pointer;\n",
              "    display: none;\n",
              "    fill: var(--fill-color);\n",
              "    height: 32px;\n",
              "    padding: 0;\n",
              "    width: 32px;\n",
              "  }\n",
              "\n",
              "  .colab-df-quickchart:hover {\n",
              "    background-color: var(--hover-bg-color);\n",
              "    box-shadow: 0 1px 2px rgba(60, 64, 67, 0.3), 0 1px 3px 1px rgba(60, 64, 67, 0.15);\n",
              "    fill: var(--button-hover-fill-color);\n",
              "  }\n",
              "\n",
              "  .colab-df-quickchart-complete:disabled,\n",
              "  .colab-df-quickchart-complete:disabled:hover {\n",
              "    background-color: var(--disabled-bg-color);\n",
              "    fill: var(--disabled-fill-color);\n",
              "    box-shadow: none;\n",
              "  }\n",
              "\n",
              "  .colab-df-spinner {\n",
              "    border: 2px solid var(--fill-color);\n",
              "    border-color: transparent;\n",
              "    border-bottom-color: var(--fill-color);\n",
              "    animation:\n",
              "      spin 1s steps(1) infinite;\n",
              "  }\n",
              "\n",
              "  @keyframes spin {\n",
              "    0% {\n",
              "      border-color: transparent;\n",
              "      border-bottom-color: var(--fill-color);\n",
              "      border-left-color: var(--fill-color);\n",
              "    }\n",
              "    20% {\n",
              "      border-color: transparent;\n",
              "      border-left-color: var(--fill-color);\n",
              "      border-top-color: var(--fill-color);\n",
              "    }\n",
              "    30% {\n",
              "      border-color: transparent;\n",
              "      border-left-color: var(--fill-color);\n",
              "      border-top-color: var(--fill-color);\n",
              "      border-right-color: var(--fill-color);\n",
              "    }\n",
              "    40% {\n",
              "      border-color: transparent;\n",
              "      border-right-color: var(--fill-color);\n",
              "      border-top-color: var(--fill-color);\n",
              "    }\n",
              "    60% {\n",
              "      border-color: transparent;\n",
              "      border-right-color: var(--fill-color);\n",
              "    }\n",
              "    80% {\n",
              "      border-color: transparent;\n",
              "      border-right-color: var(--fill-color);\n",
              "      border-bottom-color: var(--fill-color);\n",
              "    }\n",
              "    90% {\n",
              "      border-color: transparent;\n",
              "      border-bottom-color: var(--fill-color);\n",
              "    }\n",
              "  }\n",
              "</style>\n",
              "\n",
              "  <script>\n",
              "    async function quickchart(key) {\n",
              "      const quickchartButtonEl =\n",
              "        document.querySelector('#' + key + ' button');\n",
              "      quickchartButtonEl.disabled = true;  // To prevent multiple clicks.\n",
              "      quickchartButtonEl.classList.add('colab-df-spinner');\n",
              "      try {\n",
              "        const charts = await google.colab.kernel.invokeFunction(\n",
              "            'suggestCharts', [key], {});\n",
              "      } catch (error) {\n",
              "        console.error('Error during call to suggestCharts:', error);\n",
              "      }\n",
              "      quickchartButtonEl.classList.remove('colab-df-spinner');\n",
              "      quickchartButtonEl.classList.add('colab-df-quickchart-complete');\n",
              "    }\n",
              "    (() => {\n",
              "      let quickchartButtonEl =\n",
              "        document.querySelector('#df-8959116b-4cdc-487c-a48d-4c39bc74be64 button');\n",
              "      quickchartButtonEl.style.display =\n",
              "        google.colab.kernel.accessAllowed ? 'block' : 'none';\n",
              "    })();\n",
              "  </script>\n",
              "</div>\n",
              "\n",
              "    </div>\n",
              "  </div>\n"
            ]
          },
          "metadata": {},
          "execution_count": 21
        }
      ]
    },
    {
      "cell_type": "code",
      "source": [
        "#En este caso con \"describe\" se generan estadísticas básicas generales para una sola variable, en este caso \"Age\"\n",
        "df_titanic.Age.describe()"
      ],
      "metadata": {
        "colab": {
          "base_uri": "https://localhost:8080/"
        },
        "id": "HZMRzoKn-8xK",
        "outputId": "610d2682-c3f1-4b04-9d25-e0181aa4fe89"
      },
      "execution_count": null,
      "outputs": [
        {
          "output_type": "execute_result",
          "data": {
            "text/plain": [
              "count    714.000000\n",
              "mean      29.699118\n",
              "std       14.526497\n",
              "min        0.420000\n",
              "25%       20.125000\n",
              "50%       28.000000\n",
              "75%       38.000000\n",
              "max       80.000000\n",
              "Name: Age, dtype: float64"
            ]
          },
          "metadata": {},
          "execution_count": 22
        }
      ]
    },
    {
      "cell_type": "code",
      "source": [
        "#En este caso con \"describe\" se generan estadísticas básicas generales para una sola variable, en este caso \"Sex\"\n",
        "df_titanic.Sex.describe()"
      ],
      "metadata": {
        "colab": {
          "base_uri": "https://localhost:8080/"
        },
        "id": "yIiM4x_g_MsX",
        "outputId": "f6484c89-7fbf-4008-fdfc-2aeffb466c14"
      },
      "execution_count": null,
      "outputs": [
        {
          "output_type": "execute_result",
          "data": {
            "text/plain": [
              "count      891\n",
              "unique       2\n",
              "top       male\n",
              "freq       577\n",
              "Name: Sex, dtype: object"
            ]
          },
          "metadata": {},
          "execution_count": 23
        }
      ]
    },
    {
      "cell_type": "code",
      "source": [
        "#Aquí se genera un cálculo conosiderando la edad promedio más 3, entre 14.2 que es la desviación estándar\n",
        "print(29.7+3*14.2)"
      ],
      "metadata": {
        "colab": {
          "base_uri": "https://localhost:8080/"
        },
        "id": "cnXCBliB_bW4",
        "outputId": "29c701f2-8c8e-4eba-ea1c-13230997422c"
      },
      "execution_count": null,
      "outputs": [
        {
          "output_type": "stream",
          "name": "stdout",
          "text": [
            "72.3\n"
          ]
        }
      ]
    },
    {
      "cell_type": "code",
      "source": [
        "# Fija el ancho y alto de la figura en pulgadas con seprador de comas\n",
        "plt.figure(figsize=(14,6))\n",
        "# Agrega título\n",
        "plt.title(\"Edades de los pasajeros\")\n",
        "sns.scatterplot(data=df_titanic.Age)\n",
        "#Agregar un comentario abajo de la gráfica\n",
        "plt.xlabel(\"Id de Pasajero\")"
      ],
      "metadata": {
        "colab": {
          "base_uri": "https://localhost:8080/",
          "height": 532
        },
        "id": "wLuEk708BZne",
        "outputId": "028d137a-3c55-42e9-98b3-5a8b5e6ce7bb"
      },
      "execution_count": null,
      "outputs": [
        {
          "output_type": "execute_result",
          "data": {
            "text/plain": [
              "Text(0.5, 0, 'Id de Pasajero')"
            ]
          },
          "metadata": {},
          "execution_count": 25
        },
        {
          "output_type": "display_data",
          "data": {
            "text/plain": [
              "<Figure size 1400x600 with 1 Axes>"
            ],
            "image/png": "[encoded data removed]"
          },
          "metadata": {}
        }
      ]
    },
    {
      "cell_type": "code",
      "source": [
        "#Con seaborn graficar un histograma de las edades\n",
        "sns.histplot(x=df_titanic.Age)"
      ],
      "metadata": {
        "colab": {
          "base_uri": "https://localhost:8080/",
          "height": 466
        },
        "id": "35o-sF0MDjZh",
        "outputId": "7e219ad9-0410-428f-9393-cf0a0e9ef4ee"
      },
      "execution_count": null,
      "outputs": [
        {
          "output_type": "execute_result",
          "data": {
            "text/plain": [
              "<Axes: xlabel='Age', ylabel='Count'>"
            ]
          },
          "metadata": {},
          "execution_count": 26
        },
        {
          "output_type": "display_data",
          "data": {
            "text/plain": [
              "<Figure size 640x480 with 1 Axes>"
            ],
            "image/png": "[encoded data removed]"
          },
          "metadata": {}
        }
      ]
    },
    {
      "cell_type": "code",
      "source": [
        "#Con seaborn graficar barras poner ex x la clase del pasajero y en y la edad\n",
        "sns.barplot(x=df_titanic.Pclass, y=df_titanic.Age)"
      ],
      "metadata": {
        "colab": {
          "base_uri": "https://localhost:8080/",
          "height": 466
        },
        "id": "TXf5CjQnFh-Z",
        "outputId": "228a285b-70c3-48d4-bee5-0313b216e0d2"
      },
      "execution_count": null,
      "outputs": [
        {
          "output_type": "execute_result",
          "data": {
            "text/plain": [
              "<Axes: xlabel='Pclass', ylabel='Age'>"
            ]
          },
          "metadata": {},
          "execution_count": 27
        },
        {
          "output_type": "display_data",
          "data": {
            "text/plain": [
              "<Figure size 640x480 with 1 Axes>"
            ],
            "image/png": "[encoded data removed]"
          },
          "metadata": {}
        }
      ]
    },
    {
      "cell_type": "code",
      "source": [
        "#Le voy a pedir que me muestre cuáles son los datos de las edades, notas que NaN son datos nulos,\n",
        "edades = df_titanic.Age\n",
        "edades.head(20)"
      ],
      "metadata": {
        "colab": {
          "base_uri": "https://localhost:8080/"
        },
        "id": "IfXRwhVbG2OB",
        "outputId": "3d9c5a2b-42ee-45df-eb96-73db08cd4a32"
      },
      "execution_count": null,
      "outputs": [
        {
          "output_type": "execute_result",
          "data": {
            "text/plain": [
              "0     22.0\n",
              "1     38.0\n",
              "2     26.0\n",
              "3     35.0\n",
              "4     35.0\n",
              "5      NaN\n",
              "6     54.0\n",
              "7      2.0\n",
              "8     27.0\n",
              "9     14.0\n",
              "10     4.0\n",
              "11    58.0\n",
              "12    20.0\n",
              "13    39.0\n",
              "14    14.0\n",
              "15    55.0\n",
              "16     2.0\n",
              "17     NaN\n",
              "18    31.0\n",
              "19     NaN\n",
              "Name: Age, dtype: float64"
            ]
          },
          "metadata": {},
          "execution_count": 28
        }
      ]
    },
    {
      "cell_type": "code",
      "source": [
        "#Revisar la estructura del dataset, revisar cuántos rengloes y cuántas columnas\n",
        "df_titanic.shape"
      ],
      "metadata": {
        "colab": {
          "base_uri": "https://localhost:8080/"
        },
        "id": "LGjaRa1SHleg",
        "outputId": "5e43e3e3-dc26-4b06-9ddc-6a67cadf756e"
      },
      "execution_count": null,
      "outputs": [
        {
          "output_type": "execute_result",
          "data": {
            "text/plain": [
              "(891, 12)"
            ]
          },
          "metadata": {},
          "execution_count": 29
        }
      ]
    },
    {
      "cell_type": "code",
      "source": [
        "#Aquí me indica solamente el número de renglones\n",
        "edades.shape"
      ],
      "metadata": {
        "colab": {
          "base_uri": "https://localhost:8080/"
        },
        "id": "lJzcLPUqHwzh",
        "outputId": "3235e5db-6a70-42e5-f77f-d8b761b212c3"
      },
      "execution_count": null,
      "outputs": [
        {
          "output_type": "execute_result",
          "data": {
            "text/plain": [
              "(891,)"
            ]
          },
          "metadata": {},
          "execution_count": 30
        }
      ]
    },
    {
      "cell_type": "markdown",
      "source": [
        "###Eliminamos los valores nulos"
      ],
      "metadata": {
        "id": "uGoLsnBhIWXc"
      }
    },
    {
      "cell_type": "code",
      "source": [
        "#Xon \"dropna\" estoy quitando los datos nulos de la base de datos, en este caso solo para la variable edades\n",
        "edades = edades.dropna()"
      ],
      "metadata": {
        "id": "FNkHTPHQIXqB"
      },
      "execution_count": null,
      "outputs": []
    },
    {
      "cell_type": "code",
      "source": [
        "edades.head(20)"
      ],
      "metadata": {
        "colab": {
          "base_uri": "https://localhost:8080/"
        },
        "id": "g2R9muUXI2WN",
        "outputId": "50eed2eb-e0c0-4215-df24-9a2580c0192a"
      },
      "execution_count": null,
      "outputs": [
        {
          "output_type": "execute_result",
          "data": {
            "text/plain": [
              "0     22.0\n",
              "1     38.0\n",
              "2     26.0\n",
              "3     35.0\n",
              "4     35.0\n",
              "6     54.0\n",
              "7      2.0\n",
              "8     27.0\n",
              "9     14.0\n",
              "10     4.0\n",
              "11    58.0\n",
              "12    20.0\n",
              "13    39.0\n",
              "14    14.0\n",
              "15    55.0\n",
              "16     2.0\n",
              "18    31.0\n",
              "20    35.0\n",
              "21    34.0\n",
              "22    15.0\n",
              "Name: Age, dtype: float64"
            ]
          },
          "metadata": {},
          "execution_count": 32
        }
      ]
    },
    {
      "cell_type": "code",
      "source": [
        "#Para trasladar los datos, en este caso de la variable \"Age\" a numpay se agragn paréntesis vacíos y se pone aparte la variable\n",
        "pasajeros_edades = edades.to_numpy()\n",
        "pasajeros_edades\n",
        "print(pasajeros_edades)"
      ],
      "metadata": {
        "colab": {
          "base_uri": "https://localhost:8080/"
        },
        "id": "uWiYxmArLXYc",
        "outputId": "66d8e521-e92a-4b8e-d802-ab86a0252af0"
      },
      "execution_count": null,
      "outputs": [
        {
          "output_type": "stream",
          "name": "stdout",
          "text": [
            "[22.   38.   26.   35.   35.   54.    2.   27.   14.    4.   58.   20.\n",
            " 39.   14.   55.    2.   31.   35.   34.   15.   28.    8.   38.   19.\n",
            " 40.   66.   28.   42.   21.   18.   14.   40.   27.    3.   19.   18.\n",
            "  7.   21.   49.   29.   65.   21.   28.5   5.   11.   22.   38.   45.\n",
            "  4.   29.   19.   17.   26.   32.   16.   21.   26.   32.   25.    0.83\n",
            " 30.   22.   29.   28.   17.   33.   16.   23.   24.   29.   20.   46.\n",
            " 26.   59.   71.   23.   34.   34.   28.   21.   33.   37.   28.   21.\n",
            " 38.   47.   14.5  22.   20.   17.   21.   70.5  29.   24.    2.   21.\n",
            " 32.5  32.5  54.   12.   24.   45.   33.   20.   47.   29.   25.   23.\n",
            " 19.   37.   16.   24.   22.   24.   19.   18.   19.   27.    9.   36.5\n",
            " 42.   51.   22.   55.5  40.5  51.   16.   30.   44.   40.   26.   17.\n",
            "  1.    9.   45.   28.   61.    4.    1.   21.   56.   18.   50.   30.\n",
            " 36.    9.    1.    4.   45.   40.   36.   32.   19.   19.    3.   44.\n",
            " 58.   42.   24.   28.   34.   45.5  18.    2.   32.   26.   16.   40.\n",
            " 24.   35.   22.   30.   31.   27.   42.   32.   30.   16.   27.   51.\n",
            " 38.   22.   19.   20.5  18.   35.   29.   59.    5.   24.   44.    8.\n",
            " 19.   33.   29.   22.   30.   44.   25.   24.   37.   54.   29.   62.\n",
            " 30.   41.   29.   30.   35.   50.    3.   52.   40.   36.   16.   25.\n",
            " 58.   35.   25.   41.   37.   63.   45.    7.   35.   65.   28.   16.\n",
            " 19.   33.   30.   22.   42.   22.   26.   19.   36.   24.   24.   23.5\n",
            "  2.   50.   19.    0.92 17.   30.   30.   24.   18.   26.   28.   43.\n",
            " 26.   24.   54.   31.   40.   22.   27.   30.   22.   36.   61.   36.\n",
            " 31.   16.   45.5  38.   16.   29.   41.   45.   45.    2.   24.   28.\n",
            " 25.   36.   24.   40.    3.   42.   23.   15.   25.   28.   22.   38.\n",
            " 40.   29.   45.   35.   30.   60.   24.   25.   18.   19.   22.    3.\n",
            " 22.   27.   20.   19.   42.    1.   32.   35.   18.    1.   36.   17.\n",
            " 36.   21.   28.   23.   24.   22.   31.   46.   23.   28.   39.   26.\n",
            " 21.   28.   20.   34.   51.    3.   21.   33.   44.   34.   18.   30.\n",
            " 10.   21.   29.   28.   18.   28.   19.   32.   28.   42.   17.   50.\n",
            " 14.   21.   24.   64.   31.   45.   20.   25.   28.    4.   13.   34.\n",
            "  5.   52.   36.   30.   49.   29.   65.   50.   48.   34.   47.   48.\n",
            " 38.   56.    0.75 38.   33.   23.   22.   34.   29.   22.    2.    9.\n",
            " 50.   63.   25.   35.   58.   30.    9.   21.   55.   71.   21.   54.\n",
            " 25.   24.   17.   21.   37.   16.   18.   33.   28.   26.   29.   36.\n",
            " 54.   24.   47.   34.   36.   32.   30.   22.   44.   40.5  50.   39.\n",
            " 23.    2.   17.   30.    7.   45.   30.   22.   36.    9.   11.   32.\n",
            " 50.   64.   19.   33.    8.   17.   27.   22.   22.   62.   48.   39.\n",
            " 36.   40.   28.   24.   19.   29.   32.   62.   53.   36.   16.   19.\n",
            " 34.   39.   32.   25.   39.   54.   36.   18.   47.   60.   22.   35.\n",
            " 52.   47.   37.   36.   49.   49.   24.   44.   35.   36.   30.   27.\n",
            " 22.   40.   39.   35.   24.   34.   26.    4.   26.   27.   42.   20.\n",
            " 21.   21.   61.   57.   21.   26.   80.   51.   32.    9.   28.   32.\n",
            " 31.   41.   20.   24.    2.    0.75 48.   19.   56.   23.   18.   21.\n",
            " 18.   24.   32.   23.   58.   50.   40.   47.   36.   20.   32.   25.\n",
            " 43.   40.   31.   70.   31.   18.   24.5  18.   43.   36.   27.   20.\n",
            " 14.   60.   25.   14.   19.   18.   15.   31.    4.   25.   60.   52.\n",
            " 44.   49.   42.   18.   35.   18.   25.   26.   39.   45.   42.   22.\n",
            " 24.   48.   29.   52.   19.   38.   27.   33.    6.   17.   34.   50.\n",
            " 27.   20.   30.   25.   25.   29.   11.   23.   23.   28.5  48.   35.\n",
            " 36.   21.   24.   31.   70.   16.   30.   19.   31.    4.    6.   33.\n",
            " 23.   48.    0.67 28.   18.   34.   33.   41.   20.   36.   16.   51.\n",
            " 30.5  32.   24.   48.   57.   54.   18.    5.   43.   13.   17.   29.\n",
            " 25.   25.   18.    8.    1.   46.   16.   25.   39.   49.   31.   30.\n",
            " 30.   34.   31.   11.    0.42 27.   31.   39.   18.   39.   33.   26.\n",
            " 39.   35.    6.   30.5  23.   31.   43.   10.   52.   27.   38.   27.\n",
            "  2.    1.   62.   15.    0.83 23.   18.   39.   21.   32.   20.   16.\n",
            " 30.   34.5  17.   42.   35.   28.    4.   74.    9.   16.   44.   18.\n",
            " 45.   51.   24.   41.   21.   48.   24.   42.   27.   31.    4.   26.\n",
            " 47.   33.   47.   28.   15.   20.   19.   56.   25.   33.   22.   28.\n",
            " 25.   39.   27.   19.   26.   32.  ]\n"
          ]
        }
      ]
    },
    {
      "cell_type": "code",
      "source": [
        "edad_promedio = np.mean(pasajeros_edades)\n",
        "desviacion_std = np.std(pasajeros_edades)\n",
        "print(f\"Edad promedio de los pasajeros: {edad_promedio}\")\n",
        "print(f\"Desviación estándar: {desviacion_std}\")"
      ],
      "metadata": {
        "colab": {
          "base_uri": "https://localhost:8080/"
        },
        "id": "gqBq0duMMcb-",
        "outputId": "a3afbda3-288d-4697-da13-3b65cd567703"
      },
      "execution_count": null,
      "outputs": [
        {
          "output_type": "stream",
          "name": "stdout",
          "text": [
            "Edad promedio de los pasajeros: 29.69911764705882\n",
            "Desviación estándar: 14.516321150817316\n"
          ]
        }
      ]
    },
    {
      "cell_type": "markdown",
      "source": [
        "### Calcular el porcentaje de personas menores o con 21 años"
      ],
      "metadata": {
        "id": "yVl030JKN0rH"
      }
    },
    {
      "cell_type": "code",
      "source": [
        "porc_menores_a_21 = np.mean(pasajeros_edades < 21)\n",
        "print(f\"Porcentaje de pasajeros menores de 21 años {porc_menores_a_21*100}%\")"
      ],
      "metadata": {
        "colab": {
          "base_uri": "https://localhost:8080/"
        },
        "id": "CHLuLHfbN7Mx",
        "outputId": "b1d264d7-dab0-4c9f-dc21-9ecc426ddcf5"
      },
      "execution_count": null,
      "outputs": [
        {
          "output_type": "stream",
          "name": "stdout",
          "text": [
            "Porcentaje de pasajeros menores de 21 años 25.210084033613445%\n"
          ]
        }
      ]
    },
    {
      "cell_type": "markdown",
      "source": [
        "### Calcular porcentaje de personas de 20 a 40 años, inclusive\n",
        "\n",
        "En este caso se deben cumplir dos condiciones, mayor a 20 y menor a 40"
      ],
      "metadata": {
        "id": "pEbcNYp2Pg0u"
      }
    },
    {
      "cell_type": "code",
      "source": [
        "porc_menores_20 = np.mean(pasajeros_edades < 20)\n",
        "porc_menores_41 = np.mean(pasajeros_edades < 41)\n",
        "porc_20y40 = np.mean(porc_menores_41 - porc_menores_20)\n",
        "print(porc_menores_a_21)\n",
        "print(porc_menores_41)\n",
        "print(porc_20y40*100)"
      ],
      "metadata": {
        "colab": {
          "base_uri": "https://localhost:8080/"
        },
        "id": "3R4fo5rkPjzo",
        "outputId": "65926a24-399b-4566-8290-5ae9c599d40c"
      },
      "execution_count": null,
      "outputs": [
        {
          "output_type": "stream",
          "name": "stdout",
          "text": [
            "0.25210084033613445\n",
            "0.7927170868347339\n",
            "56.30252100840336\n"
          ]
        }
      ]
    },
    {
      "cell_type": "code",
      "source": [],
      "metadata": {
        "id": "Ue9l4Jl5SGlP"
      },
      "execution_count": null,
      "outputs": []
    },
    {
      "cell_type": "code",
      "source": [
        "#Este es el código de Pau López\n",
        "porc_entre_20y40_incl = np.mean([pasajeros_edades >= 20] and [pasajeros_edades <= 40])\n",
        "print(porc_entre_20y40_incl)"
      ],
      "metadata": {
        "colab": {
          "base_uri": "https://localhost:8080/"
        },
        "id": "_vxso4CDRnMP",
        "outputId": "6ef721ca-9b17-43a7-e9ec-db02ccb3918c"
      },
      "execution_count": null,
      "outputs": [
        {
          "output_type": "stream",
          "name": "stdout",
          "text": [
            "0.7899159663865546\n"
          ]
        }
      ]
    },
    {
      "cell_type": "code",
      "source": [
        "#Código de Rafael Platon, bitwise convierte edades a binario y lo evlúa contra la condición solicitada con un AND\n",
        "\n",
        "np.mean(np.bitwise_and(pasajeros_edades>=20,pasajeros_edades<41))"
      ],
      "metadata": {
        "colab": {
          "base_uri": "https://localhost:8080/"
        },
        "id": "fmYNhIkZUCnV",
        "outputId": "6cbc70eb-e3eb-4b0c-f794-9e14c890400b"
      },
      "execution_count": null,
      "outputs": [
        {
          "output_type": "execute_result",
          "data": {
            "text/plain": [
              "0.5630252100840336"
            ]
          },
          "metadata": {},
          "execution_count": 58
        }
      ]
    },
    {
      "cell_type": "markdown",
      "source": [
        "### ¿En qué clase de viajeros sobrevivieron más pasajeros?\n",
        "\n",
        "Cuántas personas sobrevivieron de cada clase, primera, segunda y tercera clase."
      ],
      "metadata": {
        "id": "3M9Ob5AJV1FR"
      }
    },
    {
      "cell_type": "code",
      "source": [
        "#Descripción de la clase en la que viajaban los turistas\n",
        "df_titanic.Pclass"
      ],
      "metadata": {
        "colab": {
          "base_uri": "https://localhost:8080/"
        },
        "id": "_lyBbsDAVOuL",
        "outputId": "91a8a063-95fa-4f2a-cd42-6e2f5f9b0459"
      },
      "execution_count": null,
      "outputs": [
        {
          "output_type": "execute_result",
          "data": {
            "text/plain": [
              "0      3\n",
              "1      1\n",
              "2      3\n",
              "3      1\n",
              "4      3\n",
              "      ..\n",
              "886    2\n",
              "887    1\n",
              "888    3\n",
              "889    1\n",
              "890    3\n",
              "Name: Pclass, Length: 891, dtype: int64"
            ]
          },
          "metadata": {},
          "execution_count": 59
        }
      ]
    },
    {
      "cell_type": "markdown",
      "source": [
        "### Cálculo de media de matrices 2D"
      ],
      "metadata": {
        "id": "qo3I8F60qMLD"
      }
    },
    {
      "cell_type": "code",
      "source": [
        "edades_sobrevivientes = df_titanic[[\"Age\",\"Survived\"]]\n",
        "edades_sobrevivientes = edades_sobrevivientes.dropna()"
      ],
      "metadata": {
        "id": "7FryLo_Tud8z"
      },
      "execution_count": null,
      "outputs": []
    },
    {
      "cell_type": "code",
      "source": [
        "edades_sobrevivientes.shape"
      ],
      "metadata": {
        "colab": {
          "base_uri": "https://localhost:8080/"
        },
        "id": "0Utkl_FMuijC",
        "outputId": "033ecf69-632b-4f27-9674-cab3d1e8005c"
      },
      "execution_count": null,
      "outputs": [
        {
          "output_type": "execute_result",
          "data": {
            "text/plain": [
              "(714, 2)"
            ]
          },
          "metadata": {},
          "execution_count": 39
        }
      ]
    },
    {
      "cell_type": "code",
      "source": [
        "edades_sobrevivientes.head()"
      ],
      "metadata": {
        "colab": {
          "base_uri": "https://localhost:8080/",
          "height": 206
        },
        "id": "OglgdxyFulzT",
        "outputId": "6247c238-54cf-4515-c307-a37ae9460942"
      },
      "execution_count": null,
      "outputs": [
        {
          "output_type": "execute_result",
          "data": {
            "text/plain": [
              "    Age  Survived\n",
              "0  22.0         0\n",
              "1  38.0         1\n",
              "2  26.0         1\n",
              "3  35.0         1\n",
              "4  35.0         0"
            ],
            "text/html": [
              "\n",
              "  <div id=\"df-053f23bb-24e1-4399-ae7d-1908c5eb2873\" class=\"colab-df-container\">\n",
              "    <div>\n",
              "<style scoped>\n",
              "    .dataframe tbody tr th:only-of-type {\n",
              "        vertical-align: middle;\n",
              "    }\n",
              "\n",
              "    .dataframe tbody tr th {\n",
              "        vertical-align: top;\n",
              "    }\n",
              "\n",
              "    .dataframe thead th {\n",
              "        text-align: right;\n",
              "    }\n",
              "</style>\n",
              "<table border=\"1\" class=\"dataframe\">\n",
              "  <thead>\n",
              "    <tr style=\"text-align: right;\">\n",
              "      <th></th>\n",
              "      <th>Age</th>\n",
              "      <th>Survived</th>\n",
              "    </tr>\n",
              "  </thead>\n",
              "  <tbody>\n",
              "    <tr>\n",
              "      <th>0</th>\n",
              "      <td>22.0</td>\n",
              "      <td>0</td>\n",
              "    </tr>\n",
              "    <tr>\n",
              "      <th>1</th>\n",
              "      <td>38.0</td>\n",
              "      <td>1</td>\n",
              "    </tr>\n",
              "    <tr>\n",
              "      <th>2</th>\n",
              "      <td>26.0</td>\n",
              "      <td>1</td>\n",
              "    </tr>\n",
              "    <tr>\n",
              "      <th>3</th>\n",
              "      <td>35.0</td>\n",
              "      <td>1</td>\n",
              "    </tr>\n",
              "    <tr>\n",
              "      <th>4</th>\n",
              "      <td>35.0</td>\n",
              "      <td>0</td>\n",
              "    </tr>\n",
              "  </tbody>\n",
              "</table>\n",
              "</div>\n",
              "    <div class=\"colab-df-buttons\">\n",
              "\n",
              "  <div class=\"colab-df-container\">\n",
              "    <button class=\"colab-df-convert\" onclick=\"convertToInteractive('df-053f23bb-24e1-4399-ae7d-1908c5eb2873')\"\n",
              "            title=\"Convert this dataframe to an interactive table.\"\n",
              "            style=\"display:none;\">\n",
              "\n",
              "  <svg xmlns=\"http://www.w3.org/2000/svg\" height=\"24px\" viewBox=\"0 -960 960 960\">\n",
              "    <path d=\"M120-120v-720h720v720H120Zm60-500h600v-160H180v160Zm220 220h160v-160H400v160Zm0 220h160v-160H400v160ZM180-400h160v-160H180v160Zm440 0h160v-160H620v160ZM180-180h160v-160H180v160Zm440 0h160v-160H620v160Z\"/>\n",
              "  </svg>\n",
              "    </button>\n",
              "\n",
              "  <style>\n",
              "    .colab-df-container {\n",
              "      display:flex;\n",
              "      gap: 12px;\n",
              "    }\n",
              "\n",
              "    .colab-df-convert {\n",
              "      background-color: #E8F0FE;\n",
              "      border: none;\n",
              "      border-radius: 50%;\n",
              "      cursor: pointer;\n",
              "      display: none;\n",
              "      fill: #1967D2;\n",
              "      height: 32px;\n",
              "      padding: 0 0 0 0;\n",
              "      width: 32px;\n",
              "    }\n",
              "\n",
              "    .colab-df-convert:hover {\n",
              "      background-color: #E2EBFA;\n",
              "      box-shadow: 0px 1px 2px rgba(60, 64, 67, 0.3), 0px 1px 3px 1px rgba(60, 64, 67, 0.15);\n",
              "      fill: #174EA6;\n",
              "    }\n",
              "\n",
              "    .colab-df-buttons div {\n",
              "      margin-bottom: 4px;\n",
              "    }\n",
              "\n",
              "    [theme=dark] .colab-df-convert {\n",
              "      background-color: #3B4455;\n",
              "      fill: #D2E3FC;\n",
              "    }\n",
              "\n",
              "    [theme=dark] .colab-df-convert:hover {\n",
              "      background-color: #434B5C;\n",
              "      box-shadow: 0px 1px 3px 1px rgba(0, 0, 0, 0.15);\n",
              "      filter: drop-shadow(0px 1px 2px rgba(0, 0, 0, 0.3));\n",
              "      fill: #FFFFFF;\n",
              "    }\n",
              "  </style>\n",
              "\n",
              "    <script>\n",
              "      const buttonEl =\n",
              "        document.querySelector('#df-053f23bb-24e1-4399-ae7d-1908c5eb2873 button.colab-df-convert');\n",
              "      buttonEl.style.display =\n",
              "        google.colab.kernel.accessAllowed ? 'block' : 'none';\n",
              "\n",
              "      async function convertToInteractive(key) {\n",
              "        const element = document.querySelector('#df-053f23bb-24e1-4399-ae7d-1908c5eb2873');\n",
              "        const dataTable =\n",
              "          await google.colab.kernel.invokeFunction('convertToInteractive',\n",
              "                                                    [key], {});\n",
              "        if (!dataTable) return;\n",
              "\n",
              "        const docLinkHtml = 'Like what you see? Visit the ' +\n",
              "          '<a target=\"_blank\" href=https://colab.research.google.com/notebooks/data_table.ipynb>data table notebook</a>'\n",
              "          + ' to learn more about interactive tables.';\n",
              "        element.innerHTML = '';\n",
              "        dataTable['output_type'] = 'display_data';\n",
              "        await google.colab.output.renderOutput(dataTable, element);\n",
              "        const docLink = document.createElement('div');\n",
              "        docLink.innerHTML = docLinkHtml;\n",
              "        element.appendChild(docLink);\n",
              "      }\n",
              "    </script>\n",
              "  </div>\n",
              "\n",
              "\n",
              "<div id=\"df-9545279b-1e35-497c-b15c-08d0752e567d\">\n",
              "  <button class=\"colab-df-quickchart\" onclick=\"quickchart('df-9545279b-1e35-497c-b15c-08d0752e567d')\"\n",
              "            title=\"Suggest charts\"\n",
              "            style=\"display:none;\">\n",
              "\n",
              "<svg xmlns=\"http://www.w3.org/2000/svg\" height=\"24px\"viewBox=\"0 0 24 24\"\n",
              "     width=\"24px\">\n",
              "    <g>\n",
              "        <path d=\"M19 3H5c-1.1 0-2 .9-2 2v14c0 1.1.9 2 2 2h14c1.1 0 2-.9 2-2V5c0-1.1-.9-2-2-2zM9 17H7v-7h2v7zm4 0h-2V7h2v10zm4 0h-2v-4h2v4z\"/>\n",
              "    </g>\n",
              "</svg>\n",
              "  </button>\n",
              "\n",
              "<style>\n",
              "  .colab-df-quickchart {\n",
              "      --bg-color: #E8F0FE;\n",
              "      --fill-color: #1967D2;\n",
              "      --hover-bg-color: #E2EBFA;\n",
              "      --hover-fill-color: #174EA6;\n",
              "      --disabled-fill-color: #AAA;\n",
              "      --disabled-bg-color: #DDD;\n",
              "  }\n",
              "\n",
              "  [theme=dark] .colab-df-quickchart {\n",
              "      --bg-color: #3B4455;\n",
              "      --fill-color: #D2E3FC;\n",
              "      --hover-bg-color: #434B5C;\n",
              "      --hover-fill-color: #FFFFFF;\n",
              "      --disabled-bg-color: #3B4455;\n",
              "      --disabled-fill-color: #666;\n",
              "  }\n",
              "\n",
              "  .colab-df-quickchart {\n",
              "    background-color: var(--bg-color);\n",
              "    border: none;\n",
              "    border-radius: 50%;\n",
              "    cursor: pointer;\n",
              "    display: none;\n",
              "    fill: var(--fill-color);\n",
              "    height: 32px;\n",
              "    padding: 0;\n",
              "    width: 32px;\n",
              "  }\n",
              "\n",
              "  .colab-df-quickchart:hover {\n",
              "    background-color: var(--hover-bg-color);\n",
              "    box-shadow: 0 1px 2px rgba(60, 64, 67, 0.3), 0 1px 3px 1px rgba(60, 64, 67, 0.15);\n",
              "    fill: var(--button-hover-fill-color);\n",
              "  }\n",
              "\n",
              "  .colab-df-quickchart-complete:disabled,\n",
              "  .colab-df-quickchart-complete:disabled:hover {\n",
              "    background-color: var(--disabled-bg-color);\n",
              "    fill: var(--disabled-fill-color);\n",
              "    box-shadow: none;\n",
              "  }\n",
              "\n",
              "  .colab-df-spinner {\n",
              "    border: 2px solid var(--fill-color);\n",
              "    border-color: transparent;\n",
              "    border-bottom-color: var(--fill-color);\n",
              "    animation:\n",
              "      spin 1s steps(1) infinite;\n",
              "  }\n",
              "\n",
              "  @keyframes spin {\n",
              "    0% {\n",
              "      border-color: transparent;\n",
              "      border-bottom-color: var(--fill-color);\n",
              "      border-left-color: var(--fill-color);\n",
              "    }\n",
              "    20% {\n",
              "      border-color: transparent;\n",
              "      border-left-color: var(--fill-color);\n",
              "      border-top-color: var(--fill-color);\n",
              "    }\n",
              "    30% {\n",
              "      border-color: transparent;\n",
              "      border-left-color: var(--fill-color);\n",
              "      border-top-color: var(--fill-color);\n",
              "      border-right-color: var(--fill-color);\n",
              "    }\n",
              "    40% {\n",
              "      border-color: transparent;\n",
              "      border-right-color: var(--fill-color);\n",
              "      border-top-color: var(--fill-color);\n",
              "    }\n",
              "    60% {\n",
              "      border-color: transparent;\n",
              "      border-right-color: var(--fill-color);\n",
              "    }\n",
              "    80% {\n",
              "      border-color: transparent;\n",
              "      border-right-color: var(--fill-color);\n",
              "      border-bottom-color: var(--fill-color);\n",
              "    }\n",
              "    90% {\n",
              "      border-color: transparent;\n",
              "      border-bottom-color: var(--fill-color);\n",
              "    }\n",
              "  }\n",
              "</style>\n",
              "\n",
              "  <script>\n",
              "    async function quickchart(key) {\n",
              "      const quickchartButtonEl =\n",
              "        document.querySelector('#' + key + ' button');\n",
              "      quickchartButtonEl.disabled = true;  // To prevent multiple clicks.\n",
              "      quickchartButtonEl.classList.add('colab-df-spinner');\n",
              "      try {\n",
              "        const charts = await google.colab.kernel.invokeFunction(\n",
              "            'suggestCharts', [key], {});\n",
              "      } catch (error) {\n",
              "        console.error('Error during call to suggestCharts:', error);\n",
              "      }\n",
              "      quickchartButtonEl.classList.remove('colab-df-spinner');\n",
              "      quickchartButtonEl.classList.add('colab-df-quickchart-complete');\n",
              "    }\n",
              "    (() => {\n",
              "      let quickchartButtonEl =\n",
              "        document.querySelector('#df-9545279b-1e35-497c-b15c-08d0752e567d button');\n",
              "      quickchartButtonEl.style.display =\n",
              "        google.colab.kernel.accessAllowed ? 'block' : 'none';\n",
              "    })();\n",
              "  </script>\n",
              "</div>\n",
              "\n",
              "    </div>\n",
              "  </div>\n"
            ]
          },
          "metadata": {},
          "execution_count": 40
        }
      ]
    },
    {
      "cell_type": "markdown",
      "source": [
        "Convertir los datos a un arreglo de Numpy"
      ],
      "metadata": {
        "id": "xf8JJoDZurCV"
      }
    },
    {
      "cell_type": "code",
      "source": [
        "edades_sobrevivientes_arreglo = edades_sobrevivientes.to_numpy()\n",
        "print(edades_sobrevivientes_arreglo[:30])"
      ],
      "metadata": {
        "colab": {
          "base_uri": "https://localhost:8080/"
        },
        "id": "WQAgRyDqusm3",
        "outputId": "e006f3dd-2567-4f6e-e8fe-1291cb410a8d"
      },
      "execution_count": null,
      "outputs": [
        {
          "output_type": "stream",
          "name": "stdout",
          "text": [
            "[[22.  0.]\n",
            " [38.  1.]\n",
            " [26.  1.]\n",
            " [35.  1.]\n",
            " [35.  0.]\n",
            " [54.  0.]\n",
            " [ 2.  0.]\n",
            " [27.  1.]\n",
            " [14.  1.]\n",
            " [ 4.  1.]\n",
            " [58.  1.]\n",
            " [20.  0.]\n",
            " [39.  0.]\n",
            " [14.  0.]\n",
            " [55.  1.]\n",
            " [ 2.  0.]\n",
            " [31.  0.]\n",
            " [35.  0.]\n",
            " [34.  1.]\n",
            " [15.  1.]\n",
            " [28.  1.]\n",
            " [ 8.  0.]\n",
            " [38.  1.]\n",
            " [19.  0.]\n",
            " [40.  0.]\n",
            " [66.  0.]\n",
            " [28.  0.]\n",
            " [42.  0.]\n",
            " [21.  0.]\n",
            " [18.  0.]]\n"
          ]
        }
      ]
    },
    {
      "cell_type": "code",
      "source": [
        "edades_sobrevivientes_arreglo = edades_sobrevivientes_arreglo.transpose()\n",
        "print(edades_sobrevivientes_arreglo)"
      ],
      "metadata": {
        "colab": {
          "base_uri": "https://localhost:8080/"
        },
        "id": "cycnmlz1uyXX",
        "outputId": "f86ee7ce-1ddf-4cbd-f01c-78a81781026a"
      },
      "execution_count": null,
      "outputs": [
        {
          "output_type": "stream",
          "name": "stdout",
          "text": [
            "[[22. 38. 26. ... 19. 26. 32.]\n",
            " [ 0.  1.  1. ...  1.  1.  0.]]\n"
          ]
        }
      ]
    },
    {
      "cell_type": "code",
      "source": [
        "np.mean(edades_sobrevivientes_arreglo, axis=1)"
      ],
      "metadata": {
        "colab": {
          "base_uri": "https://localhost:8080/"
        },
        "id": "FDTj_ADZu1J2",
        "outputId": "b1bac0c4-980e-4897-fa2a-e1ec648e8579"
      },
      "execution_count": null,
      "outputs": [
        {
          "output_type": "execute_result",
          "data": {
            "text/plain": [
              "array([29.69911765,  0.40616246])"
            ]
          },
          "metadata": {},
          "execution_count": 43
        }
      ]
    },
    {
      "cell_type": "code",
      "source": [
        "print(pasajeros_edades)\n",
        "pasajeros_edades_ordenados = np.sort(pasajeros_edades)\n",
        "print(pasajeros_edades_ordenados)"
      ],
      "metadata": {
        "colab": {
          "base_uri": "https://localhost:8080/"
        },
        "id": "nn0mGQqqvOoH",
        "outputId": "595cf2d2-d4f6-49e9-a665-cc3db6ab33d8"
      },
      "execution_count": null,
      "outputs": [
        {
          "output_type": "stream",
          "name": "stdout",
          "text": [
            "[22.   38.   26.   35.   35.   54.    2.   27.   14.    4.   58.   20.\n",
            " 39.   14.   55.    2.   31.   35.   34.   15.   28.    8.   38.   19.\n",
            " 40.   66.   28.   42.   21.   18.   14.   40.   27.    3.   19.   18.\n",
            "  7.   21.   49.   29.   65.   21.   28.5   5.   11.   22.   38.   45.\n",
            "  4.   29.   19.   17.   26.   32.   16.   21.   26.   32.   25.    0.83\n",
            " 30.   22.   29.   28.   17.   33.   16.   23.   24.   29.   20.   46.\n",
            " 26.   59.   71.   23.   34.   34.   28.   21.   33.   37.   28.   21.\n",
            " 38.   47.   14.5  22.   20.   17.   21.   70.5  29.   24.    2.   21.\n",
            " 32.5  32.5  54.   12.   24.   45.   33.   20.   47.   29.   25.   23.\n",
            " 19.   37.   16.   24.   22.   24.   19.   18.   19.   27.    9.   36.5\n",
            " 42.   51.   22.   55.5  40.5  51.   16.   30.   44.   40.   26.   17.\n",
            "  1.    9.   45.   28.   61.    4.    1.   21.   56.   18.   50.   30.\n",
            " 36.    9.    1.    4.   45.   40.   36.   32.   19.   19.    3.   44.\n",
            " 58.   42.   24.   28.   34.   45.5  18.    2.   32.   26.   16.   40.\n",
            " 24.   35.   22.   30.   31.   27.   42.   32.   30.   16.   27.   51.\n",
            " 38.   22.   19.   20.5  18.   35.   29.   59.    5.   24.   44.    8.\n",
            " 19.   33.   29.   22.   30.   44.   25.   24.   37.   54.   29.   62.\n",
            " 30.   41.   29.   30.   35.   50.    3.   52.   40.   36.   16.   25.\n",
            " 58.   35.   25.   41.   37.   63.   45.    7.   35.   65.   28.   16.\n",
            " 19.   33.   30.   22.   42.   22.   26.   19.   36.   24.   24.   23.5\n",
            "  2.   50.   19.    0.92 17.   30.   30.   24.   18.   26.   28.   43.\n",
            " 26.   24.   54.   31.   40.   22.   27.   30.   22.   36.   61.   36.\n",
            " 31.   16.   45.5  38.   16.   29.   41.   45.   45.    2.   24.   28.\n",
            " 25.   36.   24.   40.    3.   42.   23.   15.   25.   28.   22.   38.\n",
            " 40.   29.   45.   35.   30.   60.   24.   25.   18.   19.   22.    3.\n",
            " 22.   27.   20.   19.   42.    1.   32.   35.   18.    1.   36.   17.\n",
            " 36.   21.   28.   23.   24.   22.   31.   46.   23.   28.   39.   26.\n",
            " 21.   28.   20.   34.   51.    3.   21.   33.   44.   34.   18.   30.\n",
            " 10.   21.   29.   28.   18.   28.   19.   32.   28.   42.   17.   50.\n",
            " 14.   21.   24.   64.   31.   45.   20.   25.   28.    4.   13.   34.\n",
            "  5.   52.   36.   30.   49.   29.   65.   50.   48.   34.   47.   48.\n",
            " 38.   56.    0.75 38.   33.   23.   22.   34.   29.   22.    2.    9.\n",
            " 50.   63.   25.   35.   58.   30.    9.   21.   55.   71.   21.   54.\n",
            " 25.   24.   17.   21.   37.   16.   18.   33.   28.   26.   29.   36.\n",
            " 54.   24.   47.   34.   36.   32.   30.   22.   44.   40.5  50.   39.\n",
            " 23.    2.   17.   30.    7.   45.   30.   22.   36.    9.   11.   32.\n",
            " 50.   64.   19.   33.    8.   17.   27.   22.   22.   62.   48.   39.\n",
            " 36.   40.   28.   24.   19.   29.   32.   62.   53.   36.   16.   19.\n",
            " 34.   39.   32.   25.   39.   54.   36.   18.   47.   60.   22.   35.\n",
            " 52.   47.   37.   36.   49.   49.   24.   44.   35.   36.   30.   27.\n",
            " 22.   40.   39.   35.   24.   34.   26.    4.   26.   27.   42.   20.\n",
            " 21.   21.   61.   57.   21.   26.   80.   51.   32.    9.   28.   32.\n",
            " 31.   41.   20.   24.    2.    0.75 48.   19.   56.   23.   18.   21.\n",
            " 18.   24.   32.   23.   58.   50.   40.   47.   36.   20.   32.   25.\n",
            " 43.   40.   31.   70.   31.   18.   24.5  18.   43.   36.   27.   20.\n",
            " 14.   60.   25.   14.   19.   18.   15.   31.    4.   25.   60.   52.\n",
            " 44.   49.   42.   18.   35.   18.   25.   26.   39.   45.   42.   22.\n",
            " 24.   48.   29.   52.   19.   38.   27.   33.    6.   17.   34.   50.\n",
            " 27.   20.   30.   25.   25.   29.   11.   23.   23.   28.5  48.   35.\n",
            " 36.   21.   24.   31.   70.   16.   30.   19.   31.    4.    6.   33.\n",
            " 23.   48.    0.67 28.   18.   34.   33.   41.   20.   36.   16.   51.\n",
            " 30.5  32.   24.   48.   57.   54.   18.    5.   43.   13.   17.   29.\n",
            " 25.   25.   18.    8.    1.   46.   16.   25.   39.   49.   31.   30.\n",
            " 30.   34.   31.   11.    0.42 27.   31.   39.   18.   39.   33.   26.\n",
            " 39.   35.    6.   30.5  23.   31.   43.   10.   52.   27.   38.   27.\n",
            "  2.    1.   62.   15.    0.83 23.   18.   39.   21.   32.   20.   16.\n",
            " 30.   34.5  17.   42.   35.   28.    4.   74.    9.   16.   44.   18.\n",
            " 45.   51.   24.   41.   21.   48.   24.   42.   27.   31.    4.   26.\n",
            " 47.   33.   47.   28.   15.   20.   19.   56.   25.   33.   22.   28.\n",
            " 25.   39.   27.   19.   26.   32.  ]\n",
            "[ 0.42  0.67  0.75  0.75  0.83  0.83  0.92  1.    1.    1.    1.    1.\n",
            "  1.    1.    2.    2.    2.    2.    2.    2.    2.    2.    2.    2.\n",
            "  3.    3.    3.    3.    3.    3.    4.    4.    4.    4.    4.    4.\n",
            "  4.    4.    4.    4.    5.    5.    5.    5.    6.    6.    6.    7.\n",
            "  7.    7.    8.    8.    8.    8.    9.    9.    9.    9.    9.    9.\n",
            "  9.    9.   10.   10.   11.   11.   11.   11.   12.   13.   13.   14.\n",
            " 14.   14.   14.   14.   14.   14.5  15.   15.   15.   15.   15.   16.\n",
            " 16.   16.   16.   16.   16.   16.   16.   16.   16.   16.   16.   16.\n",
            " 16.   16.   16.   16.   17.   17.   17.   17.   17.   17.   17.   17.\n",
            " 17.   17.   17.   17.   17.   18.   18.   18.   18.   18.   18.   18.\n",
            " 18.   18.   18.   18.   18.   18.   18.   18.   18.   18.   18.   18.\n",
            " 18.   18.   18.   18.   18.   18.   18.   19.   19.   19.   19.   19.\n",
            " 19.   19.   19.   19.   19.   19.   19.   19.   19.   19.   19.   19.\n",
            " 19.   19.   19.   19.   19.   19.   19.   19.   20.   20.   20.   20.\n",
            " 20.   20.   20.   20.   20.   20.   20.   20.   20.   20.   20.   20.5\n",
            " 21.   21.   21.   21.   21.   21.   21.   21.   21.   21.   21.   21.\n",
            " 21.   21.   21.   21.   21.   21.   21.   21.   21.   21.   21.   21.\n",
            " 22.   22.   22.   22.   22.   22.   22.   22.   22.   22.   22.   22.\n",
            " 22.   22.   22.   22.   22.   22.   22.   22.   22.   22.   22.   22.\n",
            " 22.   22.   22.   23.   23.   23.   23.   23.   23.   23.   23.   23.\n",
            " 23.   23.   23.   23.   23.   23.   23.5  24.   24.   24.   24.   24.\n",
            " 24.   24.   24.   24.   24.   24.   24.   24.   24.   24.   24.   24.\n",
            " 24.   24.   24.   24.   24.   24.   24.   24.   24.   24.   24.   24.\n",
            " 24.   24.5  25.   25.   25.   25.   25.   25.   25.   25.   25.   25.\n",
            " 25.   25.   25.   25.   25.   25.   25.   25.   25.   25.   25.   25.\n",
            " 25.   26.   26.   26.   26.   26.   26.   26.   26.   26.   26.   26.\n",
            " 26.   26.   26.   26.   26.   26.   26.   27.   27.   27.   27.   27.\n",
            " 27.   27.   27.   27.   27.   27.   27.   27.   27.   27.   27.   27.\n",
            " 27.   28.   28.   28.   28.   28.   28.   28.   28.   28.   28.   28.\n",
            " 28.   28.   28.   28.   28.   28.   28.   28.   28.   28.   28.   28.\n",
            " 28.   28.   28.5  28.5  29.   29.   29.   29.   29.   29.   29.   29.\n",
            " 29.   29.   29.   29.   29.   29.   29.   29.   29.   29.   29.   29.\n",
            " 30.   30.   30.   30.   30.   30.   30.   30.   30.   30.   30.   30.\n",
            " 30.   30.   30.   30.   30.   30.   30.   30.   30.   30.   30.   30.\n",
            " 30.   30.5  30.5  31.   31.   31.   31.   31.   31.   31.   31.   31.\n",
            " 31.   31.   31.   31.   31.   31.   31.   31.   32.   32.   32.   32.\n",
            " 32.   32.   32.   32.   32.   32.   32.   32.   32.   32.   32.   32.\n",
            " 32.   32.   32.5  32.5  33.   33.   33.   33.   33.   33.   33.   33.\n",
            " 33.   33.   33.   33.   33.   33.   33.   34.   34.   34.   34.   34.\n",
            " 34.   34.   34.   34.   34.   34.   34.   34.   34.   34.   34.5  35.\n",
            " 35.   35.   35.   35.   35.   35.   35.   35.   35.   35.   35.   35.\n",
            " 35.   35.   35.   35.   35.   36.   36.   36.   36.   36.   36.   36.\n",
            " 36.   36.   36.   36.   36.   36.   36.   36.   36.   36.   36.   36.\n",
            " 36.   36.   36.   36.5  37.   37.   37.   37.   37.   37.   38.   38.\n",
            " 38.   38.   38.   38.   38.   38.   38.   38.   38.   39.   39.   39.\n",
            " 39.   39.   39.   39.   39.   39.   39.   39.   39.   39.   39.   40.\n",
            " 40.   40.   40.   40.   40.   40.   40.   40.   40.   40.   40.   40.\n",
            " 40.5  40.5  41.   41.   41.   41.   41.   41.   42.   42.   42.   42.\n",
            " 42.   42.   42.   42.   42.   42.   42.   42.   42.   43.   43.   43.\n",
            " 43.   43.   44.   44.   44.   44.   44.   44.   44.   44.   44.   45.\n",
            " 45.   45.   45.   45.   45.   45.   45.   45.   45.   45.   45.   45.5\n",
            " 45.5  46.   46.   46.   47.   47.   47.   47.   47.   47.   47.   47.\n",
            " 47.   48.   48.   48.   48.   48.   48.   48.   48.   48.   49.   49.\n",
            " 49.   49.   49.   49.   50.   50.   50.   50.   50.   50.   50.   50.\n",
            " 50.   50.   51.   51.   51.   51.   51.   51.   51.   52.   52.   52.\n",
            " 52.   52.   52.   53.   54.   54.   54.   54.   54.   54.   54.   54.\n",
            " 55.   55.   55.5  56.   56.   56.   56.   57.   57.   58.   58.   58.\n",
            " 58.   58.   59.   59.   60.   60.   60.   60.   61.   61.   61.   62.\n",
            " 62.   62.   62.   63.   63.   64.   64.   65.   65.   65.   66.   70.\n",
            " 70.   70.5  71.   71.   74.   80.  ]\n"
          ]
        }
      ]
    },
    {
      "cell_type": "code",
      "source": [
        "sns.boxplot(data=df_titanic.Age)"
      ],
      "metadata": {
        "colab": {
          "base_uri": "https://localhost:8080/",
          "height": 447
        },
        "id": "-BmPK582vibp",
        "outputId": "bcc7092b-c140-4b7a-d168-d671a36ebd8f"
      },
      "execution_count": null,
      "outputs": [
        {
          "output_type": "execute_result",
          "data": {
            "text/plain": [
              "<Axes: >"
            ]
          },
          "metadata": {},
          "execution_count": 46
        },
        {
          "output_type": "display_data",
          "data": {
            "text/plain": [
              "<Figure size 640x480 with 1 Axes>"
            ],
            "image/png": "[encoded data removed]"
          },
          "metadata": {}
        }
      ]
    },
    {
      "cell_type": "code",
      "source": [
        "media = np.mean(pasajeros_edades)\n",
        "mediana = np.median(pasajeros_edades)\n",
        "print(f\"La media de las edades es: {media}\")\n",
        "print(f\"La mediana de las edades es: {mediana}\")"
      ],
      "metadata": {
        "colab": {
          "base_uri": "https://localhost:8080/"
        },
        "id": "oyen4WbnxlFT",
        "outputId": "18ef1e62-f971-4459-cf45-e6ec866b7bfb"
      },
      "execution_count": null,
      "outputs": [
        {
          "output_type": "stream",
          "name": "stdout",
          "text": [
            "La media de las edades es: 29.69911764705882\n",
            "La mediana de las edades es: 28.0\n"
          ]
        }
      ]
    },
    {
      "cell_type": "code",
      "source": [
        "lista_calificaciones = [96, 97, 98, 99, 100, 90, 140]\n",
        "calificaciones = np.array(lista_calificaciones)"
      ],
      "metadata": {
        "id": "WTD2e394yL6Z"
      },
      "execution_count": null,
      "outputs": []
    },
    {
      "cell_type": "code",
      "source": [
        "print(np.mean(calificaciones))"
      ],
      "metadata": {
        "colab": {
          "base_uri": "https://localhost:8080/"
        },
        "id": "hmSonTDGydpl",
        "outputId": "2988e49e-d14a-40b0-fe27-f548051ad54b"
      },
      "execution_count": null,
      "outputs": [
        {
          "output_type": "stream",
          "name": "stdout",
          "text": [
            "102.85714285714286\n"
          ]
        }
      ]
    },
    {
      "cell_type": "code",
      "source": [
        "print(np.median(calificaciones))"
      ],
      "metadata": {
        "colab": {
          "base_uri": "https://localhost:8080/"
        },
        "id": "eCvodyY8ylcz",
        "outputId": "687bcf55-8ae4-4d6f-eb0a-66436ded466a"
      },
      "execution_count": null,
      "outputs": [
        {
          "output_type": "stream",
          "name": "stdout",
          "text": [
            "98.0\n"
          ]
        }
      ]
    },
    {
      "cell_type": "code",
      "source": [
        "print(f\"El percentil 90 de las edades es {np.percentile(pasajeros_edades, 90)}\")\n",
        "print(f\"El percentil 5 de las edades es {np.percentile(pasajeros_edades, 5)}\")"
      ],
      "metadata": {
        "colab": {
          "base_uri": "https://localhost:8080/"
        },
        "id": "zvJLSMAby5jl",
        "outputId": "aa71fccf-3890-4147-a640-8dc5d8c844bc"
      },
      "execution_count": null,
      "outputs": [
        {
          "output_type": "stream",
          "name": "stdout",
          "text": [
            "El percentil 90 de las edades es 50.0\n",
            "El percentil 5 de las edades es 4.0\n"
          ]
        }
      ]
    },
    {
      "cell_type": "code",
      "source": [
        "primer_cuartil = np.percentile(pasajeros_edades,25)\n",
        "tercer_cuartil = np.percentile(pasajeros_edades,75)\n",
        "rango_intercuartil = tercer_cuartil - primer_cuartil\n",
        "print(f\"primer_cuartil: {primer_cuartil}\")\n",
        "print(f\"tercer_cuartil: {tercer_cuartil}\")\n",
        "print(f\"rango_intercuartil: {rango_intercuartilcuartil}\")\n",
        "\n",
        "print(f\"El percentil 90 de las edades es {np.percentile(pasajeros_edades, 90)}\")\n",
        "print(f\"El percentil 5 de las edades es {np.percentile(pasajeros_edades, 5)}\")"
      ],
      "metadata": {
        "colab": {
          "base_uri": "https://localhost:8080/",
          "height": 280
        },
        "id": "vcamPSeF0d3-",
        "outputId": "b6ef4b57-e74d-4983-bc0d-ea8cc53fd5a8"
      },
      "execution_count": null,
      "outputs": [
        {
          "output_type": "stream",
          "name": "stdout",
          "text": [
            "primer_cuartil: 20.125\n",
            "tercer_cuartil: 38.0\n"
          ]
        },
        {
          "output_type": "error",
          "ename": "NameError",
          "evalue": "ignored",
          "traceback": [
            "\u001b[0;31m---------------------------------------------------------------------------\u001b[0m",
            "\u001b[0;31mNameError\u001b[0m                                 Traceback (most recent call last)",
            "\u001b[0;32m<ipython-input-58-834e9a4541a9>\u001b[0m in \u001b[0;36m<cell line: 6>\u001b[0;34m()\u001b[0m\n\u001b[1;32m      4\u001b[0m \u001b[0mprint\u001b[0m\u001b[0;34m(\u001b[0m\u001b[0;34mf\"primer_cuartil: {primer_cuartil}\"\u001b[0m\u001b[0;34m)\u001b[0m\u001b[0;34m\u001b[0m\u001b[0;34m\u001b[0m\u001b[0m\n\u001b[1;32m      5\u001b[0m \u001b[0mprint\u001b[0m\u001b[0;34m(\u001b[0m\u001b[0;34mf\"tercer_cuartil: {tercer_cuartil}\"\u001b[0m\u001b[0;34m)\u001b[0m\u001b[0;34m\u001b[0m\u001b[0;34m\u001b[0m\u001b[0m\n\u001b[0;32m----> 6\u001b[0;31m \u001b[0mprint\u001b[0m\u001b[0;34m(\u001b[0m\u001b[0;34mf\"rango_intercuartil: {rango_intercuartilcuartil}\"\u001b[0m\u001b[0;34m)\u001b[0m\u001b[0;34m\u001b[0m\u001b[0;34m\u001b[0m\u001b[0m\n\u001b[0m\u001b[1;32m      7\u001b[0m \u001b[0;34m\u001b[0m\u001b[0m\n\u001b[1;32m      8\u001b[0m \u001b[0mprint\u001b[0m\u001b[0;34m(\u001b[0m\u001b[0;34mf\"El percentil 90 de las edades es {np.percentile(pasajeros_edades, 90)}\"\u001b[0m\u001b[0;34m)\u001b[0m\u001b[0;34m\u001b[0m\u001b[0;34m\u001b[0m\u001b[0m\n",
            "\u001b[0;31mNameError\u001b[0m: name 'rango_intercuartilcuartil' is not defined"
          ]
        }
      ]
    }
  ]
}