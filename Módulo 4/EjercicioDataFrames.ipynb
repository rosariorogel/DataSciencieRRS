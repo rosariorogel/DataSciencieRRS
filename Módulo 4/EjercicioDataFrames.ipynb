{
  "nbformat": 4,
  "nbformat_minor": 0,
  "metadata": {
    "colab": {
      "provenance": []
    },
    "kernelspec": {
      "name": "python3",
      "display_name": "Python 3"
    },
    "language_info": {
      "name": "python"
    }
  },
  "cells": [
    {
      "cell_type": "code",
      "execution_count": 1,
      "metadata": {
        "colab": {
          "base_uri": "https://localhost:8080/"
        },
        "id": "Y0tdC-08F_at",
        "outputId": "9fd88580-cb42-4a64-e85f-7ee07f93dcfb"
      },
      "outputs": [
        {
          "output_type": "stream",
          "name": "stdout",
          "text": [
            "\r0% [Working]\r            \rGet:1 https://cloud.r-project.org/bin/linux/ubuntu jammy-cran40/ InRelease [3,626 B]\n",
            "Hit:2 https://developer.download.nvidia.com/compute/cuda/repos/ubuntu2204/x86_64  InRelease\n",
            "Get:3 https://cloud.r-project.org/bin/linux/ubuntu jammy-cran40/ Packages [52.9 kB]\n",
            "Get:4 http://security.ubuntu.com/ubuntu jammy-security InRelease [110 kB]\n",
            "Hit:5 http://archive.ubuntu.com/ubuntu jammy InRelease\n",
            "Get:6 http://archive.ubuntu.com/ubuntu jammy-updates InRelease [119 kB]\n",
            "Hit:7 https://ppa.launchpadcontent.net/c2d4u.team/c2d4u4.0+/ubuntu jammy InRelease\n",
            "Hit:8 https://ppa.launchpadcontent.net/deadsnakes/ppa/ubuntu jammy InRelease\n",
            "Get:9 http://archive.ubuntu.com/ubuntu jammy-backports InRelease [109 kB]\n",
            "Get:10 http://security.ubuntu.com/ubuntu jammy-security/main amd64 Packages [1,755 kB]\n",
            "Get:11 https://ppa.launchpadcontent.net/graphics-drivers/ppa/ubuntu jammy InRelease [24.3 kB]\n",
            "Get:12 http://archive.ubuntu.com/ubuntu jammy-updates/main amd64 Packages [2,035 kB]\n",
            "Hit:13 https://ppa.launchpadcontent.net/ubuntugis/ppa/ubuntu jammy InRelease\n",
            "Get:14 https://ppa.launchpadcontent.net/graphics-drivers/ppa/ubuntu jammy/main amd64 Packages [44.2 kB]\n",
            "Get:15 http://security.ubuntu.com/ubuntu jammy-security/universe amd64 Packages [1,077 kB]\n",
            "Get:16 http://archive.ubuntu.com/ubuntu jammy-updates/universe amd64 Packages [1,370 kB]\n",
            "Fetched 6,700 kB in 4s (1,639 kB/s)\n",
            "Reading package lists... Done\n"
          ]
        }
      ],
      "source": [
        "!apt-get update\n",
        "!apt-get install openjdk-8-jdk-headless -qq > /dev/null\n",
        "!wget -q https://downloads.apache.org/spark/spark-3.5.1/spark-3.5.1-bin-hadoop3.tgz\n",
        "!tar xf spark-3.5.1-bin-hadoop3.tgz\n",
        "!pip install -q findspark"
      ]
    },
    {
      "cell_type": "code",
      "source": [
        "import os\n",
        "os.environ[\"JAVA_HOME\"] = \"/usr/lib/jvm/java-8-openjdk-amd64\"\n",
        "os.environ[\"SPARK_HOME\"] = \"/content/spark-3.5.1-bin-hadoop3\"\n",
        "!update-alternatives --set java /usr/lib/jvm/java-8-openjdk-amd64/jre/bin/java\n",
        "!java -version"
      ],
      "metadata": {
        "colab": {
          "base_uri": "https://localhost:8080/"
        },
        "id": "J2YU8lsuI7tl",
        "outputId": "b85cc9df-7bad-4035-c1e3-4a56ff10dbe9"
      },
      "execution_count": 2,
      "outputs": [
        {
          "output_type": "stream",
          "name": "stdout",
          "text": [
            "update-alternatives: using /usr/lib/jvm/java-8-openjdk-amd64/jre/bin/java to provide /usr/bin/java (java) in manual mode\n",
            "openjdk version \"1.8.0_402\"\n",
            "OpenJDK Runtime Environment (build 1.8.0_402-8u402-ga-2ubuntu1~22.04-b06)\n",
            "OpenJDK 64-Bit Server VM (build 25.402-b06, mixed mode)\n"
          ]
        }
      ]
    },
    {
      "cell_type": "code",
      "source": [
        "import findspark\n",
        "findspark.init()\n"
      ],
      "metadata": {
        "id": "sRdSDtk4J0vh"
      },
      "execution_count": 3,
      "outputs": []
    },
    {
      "cell_type": "code",
      "source": [
        "from pyspark import SparkContext\n",
        "from pyspark.sql import SparkSession #para poder usar dataframes\n",
        "from pyspark.sql.types import StructType, StructField, IntegerType, StringType, FloatType\n",
        "#para el formato y tipos de datos que usaremos\n",
        "from pyspark.sql.types import Row #para formato de los tipos de columnas\n",
        "from pyspark.sql import SQLContext #para usar las operaciones propias de sql y dataframes"
      ],
      "metadata": {
        "id": "T6XPWvJ7J6vK"
      },
      "execution_count": 4,
      "outputs": []
    },
    {
      "cell_type": "code",
      "source": [
        "sc = SparkContext(master=\"local\", appName=\"DataFrames\")\n",
        "sqlContext = SQLContext(sc)"
      ],
      "metadata": {
        "colab": {
          "base_uri": "https://localhost:8080/"
        },
        "id": "fPfrz0q8MJrR",
        "outputId": "a96b8c48-9460-4e05-9133-d33a5c8d1a29"
      },
      "execution_count": 5,
      "outputs": [
        {
          "output_type": "stream",
          "name": "stderr",
          "text": [
            "/content/spark-3.5.1-bin-hadoop3/python/pyspark/sql/context.py:113: FutureWarning: Deprecated in 3.0.0. Use SparkSession.builder.getOrCreate() instead.\n",
            "  warnings.warn(\n"
          ]
        }
      ]
    },
    {
      "cell_type": "code",
      "source": [
        "from google.colab import drive\n",
        "drive.mount('/content/gdrive')"
      ],
      "metadata": {
        "colab": {
          "base_uri": "https://localhost:8080/"
        },
        "id": "GHEkYjZ7NbEQ",
        "outputId": "837821e5-a50f-42b8-db1d-1f5a5141ca6d"
      },
      "execution_count": 6,
      "outputs": [
        {
          "output_type": "stream",
          "name": "stdout",
          "text": [
            "Mounted at /content/gdrive\n"
          ]
        }
      ]
    },
    {
      "cell_type": "code",
      "source": [
        "path = \"/content/gdrive/My Drive/DatosSparkBD/\""
      ],
      "metadata": {
        "id": "BcGa2PEINoqd"
      },
      "execution_count": 10,
      "outputs": []
    },
    {
      "cell_type": "code",
      "source": [
        "#crear desde RDD un dataframe\n",
        "deportistaOlimpicoRDD = sc.textFile(path+\"deportista.csv\").map(lambda linea: linea.split(\",\"))"
      ],
      "metadata": {
        "id": "vKVhBCvJN7H8"
      },
      "execution_count": 11,
      "outputs": []
    },
    {
      "cell_type": "code",
      "source": [
        "deportistaOlimpicoRDD.take(5)"
      ],
      "metadata": {
        "colab": {
          "base_uri": "https://localhost:8080/"
        },
        "id": "5z2JKXT7OSfq",
        "outputId": "3048b8fd-be58-4358-aa24-5fbee9c2c56e"
      },
      "execution_count": 12,
      "outputs": [
        {
          "output_type": "execute_result",
          "data": {
            "text/plain": [
              "[['deportista_id', 'nombre', 'genero', 'edad', 'altura', 'peso', 'equipo_id'],\n",
              " ['1', 'A Dijiang', '1', '24', '180', '80', '199'],\n",
              " ['2', 'A Lamusi', '1', '23', '170', '60', '199'],\n",
              " ['3', 'Gunnar Nielsen Aaby', '1', '24', '0', '0', '273'],\n",
              " ['4', 'Edgar Lindenau Aabye', '1', '34', '0', '0', '278']]"
            ]
          },
          "metadata": {},
          "execution_count": 12
        }
      ]
    },
    {
      "cell_type": "code",
      "source": [
        "#Función para eliminar encabezados\n",
        "def eliminaEncabezado(index,iterator):\n",
        "  return iter(list(iterator)[1:])"
      ],
      "metadata": {
        "id": "ZhVSSWl8PEnh"
      },
      "execution_count": 13,
      "outputs": []
    },
    {
      "cell_type": "code",
      "source": [
        "deportistaOlimpicoRDD = deportistaOlimpicoRDD.mapPartitionsWithIndex(eliminaEncabezado)"
      ],
      "metadata": {
        "id": "oL1cuZcEQxoa"
      },
      "execution_count": 14,
      "outputs": []
    },
    {
      "cell_type": "code",
      "source": [
        "deportistaOlimpicoRDD.take(5)"
      ],
      "metadata": {
        "colab": {
          "base_uri": "https://localhost:8080/"
        },
        "id": "Vm92w8qGR7A7",
        "outputId": "3770a32d-d897-4dcb-ef42-205eee02a117"
      },
      "execution_count": 15,
      "outputs": [
        {
          "output_type": "execute_result",
          "data": {
            "text/plain": [
              "[['1', 'A Dijiang', '1', '24', '180', '80', '199'],\n",
              " ['2', 'A Lamusi', '1', '23', '170', '60', '199'],\n",
              " ['3', 'Gunnar Nielsen Aaby', '1', '24', '0', '0', '273'],\n",
              " ['4', 'Edgar Lindenau Aabye', '1', '34', '0', '0', '278'],\n",
              " ['5', 'Christine Jacoba Aaftink', '2', '21', '185', '82', '705']]"
            ]
          },
          "metadata": {},
          "execution_count": 15
        }
      ]
    },
    {
      "cell_type": "code",
      "source": [
        "deportistaOlimpicoRDD = deportistaOlimpicoRDD.map(lambda e: (\n",
        "    int(e[0]),\n",
        "    e[1],\n",
        "    int(e[2]),\n",
        "    int(e[3]),\n",
        "    int(e[4]),\n",
        "    float(e[5]),\n",
        "    int(e[6])\n",
        "    ))"
      ],
      "metadata": {
        "id": "HSHEV2fbSf_Q"
      },
      "execution_count": 16,
      "outputs": []
    },
    {
      "cell_type": "code",
      "source": [
        "#['deportista_id', 'nombre', 'genero', 'edad', 'altura', 'peso', 'equipo_id'],"
      ],
      "metadata": {
        "id": "u4D4zhIqU2N_"
      },
      "execution_count": null,
      "outputs": []
    },
    {
      "cell_type": "code",
      "source": [
        "schema = StructType([\n",
        "    StructField(\"deportista_id\",IntegerType(),False),\n",
        "    StructField(\"nombre\",StringType(),False),\n",
        "    StructField(\"genero\",IntegerType(),False),\n",
        "    StructField(\"edad\", IntegerType(), False),\n",
        "    StructField(\"altura\", IntegerType(), False),\n",
        "    StructField(\"peso\", FloatType(),False),\n",
        "    StructField(\"equipo_id\",IntegerType(),False)\n",
        "])"
      ],
      "metadata": {
        "id": "v23A0oYWUUUL"
      },
      "execution_count": 17,
      "outputs": []
    },
    {
      "cell_type": "code",
      "source": [
        "sqlContext.createDataFrame(deportistaOlimpicoRDD,schema).show(5)"
      ],
      "metadata": {
        "colab": {
          "base_uri": "https://localhost:8080/"
        },
        "id": "mHj4sA81WOdc",
        "outputId": "c60c388d-48bc-41e9-fe85-5c6bc8492dc5"
      },
      "execution_count": 19,
      "outputs": [
        {
          "output_type": "stream",
          "name": "stdout",
          "text": [
            "+-------------+--------------------+------+----+------+----+---------+\n",
            "|deportista_id|              nombre|genero|edad|altura|peso|equipo_id|\n",
            "+-------------+--------------------+------+----+------+----+---------+\n",
            "|            1|           A Dijiang|     1|  24|   180|80.0|      199|\n",
            "|            2|            A Lamusi|     1|  23|   170|60.0|      199|\n",
            "|            3| Gunnar Nielsen Aaby|     1|  24|     0| 0.0|      273|\n",
            "|            4|Edgar Lindenau Aabye|     1|  34|     0| 0.0|      278|\n",
            "|            5|Christine Jacoba ...|     2|  21|   185|82.0|      705|\n",
            "+-------------+--------------------+------+----+------+----+---------+\n",
            "only showing top 5 rows\n",
            "\n"
          ]
        }
      ]
    },
    {
      "cell_type": "code",
      "source": [
        "deportistaDF = sqlContext.createDataFrame(deportistaOlimpicoRDD,schema)"
      ],
      "metadata": {
        "id": "OM2KMYI-XV9U"
      },
      "execution_count": 20,
      "outputs": []
    },
    {
      "cell_type": "code",
      "source": [
        "deportistaDF.show(5)"
      ],
      "metadata": {
        "colab": {
          "base_uri": "https://localhost:8080/"
        },
        "id": "y1ft48d2XiI3",
        "outputId": "44848e64-0c29-4080-b3ec-6915e3b208ea"
      },
      "execution_count": 21,
      "outputs": [
        {
          "output_type": "stream",
          "name": "stdout",
          "text": [
            "+-------------+--------------------+------+----+------+----+---------+\n",
            "|deportista_id|              nombre|genero|edad|altura|peso|equipo_id|\n",
            "+-------------+--------------------+------+----+------+----+---------+\n",
            "|            1|           A Dijiang|     1|  24|   180|80.0|      199|\n",
            "|            2|            A Lamusi|     1|  23|   170|60.0|      199|\n",
            "|            3| Gunnar Nielsen Aaby|     1|  24|     0| 0.0|      273|\n",
            "|            4|Edgar Lindenau Aabye|     1|  34|     0| 0.0|      278|\n",
            "|            5|Christine Jacoba ...|     2|  21|   185|82.0|      705|\n",
            "+-------------+--------------------+------+----+------+----+---------+\n",
            "only showing top 5 rows\n",
            "\n"
          ]
        }
      ]
    },
    {
      "cell_type": "code",
      "source": [
        "#['', 'nombre_juego', 'annio', 'temporada', 'ciudad']"
      ],
      "metadata": {
        "id": "3V0ZWzXmYh5m"
      },
      "execution_count": null,
      "outputs": []
    },
    {
      "cell_type": "code",
      "source": [
        "#crear dataframe desde archivo\n",
        "juegoSchema = StructType([\n",
        "    StructField(\"juego_id\",IntegerType(),False),\n",
        "    StructField(\"nombre_juego\",StringType(),False),\n",
        "    StructField(\"annio\", IntegerType(),False),\n",
        "    StructField(\"temporada\",StringType(),False),\n",
        "    StructField(\"ciudad\",StringType(),False)\n",
        "])"
      ],
      "metadata": {
        "id": "VwSkGyRWX_uf"
      },
      "execution_count": 22,
      "outputs": []
    },
    {
      "cell_type": "code",
      "source": [
        "juegosDF = sqlContext.read.schema(juegoSchema).option(\"header\",\"true\").csv(path+\"juegos.csv\")"
      ],
      "metadata": {
        "id": "lofcKG4uZm42"
      },
      "execution_count": 23,
      "outputs": []
    },
    {
      "cell_type": "code",
      "source": [
        "juegosDF.show(5)"
      ],
      "metadata": {
        "colab": {
          "base_uri": "https://localhost:8080/"
        },
        "id": "lPHxL7araiqO",
        "outputId": "906ab260-a023-458f-8f57-0e58608a0449"
      },
      "execution_count": 24,
      "outputs": [
        {
          "output_type": "stream",
          "name": "stdout",
          "text": [
            "+--------+------------+-----+---------+---------+\n",
            "|juego_id|nombre_juego|annio|temporada|   ciudad|\n",
            "+--------+------------+-----+---------+---------+\n",
            "|       1| 1896 Verano| 1896|   Verano|   Athina|\n",
            "|       2| 1900 Verano| 1900|   Verano|    Paris|\n",
            "|       3| 1904 Verano| 1904|   Verano|St. Louis|\n",
            "|       4| 1906 Verano| 1906|   Verano|   Athina|\n",
            "|       5| 1908 Verano| 1908|   Verano|   London|\n",
            "+--------+------------+-----+---------+---------+\n",
            "only showing top 5 rows\n",
            "\n"
          ]
        }
      ]
    },
    {
      "cell_type": "code",
      "source": [
        "juegosDF.printSchema()"
      ],
      "metadata": {
        "colab": {
          "base_uri": "https://localhost:8080/"
        },
        "id": "vldBh8nwbEaD",
        "outputId": "d7e0b0e6-18e7-4151-acc2-76bd6a4e9193"
      },
      "execution_count": 25,
      "outputs": [
        {
          "output_type": "stream",
          "name": "stdout",
          "text": [
            "root\n",
            " |-- juego_id: integer (nullable = true)\n",
            " |-- nombre_juego: string (nullable = true)\n",
            " |-- annio: integer (nullable = true)\n",
            " |-- temporada: string (nullable = true)\n",
            " |-- ciudad: string (nullable = true)\n",
            "\n"
          ]
        }
      ]
    },
    {
      "cell_type": "code",
      "source": [
        "deportistaDF.printSchema()"
      ],
      "metadata": {
        "colab": {
          "base_uri": "https://localhost:8080/"
        },
        "id": "kervFaiIbVcD",
        "outputId": "51f36961-8de6-46dc-cbfd-7afe7b900889"
      },
      "execution_count": 26,
      "outputs": [
        {
          "output_type": "stream",
          "name": "stdout",
          "text": [
            "root\n",
            " |-- deportista_id: integer (nullable = false)\n",
            " |-- nombre: string (nullable = false)\n",
            " |-- genero: integer (nullable = false)\n",
            " |-- edad: integer (nullable = false)\n",
            " |-- altura: integer (nullable = false)\n",
            " |-- peso: float (nullable = false)\n",
            " |-- equipo_id: integer (nullable = false)\n",
            "\n"
          ]
        }
      ]
    },
    {
      "cell_type": "code",
      "source": [
        "deportistaDF = deportistaDF.withColumnRenamed(\"genero\",\"sexo\")"
      ],
      "metadata": {
        "id": "omIRsltsbf8A"
      },
      "execution_count": 27,
      "outputs": []
    },
    {
      "cell_type": "code",
      "source": [
        "deportistaDF.printSchema()"
      ],
      "metadata": {
        "colab": {
          "base_uri": "https://localhost:8080/"
        },
        "id": "lI9oT9ZKbsHO",
        "outputId": "4011aabc-c779-4f67-aa7c-fb54855d3b56"
      },
      "execution_count": 28,
      "outputs": [
        {
          "output_type": "stream",
          "name": "stdout",
          "text": [
            "root\n",
            " |-- deportista_id: integer (nullable = false)\n",
            " |-- nombre: string (nullable = false)\n",
            " |-- sexo: integer (nullable = false)\n",
            " |-- edad: integer (nullable = false)\n",
            " |-- altura: integer (nullable = false)\n",
            " |-- peso: float (nullable = false)\n",
            " |-- equipo_id: integer (nullable = false)\n",
            "\n"
          ]
        }
      ]
    },
    {
      "cell_type": "code",
      "source": [
        "deportistaDF = deportistaDF.drop(\"altura\")"
      ],
      "metadata": {
        "id": "rGGQVQD3cBf1"
      },
      "execution_count": 29,
      "outputs": []
    },
    {
      "cell_type": "code",
      "source": [
        "deportistaDF.printSchema()"
      ],
      "metadata": {
        "colab": {
          "base_uri": "https://localhost:8080/"
        },
        "id": "zLnnU1-3cMTS",
        "outputId": "62e12ec2-fc75-4a5a-e24f-4ba4f9afc1e5"
      },
      "execution_count": 30,
      "outputs": [
        {
          "output_type": "stream",
          "name": "stdout",
          "text": [
            "root\n",
            " |-- deportista_id: integer (nullable = false)\n",
            " |-- nombre: string (nullable = false)\n",
            " |-- sexo: integer (nullable = false)\n",
            " |-- edad: integer (nullable = false)\n",
            " |-- peso: float (nullable = false)\n",
            " |-- equipo_id: integer (nullable = false)\n",
            "\n"
          ]
        }
      ]
    },
    {
      "cell_type": "code",
      "source": [
        "from pyspark.sql.functions import *\n",
        "\n"
      ],
      "metadata": {
        "id": "Jb8K1fZKcxhV"
      },
      "execution_count": 31,
      "outputs": []
    },
    {
      "cell_type": "code",
      "source": [
        "deportistaDFSQL = deportistaDF.select(\"deportista_id\",\"nombre\",col(\"edad\").alias(\"edadAlJugar\"),\"equipo_id\")"
      ],
      "metadata": {
        "id": "EwJYHeuWdCjo"
      },
      "execution_count": 32,
      "outputs": []
    },
    {
      "cell_type": "code",
      "source": [
        "deportistaDFSQL.show(5)"
      ],
      "metadata": {
        "colab": {
          "base_uri": "https://localhost:8080/"
        },
        "id": "9gYvs8lPdjLJ",
        "outputId": "2d496927-46c3-48d2-e603-38f956455ff9"
      },
      "execution_count": 33,
      "outputs": [
        {
          "output_type": "stream",
          "name": "stdout",
          "text": [
            "+-------------+--------------------+-----------+---------+\n",
            "|deportista_id|              nombre|edadAlJugar|equipo_id|\n",
            "+-------------+--------------------+-----------+---------+\n",
            "|            1|           A Dijiang|         24|      199|\n",
            "|            2|            A Lamusi|         23|      199|\n",
            "|            3| Gunnar Nielsen Aaby|         24|      273|\n",
            "|            4|Edgar Lindenau Aabye|         34|      278|\n",
            "|            5|Christine Jacoba ...|         21|      705|\n",
            "+-------------+--------------------+-----------+---------+\n",
            "only showing top 5 rows\n",
            "\n"
          ]
        }
      ]
    },
    {
      "cell_type": "code",
      "source": [
        "deportistaDFSQL.sort(\"edadAlJugar\").show(5)"
      ],
      "metadata": {
        "colab": {
          "base_uri": "https://localhost:8080/"
        },
        "id": "IzZvVVkmeAuF",
        "outputId": "d73cb7d7-e753-466a-b741-4a009700ff6d"
      },
      "execution_count": 35,
      "outputs": [
        {
          "output_type": "stream",
          "name": "stdout",
          "text": [
            "+-------------+--------------------+-----------+---------+\n",
            "|deportista_id|              nombre|edadAlJugar|equipo_id|\n",
            "+-------------+--------------------+-----------+---------+\n",
            "|          133|           Franz Abb|          0|      399|\n",
            "|          167|Ould Lamine Abdallah|          0|      362|\n",
            "|           66|     Mohamed Abakkar|          0|     1003|\n",
            "|          163|     Ismail Abdallah|          0|     1095|\n",
            "|          139|George Ioannis Abbot|          0|     1043|\n",
            "+-------------+--------------------+-----------+---------+\n",
            "only showing top 5 rows\n",
            "\n"
          ]
        }
      ]
    },
    {
      "cell_type": "code",
      "source": [
        "deportistaDFSQL  = deportistaDFSQL.filter((deportistaDFSQL.edadAlJugar != 0))"
      ],
      "metadata": {
        "id": "Y_KTD24Be7RT"
      },
      "execution_count": 36,
      "outputs": []
    },
    {
      "cell_type": "code",
      "source": [
        "#deportistaDFSQL  = deportistaDFSQL.filter((deportistaDFSQL.edadAlJugar != 0) || (#otra condición))"
      ],
      "metadata": {
        "id": "Hg1NzuZIfjfu"
      },
      "execution_count": null,
      "outputs": []
    },
    {
      "cell_type": "code",
      "source": [
        "deportistaDFSQL.sort(\"edadAlJugar\").show(5)"
      ],
      "metadata": {
        "colab": {
          "base_uri": "https://localhost:8080/"
        },
        "id": "uE396pGVfTcj",
        "outputId": "12f48ddc-fee2-4330-e301-7407d962c17d"
      },
      "execution_count": 37,
      "outputs": [
        {
          "output_type": "stream",
          "name": "stdout",
          "text": [
            "+-------------+--------------------+-----------+---------+\n",
            "|deportista_id|              nombre|edadAlJugar|equipo_id|\n",
            "+-------------+--------------------+-----------+---------+\n",
            "|        22411|Magdalena Cecilia...|         11|      413|\n",
            "|        40129|    Luigina Giavotti|         11|      507|\n",
            "|        37333|Carlos Bienvenido...|         11|      982|\n",
            "|        47618|Sonja Henie Toppi...|         11|      742|\n",
            "|        51268|      Beatrice Hutiu|         11|      861|\n",
            "+-------------+--------------------+-----------+---------+\n",
            "only showing top 5 rows\n",
            "\n"
          ]
        }
      ]
    }
  ]
}