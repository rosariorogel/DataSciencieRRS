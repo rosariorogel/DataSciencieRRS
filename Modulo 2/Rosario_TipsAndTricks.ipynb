{
  "cells": [
    {
      "cell_type": "markdown",
      "metadata": {
        "id": "view-in-github",
        "colab_type": "text"
      },
      "source": [
        "<a href=\"https://colab.research.google.com/github/rosariorogel/DataSciencieRRS/blob/main/Rosario_TipsAndTricks.ipynb\" target=\"_parent\"><img src=\"https://colab.research.google.com/assets/colab-badge.svg\" alt=\"Open In Colab\"/></a>"
      ]
    },
    {
      "cell_type": "markdown",
      "metadata": {
        "id": "q4Hkxe034emO"
      },
      "source": [
        "### Creando códigos QR"
      ]
    },
    {
      "cell_type": "code",
      "execution_count": null,
      "metadata": {
        "id": "-r-LZ5MZ4emR"
      },
      "outputs": [],
      "source": [
        "#Instalamos la biblioteca qrcode\n",
        "!pip install qrcode"
      ]
    },
    {
      "cell_type": "code",
      "execution_count": null,
      "metadata": {
        "id": "tMEEd5a84emT"
      },
      "outputs": [],
      "source": [
        "import qrcode  #Biblioteca que nos permite generar códigos QR\n",
        "from IPython.display import Image #Para poder desplegar imágenes en la notebook"
      ]
    },
    {
      "cell_type": "code",
      "execution_count": null,
      "metadata": {
        "id": "Wk_5dkLp4emT"
      },
      "outputs": [],
      "source": [
        "vinculo = \"https://www.kaggle.com/learn\"\n",
        "imagen = qrcode.make(vinculo)\n",
        "imagen.save(\"codigo.png\")"
      ]
    },
    {
      "cell_type": "markdown",
      "metadata": {
        "id": "UMg4LnhN4emT"
      },
      "source": [
        "Visualizamos el código QR resultante."
      ]
    },
    {
      "cell_type": "code",
      "execution_count": null,
      "metadata": {
        "id": "Dq0ccoym4emT"
      },
      "outputs": [],
      "source": [
        "Image('codigo.png', width=300, height=300)"
      ]
    },
    {
      "cell_type": "markdown",
      "metadata": {
        "id": "aojZ_FoN4emU"
      },
      "source": [
        "#### **Uso avanzado**: diferentes estilos de dibujo para el código QR"
      ]
    },
    {
      "cell_type": "markdown",
      "metadata": {
        "id": "nXtktiaP4emU"
      },
      "source": [
        "##### Usando colores diferentes\n",
        "\n",
        "Crearemos un objeto de la clase QRCode para definir sus propiedades básicas."
      ]
    },
    {
      "cell_type": "code",
      "execution_count": null,
      "metadata": {
        "id": "f7U3Jc4h4emU"
      },
      "outputs": [],
      "source": [
        "qr = qrcode.QRCode(\n",
        "    version=1,\n",
        "    error_correction=qrcode.constants.ERROR_CORRECT_L,\n",
        "    box_size=10,  #controla cuántos píxeles tiene cada \"caja\" del código QR.\n",
        "    border=4,\n",
        ")"
      ]
    },
    {
      "cell_type": "markdown",
      "metadata": {
        "id": "TQ1RoDph4emU"
      },
      "source": [
        "El parámetro ***version*** es un número entero de 1 a 40 que controla el tamaño del código QR (el más pequeño, version = 1, es una matriz de 21x21). Ajústelo a `None` y utilice el parámetro `fit` al crear el código para determinarlo automáticamente.\n",
        "\n",
        "El parámetro ***box_size*** controla cuántos píxeles tiene cada \"casilla\" del código QR.\n",
        "\n",
        "El parámetro ***border*** controla cuántas casillas de grosor debe tener el borde (el valor por defecto es 4, que es el mínimo según las especificaciones)."
      ]
    },
    {
      "cell_type": "markdown",
      "metadata": {
        "id": "HSethIcp4emU"
      },
      "source": [
        "Agregamos la información que va a contener el código QR:"
      ]
    },
    {
      "cell_type": "code",
      "execution_count": null,
      "metadata": {
        "id": "3w8kl1UQ4emV"
      },
      "outputs": [],
      "source": [
        "vinculo = \"https://www.kaggle.com/learn\"\n",
        "qr.add_data(vinculo)\n",
        "qr.make(fit=True)\n",
        "img = qr.make_image(fill_color=\"DarkGoldenRod\", back_color=\"white\")"
      ]
    },
    {
      "cell_type": "markdown",
      "metadata": {
        "id": "DpBfScl34emV"
      },
      "source": [
        "`fill_color` y `back_color` pueden cambiar el fondo y el color de frente del QR, cuando se utiliza la fábrica de imágenes por defecto. Ambos parámetros aceptan tuplas de color RGB."
      ]
    },
    {
      "cell_type": "code",
      "execution_count": null,
      "metadata": {
        "id": "8vlSUrOY4emV"
      },
      "outputs": [],
      "source": [
        "img.save('kaggle_color.png')"
      ]
    },
    {
      "cell_type": "code",
      "execution_count": null,
      "metadata": {
        "id": "juhr9-Pu4emW"
      },
      "outputs": [],
      "source": [
        "Image('kaggle_color.png', width=300, height=300)"
      ]
    }
  ],
  "metadata": {
    "kernelspec": {
      "display_name": "Python 3",
      "language": "python",
      "name": "python3"
    },
    "language_info": {
      "codemirror_mode": {
        "name": "ipython",
        "version": 3
      },
      "file_extension": ".py",
      "mimetype": "text/x-python",
      "name": "python",
      "nbconvert_exporter": "python",
      "pygments_lexer": "ipython3",
      "version": "3.10.13"
    },
    "colab": {
      "provenance": [],
      "include_colab_link": true
    }
  },
  "nbformat": 4,
  "nbformat_minor": 0
}