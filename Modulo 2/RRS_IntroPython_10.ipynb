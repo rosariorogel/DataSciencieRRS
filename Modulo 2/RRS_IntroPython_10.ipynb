{
  "cells": [
    {
      "cell_type": "markdown",
      "metadata": {
        "id": "view-in-github",
        "colab_type": "text"
      },
      "source": [
        "<a href=\"https://colab.research.google.com/github/rosariorogel/DataSciencieRRS/blob/main/RRS_IntroPython_10.ipynb\" target=\"_parent\"><img src=\"https://colab.research.google.com/assets/colab-badge.svg\" alt=\"Open In Colab\"/></a>"
      ]
    },
    {
      "cell_type": "markdown",
      "metadata": {
        "id": "PhJzBeoBlSUQ"
      },
      "source": [
        "# JSON\n",
        "\n",
        "La Notación de Objetos JavaScript o JSON (**J**ava**S**cript **O**bject **N**otation, por sus siglas en inglés) se inspira en un subconjunto del lenguaje de programación JavaScript que se ocupa de la sintaxis literal de objetos.\n",
        "\n",
        "Hace tiempo que JSON existe como su propio estándar, así que podemos utilizarlo en una amplia variedad de lenguajes independientes de JavaScript.\n",
        "\n",
        "Veamos un ejemplo de la sintaxis JSON:"
      ]
    },
    {
      "cell_type": "markdown",
      "metadata": {
        "id": "7C5yZxyjrJXj"
      },
      "source": [
        "\n",
        "\n",
        "```\n",
        "{\n",
        "    \"firstName\": \"Homer\",\n",
        "    \"lastName\": \"Simpson\",\n",
        "    \"hobbies\": [\"sleeping\", \"bowling\", \"eating pink sprinkle donuts\"],\n",
        "    \"age\": 36,\n",
        "    \"children\": [\n",
        "        {\n",
        "            \"firstName\": \"Bart\",\n",
        "            \"age\": 10\n",
        "        },\n",
        "        {\n",
        "            \"firstName\": \"Lisa\",\n",
        "            \"age\": 8\n",
        "        },\n",
        "        {\n",
        "            \"firstName\": \"Maggie\",\n",
        "            \"age\": 1\n",
        "        }\n",
        "    ]\n",
        "}\n",
        "```\n",
        "\n"
      ]
    },
    {
      "cell_type": "markdown",
      "metadata": {
        "id": "WE3oXaDjtP9y"
      },
      "source": [
        "Como puede observarse JSON soporta tipos primitivos como cadenas (string) y números (int, float), así como listas y objetos anidados."
      ]
    },
    {
      "cell_type": "markdown",
      "metadata": {
        "id": "zzUNBq35lzIP"
      },
      "source": [
        "Python soporta JSON de forma nativa a través del módulo json\n",
        "\n"
      ]
    },
    {
      "cell_type": "code",
      "execution_count": null,
      "metadata": {
        "id": "28bleZqblOx4"
      },
      "outputs": [],
      "source": [
        "import json"
      ]
    },
    {
      "cell_type": "markdown",
      "metadata": {
        "id": "DGxzh-qqmYF9"
      },
      "source": [
        "### Serialización de JSON\n",
        "\n",
        "La biblioteca json expone el método `dump()` para escribir datos en archivos. También existe un método `dumps()` (pronunciado como \"dump-s\") para escribir en una cadena Python.\n",
        "\n",
        "Los objetos Python simples se traducen a JSON según una conversión bastante intuitiva.\n",
        "\n",
        "```\n",
        "Python              JSON\n",
        "dict\t            object\n",
        "list, tuple\t     array\n",
        "str                 string\n",
        "int, long, float\tnumber\n",
        "True\t            true\n",
        "False\t           false\n",
        "None\t            null\n",
        "```"
      ]
    },
    {
      "cell_type": "code",
      "execution_count": null,
      "metadata": {
        "id": "Wi49BBR0ot5J"
      },
      "outputs": [],
      "source": [
        "data = {\n",
        "    \"firstName\": \"Homer\",\n",
        "    \"lastName\": \"Simpson\",\n",
        "    \"hobbies\": [\"sleeping\", \"bowling\", \"eating pink sprinkle donuts\"],\n",
        "    \"age\": 36,\n",
        "    \"children\": [\n",
        "        {\n",
        "            \"firstName\": \"Bart\",\n",
        "            \"age\": 10\n",
        "        },\n",
        "        {\n",
        "            \"firstName\": \"Lisa\",\n",
        "            \"age\": 8\n",
        "        },\n",
        "        {\n",
        "            \"firstName\": \"Maggie\",\n",
        "            \"age\": 1\n",
        "        }\n",
        "    ]\n",
        "}"
      ]
    },
    {
      "cell_type": "markdown",
      "metadata": {
        "id": "ZEs97PLEpblf"
      },
      "source": [
        "A partir de un diccionario podemos guardar un archivo en formato json"
      ]
    },
    {
      "cell_type": "code",
      "execution_count": null,
      "metadata": {
        "id": "zy8yNlikozr9"
      },
      "outputs": [],
      "source": [
        "with open(\"datos.json\", \"w\") as write_file:\n",
        "    json.dump(data, write_file)"
      ]
    },
    {
      "cell_type": "markdown",
      "metadata": {
        "id": "sRwBZJqmquQz"
      },
      "source": [
        "Para leer un archivo json podemos usar lo siguiente:"
      ]
    },
    {
      "cell_type": "code",
      "execution_count": null,
      "metadata": {
        "id": "fV5QTP8vqzpL"
      },
      "outputs": [],
      "source": [
        "with open(\"datos.json\", \"r\") as read_file:\n",
        "    data = json.load(read_file)"
      ]
    },
    {
      "cell_type": "code",
      "execution_count": null,
      "metadata": {
        "id": "kdZ5iqI9q4RF"
      },
      "outputs": [],
      "source": [
        "data"
      ]
    },
    {
      "cell_type": "markdown",
      "metadata": {
        "id": "aGdZr00qq9b1"
      },
      "source": [
        "### Convertir un dataset separado por comas (csv) en json"
      ]
    },
    {
      "cell_type": "code",
      "execution_count": null,
      "metadata": {
        "id": "vRXTwZH1rYgH"
      },
      "outputs": [],
      "source": [
        "import pandas as pd"
      ]
    },
    {
      "cell_type": "code",
      "execution_count": null,
      "metadata": {
        "id": "a7JCzKddq7xk"
      },
      "outputs": [],
      "source": [
        "# ruta al archivo\n",
        "titanic_filepath = \"https://raw.githubusercontent.com/vbatiz/intro-python/main/notebooks/data/titanic.csv\"\n",
        "\n",
        "# cargamos el dataset\n",
        "titanic_data = pd.read_csv(titanic_filepath)"
      ]
    },
    {
      "cell_type": "code",
      "execution_count": null,
      "metadata": {
        "id": "tw5o2Hvnsv7-"
      },
      "outputs": [],
      "source": [
        "titanic_data.dtypes"
      ]
    },
    {
      "cell_type": "code",
      "execution_count": null,
      "metadata": {
        "id": "yY4aoc2_rfGl"
      },
      "outputs": [],
      "source": [
        "titanic_data.to_json(\"titanic.json\")"
      ]
    },
    {
      "cell_type": "markdown",
      "metadata": {
        "id": "OA_3TWirsPvV"
      },
      "source": [
        "Podemos abrir el archivo y convertirlo en diccionario"
      ]
    },
    {
      "cell_type": "code",
      "execution_count": null,
      "metadata": {
        "id": "IA_Q1y8hry2e"
      },
      "outputs": [],
      "source": [
        "with open(\"titanic.json\", \"r\") as read_file:\n",
        "    titanic_data = json.load(read_file)"
      ]
    },
    {
      "cell_type": "code",
      "execution_count": null,
      "metadata": {
        "id": "lrBLBT96r4dO"
      },
      "outputs": [],
      "source": [
        "type(titanic_data)\n",
        "print(titanic_data[\"Name\"])"
      ]
    },
    {
      "cell_type": "markdown",
      "metadata": {
        "id": "3ypyYJAos3F9"
      },
      "source": [
        "Podemos leerlo con pandas y usarlo como dataframe"
      ]
    },
    {
      "cell_type": "code",
      "execution_count": null,
      "metadata": {
        "id": "C28saY_rs62Q"
      },
      "outputs": [],
      "source": [
        "titanic_df = pd.read_json(\"titanic.json\")"
      ]
    },
    {
      "cell_type": "code",
      "execution_count": null,
      "metadata": {
        "id": "kSlIx9lotD-2"
      },
      "outputs": [],
      "source": [
        "titanic_df.head()"
      ]
    }
  ],
  "metadata": {
    "colab": {
      "provenance": [],
      "include_colab_link": true
    },
    "kernelspec": {
      "display_name": "Python 3",
      "name": "python3"
    },
    "language_info": {
      "name": "python"
    }
  },
  "nbformat": 4,
  "nbformat_minor": 0
}