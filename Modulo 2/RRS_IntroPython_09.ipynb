{
  "cells": [
    {
      "cell_type": "markdown",
      "metadata": {
        "id": "view-in-github",
        "colab_type": "text"
      },
      "source": [
        "<a href=\"https://colab.research.google.com/github/rosariorogel/DataSciencieRRS/blob/main/RRS_IntroPython_09.ipynb\" target=\"_parent\"><img src=\"https://colab.research.google.com/assets/colab-badge.svg\" alt=\"Open In Colab\"/></a>"
      ]
    },
    {
      "cell_type": "markdown",
      "metadata": {
        "id": "kt1CqzCw2Ifa"
      },
      "source": [
        "# Python básico: listas, tuplas, diccionarios y conjuntos"
      ]
    },
    {
      "cell_type": "markdown",
      "metadata": {
        "id": "Eani0q0qBXtr"
      },
      "source": [
        "## [Listas]\n",
        "Una lista es un arreglo ordenado de elementos. Se define por valores separados por coma y encerrados por dos corchetes (`[]`)"
      ]
    },
    {
      "cell_type": "code",
      "execution_count": null,
      "metadata": {
        "colab": {
          "base_uri": "https://localhost:8080/"
        },
        "id": "JFzuZO1E1RBC",
        "outputId": "543e772e-e94d-4923-acfd-8eedd49facc9"
      },
      "outputs": [
        {
          "output_type": "execute_result",
          "data": {
            "text/plain": [
              "list"
            ]
          },
          "metadata": {},
          "execution_count": 14
        }
      ],
      "source": [
        "materias = [\"CALCULO\", \"FINANZAS\", \"OPTIMIZACION\", \"GEOMETRIA\", \"PROGRAMACION\", \"ESTADISTICA\"]\n",
        "type(materias)"
      ]
    },
    {
      "cell_type": "code",
      "execution_count": null,
      "metadata": {
        "id": "mV38X66ysrL0",
        "colab": {
          "base_uri": "https://localhost:8080/"
        },
        "outputId": "f6290432-9256-4cdc-eaff-d8f8a5acdfc3"
      },
      "outputs": [
        {
          "output_type": "execute_result",
          "data": {
            "text/plain": [
              "['CALCULO',\n",
              " 'FINANZAS',\n",
              " 'OPTIMIZACION',\n",
              " 'GEOMETRIA',\n",
              " 'PROGRAMACION',\n",
              " 'ESTADISTICA']"
            ]
          },
          "metadata": {},
          "execution_count": 15
        }
      ],
      "source": [
        "materias"
      ]
    },
    {
      "cell_type": "markdown",
      "metadata": {
        "id": "w-DbELI92bJL"
      },
      "source": [
        "### Subconjuntos:\n",
        "En una lista, al igual que con string (una sequencia ordenada de carácteres), accedemos a los valores de una lista usando la misma notación de corchetes."
      ]
    },
    {
      "cell_type": "code",
      "execution_count": null,
      "metadata": {
        "colab": {
          "base_uri": "https://localhost:8080/"
        },
        "id": "WWEIzxvD2fTn",
        "outputId": "247981b6-2ba0-4b4e-e7f9-ed79c4219625"
      },
      "outputs": [
        {
          "output_type": "stream",
          "name": "stdout",
          "text": [
            "PROGRAMACION\n",
            "['CALCULO', 'FINANZAS', 'OPTIMIZACION']\n",
            "['GEOMETRIA', 'PROGRAMACION', 'ESTADISTICA']\n",
            "['CALCULO', 'FINANZAS', 'OPTIMIZACION', 'GEOMETRIA', 'PROGRAMACION', 'ESTADISTICA']\n"
          ]
        }
      ],
      "source": [
        "print(materias[4])\n",
        "print(materias[:3])\n",
        "print(materias[3:])\n",
        "print(materias[:])"
      ]
    },
    {
      "cell_type": "markdown",
      "metadata": {
        "id": "UzzbLXb26pEC"
      },
      "source": [
        "**Número de elementos**  \n",
        "Por medio de la función `len` podemos conocer el número de elementos dentro de una lista."
      ]
    },
    {
      "cell_type": "code",
      "execution_count": null,
      "metadata": {
        "id": "PAPRUlO46qCf",
        "colab": {
          "base_uri": "https://localhost:8080/"
        },
        "outputId": "cbae58a5-d70d-4db7-92f1-8b87412e03f5"
      },
      "outputs": [
        {
          "output_type": "execute_result",
          "data": {
            "text/plain": [
              "6"
            ]
          },
          "metadata": {},
          "execution_count": 17
        }
      ],
      "source": [
        "len(materias)"
      ]
    },
    {
      "cell_type": "markdown",
      "metadata": {
        "id": "ePts57D06s5n"
      },
      "source": [
        "**Suma de elementos**  \n",
        "Otra de las funciones incluidas en Python es `sum`, sobre la cuál podemos sumar todos los elementos de la lista"
      ]
    },
    {
      "cell_type": "code",
      "execution_count": null,
      "metadata": {
        "id": "K6WWMwoK6yTR",
        "colab": {
          "base_uri": "https://localhost:8080/"
        },
        "outputId": "a28acc56-56cb-4763-a774-81327eb6707d"
      },
      "outputs": [
        {
          "output_type": "stream",
          "name": "stdout",
          "text": [
            "36\n"
          ]
        }
      ],
      "source": [
        "numeros = [5,3,2,7,8,11]\n",
        "resultado = sum(numeros)\n",
        "print(resultado)"
      ]
    },
    {
      "cell_type": "markdown",
      "metadata": {
        "id": "5gPLUUPW9f7p"
      },
      "source": [
        "**Ordenar elementos**  \n",
        "Una más de las funciones incluidas en Python es `sorted`, sobre la cuál podemos ordenar todos los elementos de la lista"
      ]
    },
    {
      "cell_type": "code",
      "execution_count": null,
      "metadata": {
        "id": "J3ViIu0p9yCw",
        "colab": {
          "base_uri": "https://localhost:8080/"
        },
        "outputId": "4ad77efb-2e17-45d4-b81c-ddc180d342d3"
      },
      "outputs": [
        {
          "output_type": "stream",
          "name": "stdout",
          "text": [
            "la lista [5, 3, 2, 7, 8, 11] queda ordenada de la siguiente manera [2, 3, 5, 7, 8, 11]\n"
          ]
        }
      ],
      "source": [
        "numeros = [5,3,2,7,8,11]\n",
        "print(f\"la lista {numeros} queda ordenada de la siguiente manera {sorted(numeros)}\")"
      ]
    },
    {
      "cell_type": "markdown",
      "metadata": {
        "id": "V_e_UGf4_qQn"
      },
      "source": [
        "## Índices\n",
        "A diferencia de un `str`, un `list` nos permite obtener, asignar, reemplazar y eliminar valores dentro de una lista."
      ]
    },
    {
      "cell_type": "code",
      "execution_count": null,
      "metadata": {
        "id": "ZltYNmkk_rKo",
        "colab": {
          "base_uri": "https://localhost:8080/"
        },
        "outputId": "df4f0b79-26a1-45f8-ddf3-3af2f0a10d04"
      },
      "outputs": [
        {
          "output_type": "stream",
          "name": "stdout",
          "text": [
            "5\n",
            "10\n"
          ]
        }
      ],
      "source": [
        "numeros = [5,3,2,7,8,11]\n",
        "#Imprime el primer elemento de la lista\n",
        "print(numeros[0])\n",
        "#Asigna un nuevo valor al primer elemento de la lista\n",
        "numeros[0] = 10\n",
        "print(numeros[0])\n"
      ]
    },
    {
      "cell_type": "code",
      "execution_count": null,
      "metadata": {
        "id": "96_66SKpAP37",
        "colab": {
          "base_uri": "https://localhost:8080/"
        },
        "outputId": "619b73fa-953e-4c79-fba5-d49628113d96"
      },
      "outputs": [
        {
          "output_type": "stream",
          "name": "stdout",
          "text": [
            "[5, 3, 2, 7, 8, 11]\n",
            "[5, 7, 8, 11]\n"
          ]
        }
      ],
      "source": [
        "numeros = [5,3,2,7,8,11]\n",
        "# Eliminamos del segundo al tercer elemento\n",
        "print(numeros)\n",
        "numeros[1:3] = []\n",
        "print(numeros)"
      ]
    },
    {
      "cell_type": "markdown",
      "metadata": {
        "id": "bFK4xw-qAiu_"
      },
      "source": [
        "### Estructura:\n",
        "Las listas pueden agrupar cualquier tipo de objeto"
      ]
    },
    {
      "cell_type": "code",
      "execution_count": null,
      "metadata": {
        "id": "ad9FIGJlAmpQ",
        "colab": {
          "base_uri": "https://localhost:8080/"
        },
        "outputId": "9a248dc0-889a-470a-a0e8-62f91fc3d64e"
      },
      "outputs": [
        {
          "output_type": "execute_result",
          "data": {
            "text/plain": [
              "['e', 3.14159, ['alpha', 'beta', 'gamma'], True]"
            ]
          },
          "metadata": {},
          "execution_count": 22
        }
      ],
      "source": [
        "pi = 3.14159\n",
        "[\"e\", pi, [\"alpha\", \"beta\", \"gamma\"], True]"
      ]
    },
    {
      "cell_type": "markdown",
      "metadata": {
        "id": "B8MOMlwOA4iO"
      },
      "source": [
        "### Concatenar dos listas"
      ]
    },
    {
      "cell_type": "code",
      "execution_count": null,
      "metadata": {
        "id": "Hz_YPmfRA-Ls",
        "colab": {
          "base_uri": "https://localhost:8080/"
        },
        "outputId": "aa88b3da-d1d8-4143-db0b-f51c77f8cf6a"
      },
      "outputs": [
        {
          "output_type": "stream",
          "name": "stdout",
          "text": [
            "['Gauss', 'Fermat', 'Spivak ', 'Oksendal', 'Newton', 'Einstein', 'Maxwell']\n"
          ]
        }
      ],
      "source": [
        "matematicos = [\"Gauss\", \"Fermat\", \"Spivak \", \"Oksendal\"]\n",
        "fisicos = [\"Newton\", \"Einstein\", \"Maxwell\"]\n",
        "\n",
        "cientificos = matematicos + fisicos\n",
        "print(cientificos)"
      ]
    },
    {
      "cell_type": "markdown",
      "metadata": {
        "id": "helVT_4qBOiU"
      },
      "source": [
        "### Copiar una lista\n",
        "Cada elemento en python lo identifica un único `id`."
      ]
    },
    {
      "cell_type": "code",
      "execution_count": null,
      "metadata": {
        "id": "oca3jEIrBmMv",
        "colab": {
          "base_uri": "https://localhost:8080/"
        },
        "outputId": "ac87f025-5d5f-4718-bd02-4581cfdc6168"
      },
      "outputs": [
        {
          "output_type": "execute_result",
          "data": {
            "text/plain": [
              "137075328287744"
            ]
          },
          "metadata": {},
          "execution_count": 24
        }
      ],
      "source": [
        "id(cientificos)"
      ]
    },
    {
      "cell_type": "markdown",
      "metadata": {
        "id": "ivxhiDIY6mX8"
      },
      "source": [
        "Al asignar una variable a una lista existente \"apunta\" al mismo `id`"
      ]
    },
    {
      "cell_type": "code",
      "execution_count": null,
      "metadata": {
        "id": "poDfJ2AiBvzQ",
        "colab": {
          "base_uri": "https://localhost:8080/"
        },
        "outputId": "bc8a60f3-ff97-4f14-d32c-0328be8b1f97"
      },
      "outputs": [
        {
          "output_type": "stream",
          "name": "stdout",
          "text": [
            "137075328287744 137075328287744\n"
          ]
        }
      ],
      "source": [
        "cientificos2 = cientificos\n",
        "print(id(cientificos),id(cientificos2))"
      ]
    },
    {
      "cell_type": "markdown",
      "metadata": {
        "id": "vDYQ9Std637M"
      },
      "source": [
        "Cualquier modificación a `cientificos2` afectará a `cientificos`"
      ]
    },
    {
      "cell_type": "code",
      "execution_count": null,
      "metadata": {
        "id": "bpE5XYqcCO0F",
        "colab": {
          "base_uri": "https://localhost:8080/"
        },
        "outputId": "801bddac-b88c-4498-a63e-44ce2197b3b4"
      },
      "outputs": [
        {
          "output_type": "stream",
          "name": "stdout",
          "text": [
            "['Fleming', 'Fermat', 'Spivak ', 'Oksendal', 'Newton', 'Einstein', 'Maxwell']\n"
          ]
        }
      ],
      "source": [
        "#Modificamos cientificos2\n",
        "cientificos2[0] = \"Fleming\"\n",
        "#Imprimimos cientificos\n",
        "print(cientificos)"
      ]
    },
    {
      "cell_type": "markdown",
      "metadata": {
        "id": "1gdp2UkBCuBJ"
      },
      "source": [
        "Para obtener una copia de la lista, usar [:]"
      ]
    },
    {
      "cell_type": "code",
      "execution_count": null,
      "metadata": {
        "id": "ayZdu-RsCzh9",
        "colab": {
          "base_uri": "https://localhost:8080/"
        },
        "outputId": "4a87bcbf-2308-4630-dab9-80fe034eebe4"
      },
      "outputs": [
        {
          "output_type": "stream",
          "name": "stdout",
          "text": [
            "137075328287744\n",
            "137075328341760\n",
            "137075328221248\n"
          ]
        }
      ],
      "source": [
        "cientificos3 = cientificos[:]\n",
        "cientificos4 = cientificos.copy()\n",
        "print(id(cientificos))\n",
        "print(id(cientificos3))\n",
        "print(id(cientificos4))"
      ]
    },
    {
      "cell_type": "code",
      "execution_count": null,
      "metadata": {
        "id": "zG_dQ7hUDMb9",
        "colab": {
          "base_uri": "https://localhost:8080/"
        },
        "outputId": "b912dbc6-94b6-46da-d26d-3a8840664661"
      },
      "outputs": [
        {
          "output_type": "stream",
          "name": "stdout",
          "text": [
            "lista 'rates3':\n",
            "['Leibniz', 'Fermat', 'Spivak ', 'Oksendal', 'Newton', 'Einstein', 'Maxwell']\n",
            "\n",
            "lista 'rates':\n",
            "['Fleming', 'Fermat', 'Spivak ', 'Oksendal', 'Newton', 'Einstein', 'Maxwell']\n"
          ]
        }
      ],
      "source": [
        "cientificos3[0] = \"Leibniz\"\n",
        "print(\"lista 'rates3':\", cientificos3, \"\", sep=\"\\n\")\n",
        "print(\"lista 'rates':\", cientificos, sep=\"\\n\")"
      ]
    },
    {
      "cell_type": "markdown",
      "metadata": {
        "id": "e-Mx6qpYDx51"
      },
      "source": [
        "### Métodos de una `lista`\n",
        "Al igual que los strings, las listas contienen métodos (funciones definidas para una sola clase)"
      ]
    },
    {
      "cell_type": "code",
      "execution_count": null,
      "metadata": {
        "id": "dsUJsscmD3EO",
        "colab": {
          "base_uri": "https://localhost:8080/"
        },
        "outputId": "3f6eb4c4-071f-4d44-d260-88d49a7e8185"
      },
      "outputs": [
        {
          "output_type": "stream",
          "name": "stdout",
          "text": [
            "['ALGEBRA', 'GEOMETRIA', 'PROGRAMACION', 'ESTADISTICA']\n",
            "['ESTADISTICA', 'PROGRAMACION', 'GEOMETRIA', 'ALGEBRA']\n"
          ]
        }
      ],
      "source": [
        "materias = ['ALGEBRA', 'GEOMETRIA', 'PROGRAMACION', 'ESTADISTICA']\n",
        "print(materias)\n",
        "#invertimos la lista\n",
        "materias.reverse()\n",
        "print(materias)"
      ]
    },
    {
      "cell_type": "markdown",
      "metadata": {
        "id": "P4_TzPlbETdO"
      },
      "source": [
        "Agregando elementos a una lista"
      ]
    },
    {
      "cell_type": "code",
      "execution_count": null,
      "metadata": {
        "id": "owRx_RAnEYvT",
        "colab": {
          "base_uri": "https://localhost:8080/"
        },
        "outputId": "405d1e1e-0fc9-4dab-a3d8-ea8e335eb8db"
      },
      "outputs": [
        {
          "output_type": "stream",
          "name": "stdout",
          "text": [
            "['ESTADISTICA', 'PROGRAMACION', 'GEOMETRIA', 'ALGEBRA', 'FINANZAS']\n"
          ]
        }
      ],
      "source": [
        "materias.append(\"FINANZAS\")\n",
        "print(materias)"
      ]
    },
    {
      "cell_type": "code",
      "execution_count": null,
      "metadata": {
        "id": "tHp_PnW5EpjL",
        "colab": {
          "base_uri": "https://localhost:8080/"
        },
        "outputId": "01dca788-5f64-4f8d-9aa9-90758f3dedfe"
      },
      "outputs": [
        {
          "output_type": "stream",
          "name": "stdout",
          "text": [
            "['ESTADISTICA', 'ALGEBRA SUPERIOR', 'PROGRAMACION', 'GEOMETRIA', 'ALGEBRA', 'FINANZAS']\n"
          ]
        }
      ],
      "source": [
        "# Insertar 'álgebra superior' en la segunda posición\n",
        "materias.insert(1, \"ALGEBRA SUPERIOR\")\n",
        "print(materias)"
      ]
    },
    {
      "cell_type": "code",
      "execution_count": null,
      "metadata": {
        "id": "VwwLBP4OExmn",
        "colab": {
          "base_uri": "https://localhost:8080/"
        },
        "outputId": "42688065-ccf6-4d98-c1c8-c97882decf51"
      },
      "outputs": [
        {
          "output_type": "execute_result",
          "data": {
            "text/plain": [
              "3"
            ]
          },
          "metadata": {},
          "execution_count": 32
        }
      ],
      "source": [
        "#Obtener el índice de un elemento\n",
        "materias.index(\"GEOMETRIA\")"
      ]
    },
    {
      "cell_type": "markdown",
      "metadata": {
        "id": "pwOrB_RVFDFk"
      },
      "source": [
        "Algunos métodos modifican la lista original"
      ]
    },
    {
      "cell_type": "code",
      "execution_count": null,
      "metadata": {
        "id": "IBg3RwSoFGK5",
        "colab": {
          "base_uri": "https://localhost:8080/"
        },
        "outputId": "93cc93a0-87ac-450f-d8c6-feedcd496f6a"
      },
      "outputs": [
        {
          "output_type": "stream",
          "name": "stdout",
          "text": [
            "['ALGEBRA', 'ALGEBRA SUPERIOR', 'ESTADISTICA', 'FINANZAS', 'GEOMETRIA', 'PROGRAMACION']\n"
          ]
        }
      ],
      "source": [
        "#Ordena los elementos\n",
        "materias.sort()\n",
        "print(materias)"
      ]
    },
    {
      "cell_type": "code",
      "execution_count": null,
      "metadata": {
        "id": "ZNJMu-uGFOWn",
        "colab": {
          "base_uri": "https://localhost:8080/"
        },
        "outputId": "e91c4802-03ce-40d8-8093-e5e3507cd471"
      },
      "outputs": [
        {
          "output_type": "stream",
          "name": "stdout",
          "text": [
            "['ALGEBRA', 'ALGEBRA SUPERIOR', 'ESTADISTICA', 'FINANZAS', 'GEOMETRIA']\n",
            "PROGRAMACION\n"
          ]
        }
      ],
      "source": [
        "# list.pop: Obten último elemento y elimínalo de la lista\n",
        "extraccion = materias.pop()\n",
        "print(materias)\n",
        "print(extraccion)"
      ]
    },
    {
      "cell_type": "markdown",
      "metadata": {
        "id": "HMytMqcWFYWi"
      },
      "source": [
        "### Cadenas (*strings*) `str` y Listas `list`\n",
        "Los strings contienen métodos cuyos resultados o argumentos contienen listas"
      ]
    },
    {
      "cell_type": "markdown",
      "metadata": {
        "id": "IhupCqDKFzOp"
      },
      "source": [
        "### *Split*: de str a list"
      ]
    },
    {
      "cell_type": "code",
      "execution_count": null,
      "metadata": {
        "id": "BKHyBmpCFjcO",
        "colab": {
          "base_uri": "https://localhost:8080/"
        },
        "outputId": "3792b193-74a7-4e57-c757-12c457b22374"
      },
      "outputs": [
        {
          "output_type": "execute_result",
          "data": {
            "text/plain": [
              "['Este', 'es', 'un', 'string']"
            ]
          },
          "metadata": {},
          "execution_count": 35
        }
      ],
      "source": [
        "# *Split*: de str a list\n",
        "\"Este es un string\".split()"
      ]
    },
    {
      "cell_type": "markdown",
      "metadata": {
        "id": "CFbIMxYdF5PD"
      },
      "source": [
        "### *join* de list a str"
      ]
    },
    {
      "cell_type": "code",
      "execution_count": null,
      "metadata": {
        "id": "9bDKvGdVFxkV",
        "colab": {
          "base_uri": "https://localhost:8080/",
          "height": 35
        },
        "outputId": "ed7597d9-54fe-49c5-9694-f7fe22f16f0e"
      },
      "outputs": [
        {
          "output_type": "execute_result",
          "data": {
            "text/plain": [
              "'Esta es una lista'"
            ],
            "application/vnd.google.colaboratory.intrinsic+json": {
              "type": "string"
            }
          },
          "metadata": {},
          "execution_count": 36
        }
      ],
      "source": [
        "# *join* de list a str\n",
        "\" \".join([\"Esta\", \"es\", \"una\", \"lista\"])"
      ]
    },
    {
      "cell_type": "markdown",
      "metadata": {
        "id": "_mA-QhojGU3g"
      },
      "source": [
        "<h2 style=\"color:#B22222\"> Ejercicios </h2>\n",
        "\n",
        "1. Considera la lista `numeros0` y cálcula el valor promedio\n",
        "```python\n",
        "numeros0 = [1, 1, 2, 3, 5, 8, 13]\n",
        "```\n",
        "2. Considera la lista `numeros1` y cálcula la suma del primer, último y el número en medio de la lista (**nota:** El número de elementos en la lista es impar)\n",
        "```python\n",
        "numeros1 = [0, 7, 20, 11, 1, 17, 4, 13, 9, 0, 12, 18, 5, 10, 8, 0, 10, 6, 19, 19, 10, 9, 4, 4, 18, 18, 0]\n",
        "```\n",
        "3. Crea un programa que le pida al usuario una serie de números separados por un espacio `\" \"` y regrese la suma de todos los valores.\n",
        "4. Considerando `list1`, reemplaza cada elemento `\"a\"` por `\"*\"`.\n",
        "```python\n",
        "list1 = [\"a\", \"b\", \"a\", \"d\", \"a\", \"a\", \"c\"]\n",
        "```"
      ]
    },
    {
      "cell_type": "code",
      "execution_count": null,
      "metadata": {
        "id": "2l41ZtU58qyc",
        "colab": {
          "base_uri": "https://localhost:8080/"
        },
        "outputId": "d5671f9c-f4f3-4fcf-eb26-7bb2561cc3c5"
      },
      "outputs": [
        {
          "output_type": "stream",
          "name": "stdout",
          "text": [
            "La suma de la lista [1, 1, 2, 3, 5, 8, 13] es 33\n",
            "El promedio de la lista [1, 1, 2, 3, 5, 8, 13] es 4.714285714285714\n"
          ]
        }
      ],
      "source": [
        "#Solución Ej 1\n",
        "numeros0 = [1, 1, 2, 3, 5, 8, 13]\n",
        "suma = sum(numeros0)\n",
        "promedio = suma/len(numeros0)\n",
        "print(f\"La suma de la lista {numeros0} es {suma}\")\n",
        "print(f\"El promedio de la lista {numeros0} es {promedio}\")"
      ]
    },
    {
      "cell_type": "code",
      "execution_count": null,
      "metadata": {
        "id": "faR8H8Js91-b",
        "colab": {
          "base_uri": "https://localhost:8080/"
        },
        "outputId": "976acc51-6433-484f-dbe2-4c2444e17cc5"
      },
      "outputs": [
        {
          "output_type": "stream",
          "name": "stdout",
          "text": [
            "1 2\n",
            "13\n",
            "La suma es:  13\n"
          ]
        }
      ],
      "source": [
        "#Solución Ej 2\n",
        "numeros1 = [1, 7, 20, 11, 1, 17, 4, 13, 9, 0, 12, 18, 5, 10, 8, 0, 10, 6, 19, 19, 10, 9, 4, 4, 18, 18, 2]\n",
        "primero = numeros1[0]\n",
        "ultimo =  numeros1[-1]\n",
        "print(primero,ultimo)\n",
        "posicionmedia = int(len(numeros1) / 2)\n",
        "print(posicionmedia)\n",
        "medio = numeros1[posicionmedia]\n",
        "print(\"La suma es: \",primero+medio+ultimo)"
      ]
    },
    {
      "cell_type": "code",
      "execution_count": null,
      "metadata": {
        "id": "dGefo7VHzjpv",
        "colab": {
          "base_uri": "https://localhost:8080/",
          "height": 408
        },
        "outputId": "34541154-dc46-4051-c89a-781de062bd07"
      },
      "outputs": [
        {
          "output_type": "error",
          "ename": "KeyboardInterrupt",
          "evalue": "Interrupted by user",
          "traceback": [
            "\u001b[0;31m---------------------------------------------------------------------------\u001b[0m",
            "\u001b[0;31mKeyboardInterrupt\u001b[0m                         Traceback (most recent call last)",
            "\u001b[0;32m<ipython-input-39-17a7f96de546>\u001b[0m in \u001b[0;36m<cell line: 2>\u001b[0;34m()\u001b[0m\n\u001b[1;32m      1\u001b[0m \u001b[0;31m#Solución Ej 3\u001b[0m\u001b[0;34m\u001b[0m\u001b[0;34m\u001b[0m\u001b[0m\n\u001b[0;32m----> 2\u001b[0;31m \u001b[0mlistanumeros\u001b[0m \u001b[0;34m=\u001b[0m \u001b[0minput\u001b[0m\u001b[0;34m(\u001b[0m\u001b[0;34m\"Dame la lista de números separados con espacio:\"\u001b[0m\u001b[0;34m)\u001b[0m\u001b[0;34m\u001b[0m\u001b[0;34m\u001b[0m\u001b[0m\n\u001b[0m\u001b[1;32m      3\u001b[0m \u001b[0mprint\u001b[0m\u001b[0;34m(\u001b[0m\u001b[0mlistanumeros\u001b[0m\u001b[0;34m)\u001b[0m\u001b[0;34m\u001b[0m\u001b[0;34m\u001b[0m\u001b[0m\n\u001b[1;32m      4\u001b[0m \u001b[0mlista\u001b[0m \u001b[0;34m=\u001b[0m \u001b[0mlistanumeros\u001b[0m\u001b[0;34m.\u001b[0m\u001b[0msplit\u001b[0m\u001b[0;34m(\u001b[0m\u001b[0;34m)\u001b[0m\u001b[0;34m\u001b[0m\u001b[0;34m\u001b[0m\u001b[0m\n\u001b[1;32m      5\u001b[0m \u001b[0mprint\u001b[0m\u001b[0;34m(\u001b[0m\u001b[0mlista\u001b[0m\u001b[0;34m)\u001b[0m\u001b[0;34m\u001b[0m\u001b[0;34m\u001b[0m\u001b[0m\n",
            "\u001b[0;32m/usr/local/lib/python3.10/dist-packages/ipykernel/kernelbase.py\u001b[0m in \u001b[0;36mraw_input\u001b[0;34m(self, prompt)\u001b[0m\n\u001b[1;32m    849\u001b[0m                 \u001b[0;34m\"raw_input was called, but this frontend does not support input requests.\"\u001b[0m\u001b[0;34m\u001b[0m\u001b[0;34m\u001b[0m\u001b[0m\n\u001b[1;32m    850\u001b[0m             )\n\u001b[0;32m--> 851\u001b[0;31m         return self._input_request(str(prompt),\n\u001b[0m\u001b[1;32m    852\u001b[0m             \u001b[0mself\u001b[0m\u001b[0;34m.\u001b[0m\u001b[0m_parent_ident\u001b[0m\u001b[0;34m,\u001b[0m\u001b[0;34m\u001b[0m\u001b[0;34m\u001b[0m\u001b[0m\n\u001b[1;32m    853\u001b[0m             \u001b[0mself\u001b[0m\u001b[0;34m.\u001b[0m\u001b[0m_parent_header\u001b[0m\u001b[0;34m,\u001b[0m\u001b[0;34m\u001b[0m\u001b[0;34m\u001b[0m\u001b[0m\n",
            "\u001b[0;32m/usr/local/lib/python3.10/dist-packages/ipykernel/kernelbase.py\u001b[0m in \u001b[0;36m_input_request\u001b[0;34m(self, prompt, ident, parent, password)\u001b[0m\n\u001b[1;32m    893\u001b[0m             \u001b[0;32mexcept\u001b[0m \u001b[0mKeyboardInterrupt\u001b[0m\u001b[0;34m:\u001b[0m\u001b[0;34m\u001b[0m\u001b[0;34m\u001b[0m\u001b[0m\n\u001b[1;32m    894\u001b[0m                 \u001b[0;31m# re-raise KeyboardInterrupt, to truncate traceback\u001b[0m\u001b[0;34m\u001b[0m\u001b[0;34m\u001b[0m\u001b[0m\n\u001b[0;32m--> 895\u001b[0;31m                 \u001b[0;32mraise\u001b[0m \u001b[0mKeyboardInterrupt\u001b[0m\u001b[0;34m(\u001b[0m\u001b[0;34m\"Interrupted by user\"\u001b[0m\u001b[0;34m)\u001b[0m \u001b[0;32mfrom\u001b[0m \u001b[0;32mNone\u001b[0m\u001b[0;34m\u001b[0m\u001b[0;34m\u001b[0m\u001b[0m\n\u001b[0m\u001b[1;32m    896\u001b[0m             \u001b[0;32mexcept\u001b[0m \u001b[0mException\u001b[0m \u001b[0;32mas\u001b[0m \u001b[0me\u001b[0m\u001b[0;34m:\u001b[0m\u001b[0;34m\u001b[0m\u001b[0;34m\u001b[0m\u001b[0m\n\u001b[1;32m    897\u001b[0m                 \u001b[0mself\u001b[0m\u001b[0;34m.\u001b[0m\u001b[0mlog\u001b[0m\u001b[0;34m.\u001b[0m\u001b[0mwarning\u001b[0m\u001b[0;34m(\u001b[0m\u001b[0;34m\"Invalid Message:\"\u001b[0m\u001b[0;34m,\u001b[0m \u001b[0mexc_info\u001b[0m\u001b[0;34m=\u001b[0m\u001b[0;32mTrue\u001b[0m\u001b[0;34m)\u001b[0m\u001b[0;34m\u001b[0m\u001b[0;34m\u001b[0m\u001b[0m\n",
            "\u001b[0;31mKeyboardInterrupt\u001b[0m: Interrupted by user"
          ]
        }
      ],
      "source": [
        "#Solución Ej 3\n",
        "listanumeros = input(\"Dame la lista de números separados con espacio:\")\n",
        "print(listanumeros)\n",
        "lista = listanumeros.split()\n",
        "print(lista)\n",
        "#Usaremos map para resolverlo\n",
        "lista2 = list(map(int,lista))\n",
        "print(lista2)\n",
        "print(f\" La suma de la lista {lista2} es {sum(lista2)}\")"
      ]
    },
    {
      "cell_type": "code",
      "execution_count": null,
      "metadata": {
        "id": "wjW4-npOzngD"
      },
      "outputs": [],
      "source": [
        "#Solución Ej 4\n",
        "list1 = [\"a\", \"b\", \"a\", \"d\", \"a\", \"a\", \"c\"]\n",
        "print(list1)\n",
        "cadena = \" \".join(list1)\n",
        "print(cadena)\n",
        "cadena = cadena.replace(\"a\",\"*\")\n",
        "print(cadena)\n",
        "list1 = cadena.split()\n",
        "print(list1)"
      ]
    },
    {
      "cell_type": "markdown",
      "metadata": {
        "id": "POw6F1I1vZUE"
      },
      "source": [
        "# (Tuplas)\n",
        "Una tupla es una colección de objetos ordenados que encierra sus elementos con paréntesis () y los separa con comas. Las tuplas son muy similares a las listas, y pueden almacenar objetos de tipo distinto como enteros y *strings* entre otros. Sin embargo, al contrario que las listas presentan la propiedad de **inmutabilidad**. Esto implica que **los elementos de una tupla no pueden reasignarse (modificarse)**. El siguiente ejemplo ilustra estos dos conceptos"
      ]
    },
    {
      "cell_type": "code",
      "execution_count": null,
      "metadata": {
        "id": "256Hmilbvh26"
      },
      "outputs": [],
      "source": [
        "materias = (\"CALCULO\", \"FINANZAS\", \"OPTIMIZACION\", \"GEOMETRIA\", \"PROGRAMACION\", \"ESTADISTICA\")\n",
        "otratupla = (1,\"dos\",3)\n",
        "print(type(materias))\n",
        "print(type(otratupla))"
      ]
    },
    {
      "cell_type": "markdown",
      "metadata": {
        "id": "7Kff4p3gvnv4"
      },
      "source": [
        "### Propiedades de una *tupla*:"
      ]
    },
    {
      "cell_type": "code",
      "execution_count": null,
      "metadata": {
        "id": "JuiEj6UMvrja"
      },
      "outputs": [],
      "source": [
        "print(materias[0])\n",
        "print(otratupla[1])"
      ]
    },
    {
      "cell_type": "code",
      "execution_count": null,
      "metadata": {
        "id": "q4XEX5BTvvUS"
      },
      "outputs": [],
      "source": [
        "materias[0] = \"PROBABILIDAD\" #Nos marcará error pues una tupla es inmutable"
      ]
    },
    {
      "cell_type": "markdown",
      "metadata": {
        "id": "SUGw1NK6wEo1"
      },
      "source": [
        "### ¿Por qué usar *tuplas*?\n",
        "A pesar de todas sus similitudes, existen diferentes motivos por los cuales optar por una tupla y no una lista::\n",
        "\n",
        "* Manipular tuplas agiliza la ejecución del programa en comparación con una lista equivalente (aunque esta diferencia no sea apreciable con tamaños pequeños de listas o tuplas).\n",
        "* Cuando quieres que los datos sean constantes durante toda la ejecución del programa y no puedan modificarse accidentalmente.\n",
        "* En los diccionarios el objeto de una clave tiene que ser inmutable, por tanto puede ser una tupla pero no una lista."
      ]
    },
    {
      "cell_type": "markdown",
      "metadata": {
        "id": "VugabwJqzBGL"
      },
      "source": [
        "### Empaquetar y desempaquetar una tupla\n",
        "Las tuplas también pueden declararse sin necesidad de usar paréntesis. Cual sea el caso, la declaración de una tupla también se le denomina «empaquetar» la tupla (*tuple packing en inglés*), ya que todos sus elementos quedan asociados a un solo objeto."
      ]
    },
    {
      "cell_type": "code",
      "execution_count": null,
      "metadata": {
        "id": "zNxVKDcUzSw5"
      },
      "outputs": [],
      "source": [
        " #Las tuplas pueden declararse sin los paréntesis\n",
        " t = 'uno', 'dos', 'tres', 'cuatro'\n",
        " print(type(t))\n",
        " print(t)"
      ]
    },
    {
      "cell_type": "markdown",
      "metadata": {
        "id": "lPZnGBchzksN"
      },
      "source": [
        "En el caso tuplas con un solo elemento hay que añadir una coma para que el intérprete de Python lo considere una tupla."
      ]
    },
    {
      "cell_type": "code",
      "execution_count": null,
      "metadata": {
        "id": "u8nf0RhvzoUd"
      },
      "outputs": [],
      "source": [
        "t = 1\n",
        "print(type(t))\n",
        "t = 1,\n",
        "print(type(t))"
      ]
    },
    {
      "cell_type": "markdown",
      "metadata": {
        "id": "CGDvOGHb0FG_"
      },
      "source": [
        "Al paso inverso se le denomina «desempaquetar» la tupla (*tuple unpacking* en inglés), ya que los elementos de la tupla se copian en objetos distintos.\n",
        "\n"
      ]
    },
    {
      "cell_type": "code",
      "execution_count": null,
      "metadata": {
        "id": "j1nhIfw_0Nmr"
      },
      "outputs": [],
      "source": [
        "#Brujería\n",
        "t = ('Belinda', '31', 'Cantante', 'México')\n",
        "nombre,edad,profesion,pais = t\n",
        "print(f\"Nombre: {nombre} \\nEdad: {edad}\\nProfesión: {profesion}\\nPaís donde radica: {pais}\")\n"
      ]
    },
    {
      "cell_type": "markdown",
      "metadata": {
        "id": "g4VuYjO41Re3"
      },
      "source": [
        "El número de objetos declarados para «desempaquetar» la tupla tiene que coincidir con el número de elementos de la tupla, ya que en caso contrario el intérprete lanza un error del tipo ValueError."
      ]
    },
    {
      "cell_type": "markdown",
      "metadata": {
        "id": "42fLvizH1mtN"
      },
      "source": [
        "### Métodos de las tuplas\n",
        "Las tuplas cuentan con dos métodos:\n",
        "\n",
        "**t.count(x)** : cuenta el número de veces que el elemento x está en la tupla t.\n",
        "```\n",
        "t.count(x)\n",
        "```\n",
        "\n"
      ]
    },
    {
      "cell_type": "code",
      "execution_count": null,
      "metadata": {
        "id": "y5H_Yz8-2L-X"
      },
      "outputs": [],
      "source": [
        "t = (1, 1, 2, 3)\n",
        "print(t.count(1))"
      ]
    },
    {
      "cell_type": "markdown",
      "metadata": {
        "id": "mRhoSm5k2Sgb"
      },
      "source": [
        "t.index(x) : retorna el índice más pequeño del elemento x en la tupla t.\n",
        "\n",
        "\n",
        "```\n",
        "t.index(x)\n",
        "```\n",
        "\n"
      ]
    },
    {
      "cell_type": "code",
      "execution_count": null,
      "metadata": {
        "id": "2nzkPW022a0t"
      },
      "outputs": [],
      "source": [
        "t = (1, 1, 2, 3)\n",
        "print(t.index(3))"
      ]
    },
    {
      "cell_type": "markdown",
      "metadata": {
        "id": "xCmE-MTg2req"
      },
      "source": [
        "### Conversión entre listas y tuplas\n",
        "La conversión entre estos dos tipos de objetos es muy sencilla. Si queremos convertir una lista en una tupla tenemos que usar declarar la tupla pasandole la lista en el constructor."
      ]
    },
    {
      "cell_type": "code",
      "execution_count": null,
      "metadata": {
        "id": "Urm3wq-t2x3T"
      },
      "outputs": [],
      "source": [
        " lista = [1, 2, 3, 4]\n",
        " tupla = tuple(lista)\n",
        " print(tupla)"
      ]
    },
    {
      "cell_type": "markdown",
      "metadata": {
        "id": "mCpeE4VP26QR"
      },
      "source": [
        "El paso inverso es equivalente, pero pasándole la tupla al constructor de la lista."
      ]
    },
    {
      "cell_type": "code",
      "execution_count": null,
      "metadata": {
        "id": "0IyrWHuG28O4"
      },
      "outputs": [],
      "source": [
        " tupla = (1, 2, 3, 4)\n",
        " lista = list(tupla)\n",
        " print(lista)"
      ]
    },
    {
      "cell_type": "markdown",
      "metadata": {
        "id": "a7XUMc2Z3XD_"
      },
      "source": [
        "# {Diccionaries: Values}\n",
        "Hasta el momento hemos visto colecciones de elementos ordenados por un único índice numérico. Ahora veremos otra clase de objetos, los **diccionarios**, los cuáles son listas asociativas indexadas por llave; no por orden.\n",
        "\n",
        "La sintáxis de un diccionario:\n",
        "```python\n",
        "{llave1: valor1,\n",
        " llave2: valor2,\n",
        " ...\n",
        " llaven: valorn}\n",
        "```"
      ]
    },
    {
      "cell_type": "markdown",
      "metadata": {
        "id": "3oWLyWnE367R"
      },
      "source": [
        "Los diccionarios almacenan pares de objetos clave-valor. En contraste con las listas, los diccionarios no garantizan que se mantenga el orden en que sus objetos han sido almacenados. Además, en un diccionario el acceso a un objeto se realiza indicando la clave de ese objeto. Este es otro elemento diferenciador entre diccionarios y listas, donde el acceso a los objetos se realiza indicando la posición que ocupan. Los diccionarios utilizan llaves ({}) para encerrar a sus elementos, y dos puntos (:) para indicar las claves y sus valores asociados."
      ]
    },
    {
      "cell_type": "code",
      "execution_count": null,
      "metadata": {
        "id": "Q6qLskPj4Dv5",
        "colab": {
          "base_uri": "https://localhost:8080/"
        },
        "outputId": "a9bd282d-1534-4c6d-e44d-da27a689c4e6"
      },
      "outputs": [
        {
          "output_type": "stream",
          "name": "stdout",
          "text": [
            "<class 'dict'>\n"
          ]
        }
      ],
      "source": [
        "diccionario = {'clave1':'valor1', 'clave2':'valor2'}\n",
        "print(type(diccionario))"
      ]
    },
    {
      "cell_type": "code",
      "execution_count": null,
      "metadata": {
        "id": "xx1BpQUpo2r9",
        "colab": {
          "base_uri": "https://localhost:8080/"
        },
        "outputId": "1e04632f-9b3f-4f75-b872-7a63dd4d4056"
      },
      "outputs": [
        {
          "output_type": "stream",
          "name": "stdout",
          "text": [
            "2\n"
          ]
        }
      ],
      "source": [
        "#Longitud (número de elementos) del diccionario\n",
        "print(len(diccionario))"
      ]
    },
    {
      "cell_type": "markdown",
      "metadata": {
        "id": "pdvuG88L75eO"
      },
      "source": [
        "## Tipos de clave-valor permitidos.\n",
        "Los diccionarios pueden tratar con prácticamente cualquier tipo de dato y existen muy pocas restricciones en cuanto a las claves y valores que se pueden utilizar. Estas restricciones son las siguientes:\n",
        "\n",
        "* **Claves**: no puede haber claves duplicadas y éstas tienen que ser objetos inmutables.\n",
        "* **Valores**: no existe ninguna restricción en cuanto a los tipos de datos.\n"
      ]
    },
    {
      "cell_type": "markdown",
      "metadata": {
        "id": "YLXM0sPQ8ZHX"
      },
      "source": [
        "En el siguiente ejemplo vemos un diccionario con claves de distinto tipo: string, número entero, número en coma flotante, e incluso booleano. Así mismo el valor que se toma para las claves repetidas es el último que se ha definido. Es por ello que el valor asociado a la clave «2» es False."
      ]
    },
    {
      "cell_type": "code",
      "execution_count": null,
      "metadata": {
        "colab": {
          "base_uri": "https://localhost:8080/"
        },
        "id": "sABrUCAb8bj3",
        "outputId": "7f5c6c0d-91c5-4c21-f5b8-df0122f20996"
      },
      "outputs": [
        {
          "output_type": "stream",
          "name": "stdout",
          "text": [
            "{'clave1': 'valor1', 2: False, 3.1: 3, True: ['a', 'b', 'c']}\n"
          ]
        }
      ],
      "source": [
        "diccionario = {'clave1':'valor1', 2:2.5, 3.1:3, True:['a','b','c'], 2:False}\n",
        "print(diccionario)"
      ]
    },
    {
      "cell_type": "markdown",
      "metadata": {
        "id": "eA2WLh8v8xYC"
      },
      "source": [
        "## Acceder y modificar los objetos de un diccionario\n",
        "Para acceder a un objeto determinado de un diccionario tenemos que indicar entre corchetes el nombre de su clave. De modo muy similar podemos modificar el valor de una clave asignándole un nuevo valor mediante el signo igual (=). Además, también podemos añadir un nuevo par clave-valor indicando simplemente el nombre de la clave a añadir. Estas operaciones se ilustran en el siguiente bloque de código donde:\n",
        "* i) accedemos al precio de las manzanas,\n",
        "* ii) modificamos el precio de las manzanas y\n",
        "* iii) añadimos el precio del agua al diccionario de precios."
      ]
    },
    {
      "cell_type": "code",
      "execution_count": null,
      "metadata": {
        "colab": {
          "base_uri": "https://localhost:8080/"
        },
        "id": "Xmmpa4HO9Ej8",
        "outputId": "a2a3fd01-7e54-44fd-f1dc-ef492a48825c"
      },
      "outputs": [
        {
          "output_type": "stream",
          "name": "stdout",
          "text": [
            "El precio de las manzanas es:  0.35\n",
            "El precio de las manzanas es:  0.29\n",
            "{'pasta': 0.9, 'patatas': 2.55, 'manzanas': 0.29, 'agua': 1.5}\n"
          ]
        }
      ],
      "source": [
        "precios = {'pasta':0.9, 'patatas':2.55, 'manzanas':0.35}\n",
        "#Accedemos al precio de las manzanas\n",
        "print(\"El precio de las manzanas es: \",precios['manzanas'])\n",
        "#Cambiamos el precio de las manzanas\n",
        "precios['manzanas'] = 0.29\n",
        "print(\"El precio de las manzanas es: \",precios['manzanas'])\n",
        "#Añadimos el precio del agua al diccionario\n",
        "precios[\"agua\"] = 1.50\n",
        "print(precios)"
      ]
    },
    {
      "cell_type": "markdown",
      "metadata": {
        "id": "mCExnaaW9-Xo"
      },
      "source": [
        "## Métodos comunes de los diccionarios\n",
        "\n",
        "En este apartado vemos algunos de los métodos más útiles para manipular diccionarios.\n",
        "* **d.keys()**: devuelve una lista que contiene las llaves del diccionario."
      ]
    },
    {
      "cell_type": "code",
      "execution_count": null,
      "metadata": {
        "colab": {
          "base_uri": "https://localhost:8080/"
        },
        "id": "MsWEVJBznEDY",
        "outputId": "a56035c6-0d86-4340-d287-f087c03bbb22"
      },
      "outputs": [
        {
          "output_type": "stream",
          "name": "stdout",
          "text": [
            "['Inglaterra', 'Francia', 'Italia']\n"
          ]
        }
      ],
      "source": [
        " capitales = {'Inglaterra':'Londres', 'Francia':'Paris', 'Italia':'Roma'}\n",
        " print(list(capitales.keys()))"
      ]
    },
    {
      "cell_type": "markdown",
      "metadata": {
        "id": "UPLYEulbnUqk"
      },
      "source": [
        "* **d.values()**: devuelve una lista que contiene los valores del diccionario."
      ]
    },
    {
      "cell_type": "code",
      "execution_count": null,
      "metadata": {
        "colab": {
          "base_uri": "https://localhost:8080/"
        },
        "id": "0cpVTMlOnXPw",
        "outputId": "f69f92d3-0a07-4b65-bb16-b30a97346e2f"
      },
      "outputs": [
        {
          "output_type": "stream",
          "name": "stdout",
          "text": [
            "['Londres', 'Paris', 'Roma']\n"
          ]
        }
      ],
      "source": [
        " capitales = {'Inglaterra':'Londres', 'Francia':'Paris', 'Italia':'Roma'}\n",
        " print(list(capitales.values()))"
      ]
    },
    {
      "cell_type": "markdown",
      "metadata": {
        "id": "7DKZsKIJneB2"
      },
      "source": [
        "* **d.clear()**: elimina todos los elementos del diccionario."
      ]
    },
    {
      "cell_type": "code",
      "execution_count": null,
      "metadata": {
        "colab": {
          "base_uri": "https://localhost:8080/"
        },
        "id": "OYOmUpGWniYg",
        "outputId": "69593989-00ca-4f44-b77e-a65bcbf37bb3"
      },
      "outputs": [
        {
          "output_type": "stream",
          "name": "stdout",
          "text": [
            "{}\n"
          ]
        }
      ],
      "source": [
        "capitales = {'Inglaterra':'Londres', 'Francia':'Paris', 'Italia':'Roma'}\n",
        "capitales.clear()\n",
        "print(capitales)"
      ]
    },
    {
      "cell_type": "markdown",
      "metadata": {
        "id": "70rldvVHnsAL"
      },
      "source": [
        "* **d.get(clave, valor_por_defecto)**: devuelve el valor de la clave indicada en caso que ésta exista. En caso contrario devuelve el valor por defecto."
      ]
    },
    {
      "cell_type": "code",
      "execution_count": null,
      "metadata": {
        "colab": {
          "base_uri": "https://localhost:8080/"
        },
        "id": "3r9gKjYAnvMY",
        "outputId": "ab26f721-7607-40c6-850f-3b87b822f63b"
      },
      "outputs": [
        {
          "output_type": "stream",
          "name": "stdout",
          "text": [
            "Paris\n"
          ]
        }
      ],
      "source": [
        "capitales = {'Inglaterra':'Londres', 'Francia':'Paris', 'Italia':'Roma'}\n",
        "capital = capitales.get('Francia', 'Desconocida')\n",
        "print(capital)"
      ]
    },
    {
      "cell_type": "markdown",
      "metadata": {
        "id": "qsajVGtln8qZ"
      },
      "source": [
        "* **d.pop(clave, valor_por_defecto)**: elimina la clave indicada y devuelve su valor. En caso que el diccionario no contenga la clave especificada, retorna el valor por defecto."
      ]
    },
    {
      "cell_type": "code",
      "execution_count": null,
      "metadata": {
        "colab": {
          "base_uri": "https://localhost:8080/"
        },
        "id": "ftGntr-MoACR",
        "outputId": "418b8fd7-ac35-4667-97c5-a652c5649ca6"
      },
      "outputs": [
        {
          "output_type": "stream",
          "name": "stdout",
          "text": [
            "Paris\n",
            "{'Inglaterra': 'Londres', 'Italia': 'Roma'}\n",
            "Berlin\n"
          ]
        }
      ],
      "source": [
        "capitales = {'Inglaterra':'Londres', 'Francia':'Paris', 'Italia':'Roma'}\n",
        "capital = capitales.pop('Francia')\n",
        "print(capital)\n",
        "print(capitales)\n",
        "capital = capitales.pop('Alemania', 'Berlin')\n",
        "print(capital)"
      ]
    },
    {
      "cell_type": "markdown",
      "metadata": {
        "id": "0PTB3GyariD1"
      },
      "source": [
        "* **d.items()**: devuelve una lista de tuplas con dos elementos. Primero la llave y segundo los valores."
      ]
    },
    {
      "cell_type": "code",
      "execution_count": null,
      "metadata": {
        "id": "BSPn1qZrru8I",
        "colab": {
          "base_uri": "https://localhost:8080/"
        },
        "outputId": "3ea84952-20f5-497e-fd22-d71c1ac7c5e4"
      },
      "outputs": [
        {
          "output_type": "stream",
          "name": "stdout",
          "text": [
            "Diccionario: {'José': [11, 'rojo', 'Administración'], 'Charlie': [33, 'Violeta', 'Ingeniería'], 'Luis': [23, 'Negro', 'Matemáticas'], 'Johanna': [18, 'Gris', 'Finanzas']} \n",
            "\n",
            "[('José', [11, 'rojo', 'Administración']), ('Charlie', [33, 'Violeta', 'Ingeniería']), ('Luis', [23, 'Negro', 'Matemáticas']), ('Johanna', [18, 'Gris', 'Finanzas'])]\n"
          ]
        }
      ],
      "source": [
        "alumnos = {\n",
        "    \"José\":    [11, \"rojo\", \"Administración\"],\n",
        "    \"Charlie\": [33, \"Violeta\", \"Ingeniería\"],\n",
        "    \"Luis\": [23, \"Negro\", \"Matemáticas\"],\n",
        "    \"Johanna\": [18, \"Gris\", \"Finanzas\"]\n",
        "}\n",
        "print(\"Diccionario:\", alumnos,\"\\n\")\n",
        "#Lista con las tuplas\n",
        "listatup = list(alumnos.items())\n",
        "print(listatup)"
      ]
    },
    {
      "cell_type": "code",
      "execution_count": null,
      "metadata": {
        "id": "yId6gaSPIs8p",
        "colab": {
          "base_uri": "https://localhost:8080/"
        },
        "outputId": "43f930f3-7410-42d8-d6c2-6064db33ab10"
      },
      "outputs": [
        {
          "output_type": "stream",
          "name": "stdout",
          "text": [
            "José\n",
            "[11, 'rojo', 'Administración']\n"
          ]
        }
      ],
      "source": [
        "llave,datos = listatup[0]\n",
        "print(llave)\n",
        "print(datos)"
      ]
    },
    {
      "cell_type": "markdown",
      "metadata": {
        "id": "fnHk_hnGsxEZ"
      },
      "source": [
        "## {Conjuntos} o {Sets}\n",
        "\n",
        "Un `set` (conjunto) es una colección no ordenada de valores únicos. Para dos conjuntos `A`, `B` y valores `a` dentro de `A` y `b` dentro de `B`, se cumplen con las siguientes características\n",
        "* `A & B` (Intersección): Elementos en `A` y en `B`\n",
        "* `A | B` (Unión): Elementos en `A` o en `B`\n",
        "* `A - B` (Diferencia): Elementos en `A` no presentes en `B`\n",
        "* `A ^ B` (Diferencia Simétrica): Elementos en cualquiera de los conjuntos `A` o `B`, mas no en los dos.\n",
        "* `A <= B` (Subconjunto): Prueba si todos los elementos en `A` se encuentran dentro de `B`\n",
        "* `A >= B` (Superconjunto): Prueba si todos los elementos en `B` se encuentran dentro de `A`"
      ]
    },
    {
      "cell_type": "code",
      "execution_count": null,
      "metadata": {
        "id": "kVEDUL4ks22r"
      },
      "outputs": [],
      "source": [
        "vocales = {'a', 'e', 'i', 'o', 'u'}\n",
        "p1 = {'c', 'a', 'r', 'r', 'o'}"
      ]
    },
    {
      "cell_type": "code",
      "execution_count": null,
      "metadata": {
        "id": "zh6UhEyes7c4",
        "colab": {
          "base_uri": "https://localhost:8080/"
        },
        "outputId": "77c4d289-965e-40fe-953b-afa798c18bf0"
      },
      "outputs": [
        {
          "output_type": "execute_result",
          "data": {
            "text/plain": [
              "{'a', 'o'}"
            ]
          },
          "metadata": {},
          "execution_count": 7
        }
      ],
      "source": [
        "p1 & vocales"
      ]
    },
    {
      "cell_type": "code",
      "execution_count": null,
      "metadata": {
        "id": "NA-NY8SItA5O",
        "colab": {
          "base_uri": "https://localhost:8080/"
        },
        "outputId": "ff06ad96-8b1e-424f-81ba-f58360472514"
      },
      "outputs": [
        {
          "output_type": "execute_result",
          "data": {
            "text/plain": [
              "{'a', 'c', 'e', 'i', 'o', 'r', 'u'}"
            ]
          },
          "metadata": {},
          "execution_count": 8
        }
      ],
      "source": [
        "p1 | vocales"
      ]
    },
    {
      "cell_type": "code",
      "execution_count": null,
      "metadata": {
        "id": "5s7ooVOjtDEr",
        "colab": {
          "base_uri": "https://localhost:8080/"
        },
        "outputId": "b5f238c1-4b6a-4434-9c4e-bc324a2790c0"
      },
      "outputs": [
        {
          "output_type": "execute_result",
          "data": {
            "text/plain": [
              "{'c', 'r'}"
            ]
          },
          "metadata": {},
          "execution_count": 9
        }
      ],
      "source": [
        "p1 - vocales"
      ]
    },
    {
      "cell_type": "code",
      "execution_count": null,
      "metadata": {
        "id": "3WG2J-JrtGzo",
        "colab": {
          "base_uri": "https://localhost:8080/"
        },
        "outputId": "0974d942-8810-459a-cae5-54a755a84383"
      },
      "outputs": [
        {
          "output_type": "execute_result",
          "data": {
            "text/plain": [
              "{'c', 'e', 'i', 'r', 'u'}"
            ]
          },
          "metadata": {},
          "execution_count": 10
        }
      ],
      "source": [
        "p1 ^ vocales"
      ]
    },
    {
      "cell_type": "code",
      "execution_count": null,
      "metadata": {
        "id": "0vFYAeeWtYti",
        "colab": {
          "base_uri": "https://localhost:8080/"
        },
        "outputId": "e3097966-c6ff-4eed-a0c6-6ed18d16f38d"
      },
      "outputs": [
        {
          "output_type": "execute_result",
          "data": {
            "text/plain": [
              "4"
            ]
          },
          "metadata": {},
          "execution_count": 11
        }
      ],
      "source": [
        "len(p1)"
      ]
    },
    {
      "cell_type": "markdown",
      "metadata": {
        "id": "jbBz-fwZteJx"
      },
      "source": [
        "<h2 style=\"color:#B22222\"> Ejercicios </h2>\n",
        "\n",
        "1. Dado el diccionario `vocales`, accede al primer elemento dentro de la llave `\"minusculas\"`\n",
        "```python\n",
        "vocales = {\n",
        "    \"mayusculas\": ['A', 'E', 'I', 'O', 'U'],\n",
        "    \"minusculas\": ['a', 'e', 'i', 'o', 'u']\n",
        "}\n",
        "```\n",
        "2. Modifica el diccionario `alumnos` de tal manera que cada llave del diccionario sea el nombre del estudiante y el valor un diccionario adicional con las llaves `\"edad\"`, `\"color_favorito\"`, `\"carrera\"`, asignados a sus valores correspondientes.\n",
        "3. ¿Cuál es la longitud del set `{'q', 'u', 'e', 'u', 'e'}`? Explica.\n",
        "4. Considerando los conjuntos `investor1`, `investor2` e `investor3`\n",
        "    * Encuentra todas las acciones que `investor1`, `investor2`, `investor3` e `investor4` tienen en conjunto\n",
        "    * Encuentra las acciones que `investor1`, `investor3` e `investor4` tienen en común\n",
        "\n",
        "```python\n",
        "investor1 = {'HOTEL', 'CHDRAUI', 'ALPEK', 'VISTA', 'MFRISCO', 'AHMSA', 'LAB', 'SPORT', 'SAVIA', 'LASEG'}\n",
        "investor2 = {'CMOCTEZ', 'BEVIDES', 'OMA', 'GNP', 'AGRIEXP', 'SPORT', 'TRAXION', 'GENTERA', 'COLLADO', 'LAMOSA'}\n",
        "investor3 = {'FEMSA', 'ALSEA', 'BIMBO', 'ELEMENT', 'FINAMEX', 'GCC', 'VISTA', 'GEO', 'IENOVA', 'OMA', 'CADU', 'ANB', 'AUTLAN', 'GICSA', 'GFNORTE', 'IDEAL', 'MEXCHEM', 'ELEKTRA', 'SITES', 'CABLE'}\n",
        "investor4 = {'GENTERA', 'BOLSA', 'VISTA', 'TEAK', 'ACCELSA', 'CUERVO', 'TEKCHEM', 'QBINDUS', 'MEDICA', 'URBI', 'CIE', 'NEMAK', 'KIMBER', 'GPH', 'GMD', 'ACTINVR', 'GAP', 'JAVER', 'INGEAL', 'ARA'}\n",
        "```"
      ]
    },
    {
      "cell_type": "code",
      "execution_count": null,
      "metadata": {
        "id": "f006Jr7lKu2v",
        "colab": {
          "base_uri": "https://localhost:8080/"
        },
        "outputId": "733e48af-77c9-4617-8c5c-a4b4c705a260"
      },
      "outputs": [
        {
          "output_type": "stream",
          "name": "stdout",
          "text": [
            "a\n"
          ]
        }
      ],
      "source": [
        "#Ejercicio 1\n",
        "vocales = {\n",
        " \"mayusculas\": ['A', 'E', 'I', 'O', 'U'],\n",
        " \"minusculas\": ['a', 'e', 'i', 'o', 'u']\n",
        "}\n",
        "valores = vocales[\"minusculas\"]\n",
        "print(valores[0])"
      ]
    },
    {
      "cell_type": "code",
      "execution_count": null,
      "metadata": {
        "id": "bT1gMHpyL5ZU",
        "colab": {
          "base_uri": "https://localhost:8080/"
        },
        "outputId": "d37f68c2-15ae-46e9-9c8a-d50e7ac3e99b"
      },
      "outputs": [
        {
          "output_type": "stream",
          "name": "stdout",
          "text": [
            "<class 'dict'>\n",
            "{'edad': 23, 'color_favorito': 'Negro', 'carrera': 'Matemáticas'}\n"
          ]
        }
      ],
      "source": [
        "#Ejercicio 2\n",
        "# \"edad\", \"color_favorito\", \"carrera\"\n",
        "alumnos = {\n",
        "    \"José\":    {\"edad\":11, \"color_favorito\":\"rojo\", \"carrera\":\"Administración\"},\n",
        "    \"Charlie\": {\"edad\":33, \"color_favorito\":\"Violeta\", \"carrera\":\"Ingeniería\"},\n",
        "    \"Luis\": {\"edad\":23, \"color_favorito\":\"Negro\", \"carrera\":\"Matemáticas\"},\n",
        "    \"Johanna\": {\"edad\":18, \"color_favorito\":\"Gris\", \"carrera\":\"Finanzas\"}\n",
        "}\n",
        "\n",
        "dicc = alumnos[\"Luis\"]\n",
        "print(type(dicc))\n",
        "print(dicc)"
      ]
    }
  ],
  "metadata": {
    "colab": {
      "provenance": [],
      "include_colab_link": true
    },
    "kernelspec": {
      "display_name": "Python 3",
      "name": "python3"
    }
  },
  "nbformat": 4,
  "nbformat_minor": 0
}